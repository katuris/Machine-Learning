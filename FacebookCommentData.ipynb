{
 "cells": [
  {
   "cell_type": "code",
   "execution_count": 1,
   "metadata": {},
   "outputs": [],
   "source": [
    "import pandas as pd\n",
    "import numpy as np\n",
    "import matplotlib.pyplot as plt\n",
    "import warnings\n",
    "warnings.simplefilter(\"ignore\")\n",
    "from sklearn.svm import SVC, LinearSVC\n",
    "from sklearn.model_selection import cross_val_score\n",
    "from sklearn.model_selection import cross_validate\n",
    "from sklearn.model_selection import train_test_split\n",
    "from sklearn import preprocessing\n",
    "import seaborn as sns\n",
    "from sklearn.model_selection import learning_curve\n",
    "from sklearn.metrics import classification_report, confusion_matrix\n",
    "from sklearn import metrics\n",
    "from matplotlib import style\n",
    "from sklearn.model_selection import learning_curve\n",
    "from sklearn.tree import DecisionTreeClassifier\n",
    "from sklearn.metrics import confusion_matrix,classification_report,accuracy_score\n",
    "%matplotlib inline\n",
    "plt.style.use('ggplot')"
   ]
  },
  {
   "cell_type": "code",
   "execution_count": 2,
   "metadata": {},
   "outputs": [],
   "source": [
    "df = pd.read_csv(\"dataset.csv\", header = None,index_col= False,\n",
    "                 names=[\"Likes\",\"Checkin\",\"PageTheme\",\"PageCategory\",\"Derived5\",\"Derived6\",\"Derived7\",\"Derived8\",\"Derived9\",\"Derived10\",\n",
    "                       \"Derived11\",\"Derived12\",\"Derived13\",\"Derived14\",\"Derived15\",\"Derived16\",\"Derived17\",\"Derived18\",\"Derived19\",\n",
    "                       \"Derived20\",\"Derived21\",\"Derived22\",\"Derived23\",\"Derived24\",\"Derived25\",\"Derived26\",\"Derived27\",\"Derived28\",\"Derived29\",\n",
    "                       \"CC1\",\"CC2\",\"CC3\",\"CC4\",\"CC5\",\"BaseTime\",\"PostLength\",\"PostShareCount\",\"PostPromoStatus\",\"HLocal\",\"PostPublishSun\",\n",
    "                        \"PostPublishedMon\",\"PostPublishedTue\",\"PostPublishedWed\",\"PostPublishedThu\",\"PostPublishedFri\",\"PostPublishedSat\",\n",
    "                       \"BaseDateTimeSun\",\"BaseDateTimeMon\",\"BaseDateTimeTue\",\"BaseDateTimeWed\",\"BaseDateTimeThu\",\"BaseDateTimeFri\",\"BaseDateTimeSat\"\n",
    "                       ,\"Target\"])"
   ]
  },
  {
   "cell_type": "code",
   "execution_count": 3,
   "metadata": {},
   "outputs": [
    {
     "data": {
      "text/plain": [
       "7.103668103519464"
      ]
     },
     "execution_count": 3,
     "metadata": {},
     "output_type": "execute_result"
    }
   ],
   "source": [
    "# classifying the target variable\n",
    "np.mean(df.loc[:,'Target'])"
   ]
  },
  {
   "cell_type": "code",
   "execution_count": 4,
   "metadata": {},
   "outputs": [],
   "source": [
    "freq = df['Target'].value_counts()"
   ]
  },
  {
   "cell_type": "code",
   "execution_count": 5,
   "metadata": {
    "scrolled": true
   },
   "outputs": [],
   "source": [
    "freq_sorted = freq.sort_index(axis = 0, ascending = True)"
   ]
  },
  {
   "cell_type": "code",
   "execution_count": 6,
   "metadata": {},
   "outputs": [
    {
     "data": {
      "text/plain": [
       "0       66888\n",
       "1       15451\n",
       "2        7696\n",
       "3        4741\n",
       "4        3317\n",
       "        ...  \n",
       "1161        1\n",
       "1235        1\n",
       "1378        1\n",
       "1497        1\n",
       "1816        1\n",
       "Name: Target, Length: 510, dtype: int64"
      ]
     },
     "execution_count": 6,
     "metadata": {},
     "output_type": "execute_result"
    }
   ],
   "source": [
    "freq_sorted"
   ]
  },
  {
   "cell_type": "code",
   "execution_count": 7,
   "metadata": {},
   "outputs": [
    {
     "data": {
      "image/png": "[encoded data removed]",
      "text/plain": [
       "<Figure size 432x288 with 1 Axes>"
      ]
     },
     "metadata": {
      "needs_background": "light"
     },
     "output_type": "display_data"
    }
   ],
   "source": [
    "plt.figure()\n",
    "plt.plot(freq_sorted)\n",
    "plt.yticks([0,20000,40000,60000])\n",
    "plt.show()\n",
    "\n",
    "# as can be seen that most of the values are closer to 0-50 hrs. There is high chance of getting a post comment between that period\n",
    "# we will classify it as >0 positive class and =0 as negative class"
   ]
  },
  {
   "cell_type": "code",
   "execution_count": 8,
   "metadata": {},
   "outputs": [],
   "source": [
    "# stored in a new variable\n",
    "df_class = df.copy(deep=True)"
   ]
  },
  {
   "cell_type": "code",
   "execution_count": 9,
   "metadata": {},
   "outputs": [],
   "source": [
    "# Classifying anything greater than 0 as class positive and less than as class negative\n",
    "df_class['TargetClass'] = np.where(df['Target'] > 0 , 1, 0)"
   ]
  },
  {
   "cell_type": "code",
   "execution_count": 10,
   "metadata": {
    "scrolled": true
   },
   "outputs": [
    {
     "data": {
      "text/html": [
       "<div>\n",
       "<style scoped>\n",
       "    .dataframe tbody tr th:only-of-type {\n",
       "        vertical-align: middle;\n",
       "    }\n",
       "\n",
       "    .dataframe tbody tr th {\n",
       "        vertical-align: top;\n",
       "    }\n",
       "\n",
       "    .dataframe thead th {\n",
       "        text-align: right;\n",
       "    }\n",
       "</style>\n",
       "<table border=\"1\" class=\"dataframe\">\n",
       "  <thead>\n",
       "    <tr style=\"text-align: right;\">\n",
       "      <th></th>\n",
       "      <th>Likes</th>\n",
       "      <th>Checkin</th>\n",
       "      <th>PageTheme</th>\n",
       "      <th>PageCategory</th>\n",
       "      <th>Derived5</th>\n",
       "      <th>Derived6</th>\n",
       "      <th>Derived7</th>\n",
       "      <th>Derived8</th>\n",
       "      <th>Derived9</th>\n",
       "      <th>Derived10</th>\n",
       "      <th>...</th>\n",
       "      <th>PostPublishedFri</th>\n",
       "      <th>PostPublishedSat</th>\n",
       "      <th>BaseDateTimeSun</th>\n",
       "      <th>BaseDateTimeMon</th>\n",
       "      <th>BaseDateTimeTue</th>\n",
       "      <th>BaseDateTimeWed</th>\n",
       "      <th>BaseDateTimeThu</th>\n",
       "      <th>BaseDateTimeFri</th>\n",
       "      <th>BaseDateTimeSat</th>\n",
       "      <th>TargetClass</th>\n",
       "    </tr>\n",
       "  </thead>\n",
       "  <tbody>\n",
       "    <tr>\n",
       "      <td>0</td>\n",
       "      <td>634995</td>\n",
       "      <td>0</td>\n",
       "      <td>463</td>\n",
       "      <td>1</td>\n",
       "      <td>0.0</td>\n",
       "      <td>1280.0</td>\n",
       "      <td>14.807018</td>\n",
       "      <td>1.0</td>\n",
       "      <td>110.927036</td>\n",
       "      <td>0.0</td>\n",
       "      <td>...</td>\n",
       "      <td>0</td>\n",
       "      <td>0</td>\n",
       "      <td>0</td>\n",
       "      <td>0</td>\n",
       "      <td>0</td>\n",
       "      <td>0</td>\n",
       "      <td>0</td>\n",
       "      <td>0</td>\n",
       "      <td>1</td>\n",
       "      <td>0</td>\n",
       "    </tr>\n",
       "    <tr>\n",
       "      <td>1</td>\n",
       "      <td>634995</td>\n",
       "      <td>0</td>\n",
       "      <td>463</td>\n",
       "      <td>1</td>\n",
       "      <td>0.0</td>\n",
       "      <td>1280.0</td>\n",
       "      <td>14.807018</td>\n",
       "      <td>1.0</td>\n",
       "      <td>110.927036</td>\n",
       "      <td>0.0</td>\n",
       "      <td>...</td>\n",
       "      <td>0</td>\n",
       "      <td>0</td>\n",
       "      <td>0</td>\n",
       "      <td>0</td>\n",
       "      <td>0</td>\n",
       "      <td>0</td>\n",
       "      <td>0</td>\n",
       "      <td>0</td>\n",
       "      <td>1</td>\n",
       "      <td>0</td>\n",
       "    </tr>\n",
       "    <tr>\n",
       "      <td>2</td>\n",
       "      <td>634995</td>\n",
       "      <td>0</td>\n",
       "      <td>463</td>\n",
       "      <td>1</td>\n",
       "      <td>0.0</td>\n",
       "      <td>1280.0</td>\n",
       "      <td>14.807018</td>\n",
       "      <td>1.0</td>\n",
       "      <td>110.927036</td>\n",
       "      <td>0.0</td>\n",
       "      <td>...</td>\n",
       "      <td>1</td>\n",
       "      <td>0</td>\n",
       "      <td>0</td>\n",
       "      <td>0</td>\n",
       "      <td>0</td>\n",
       "      <td>0</td>\n",
       "      <td>0</td>\n",
       "      <td>0</td>\n",
       "      <td>1</td>\n",
       "      <td>0</td>\n",
       "    </tr>\n",
       "    <tr>\n",
       "      <td>3</td>\n",
       "      <td>634995</td>\n",
       "      <td>0</td>\n",
       "      <td>463</td>\n",
       "      <td>1</td>\n",
       "      <td>0.0</td>\n",
       "      <td>1280.0</td>\n",
       "      <td>14.807018</td>\n",
       "      <td>1.0</td>\n",
       "      <td>110.927036</td>\n",
       "      <td>0.0</td>\n",
       "      <td>...</td>\n",
       "      <td>1</td>\n",
       "      <td>0</td>\n",
       "      <td>1</td>\n",
       "      <td>0</td>\n",
       "      <td>0</td>\n",
       "      <td>0</td>\n",
       "      <td>0</td>\n",
       "      <td>0</td>\n",
       "      <td>0</td>\n",
       "      <td>0</td>\n",
       "    </tr>\n",
       "    <tr>\n",
       "      <td>4</td>\n",
       "      <td>634995</td>\n",
       "      <td>0</td>\n",
       "      <td>463</td>\n",
       "      <td>1</td>\n",
       "      <td>0.0</td>\n",
       "      <td>1280.0</td>\n",
       "      <td>14.807018</td>\n",
       "      <td>1.0</td>\n",
       "      <td>110.927036</td>\n",
       "      <td>0.0</td>\n",
       "      <td>...</td>\n",
       "      <td>0</td>\n",
       "      <td>0</td>\n",
       "      <td>0</td>\n",
       "      <td>0</td>\n",
       "      <td>0</td>\n",
       "      <td>1</td>\n",
       "      <td>0</td>\n",
       "      <td>0</td>\n",
       "      <td>0</td>\n",
       "      <td>0</td>\n",
       "    </tr>\n",
       "    <tr>\n",
       "      <td>...</td>\n",
       "      <td>...</td>\n",
       "      <td>...</td>\n",
       "      <td>...</td>\n",
       "      <td>...</td>\n",
       "      <td>...</td>\n",
       "      <td>...</td>\n",
       "      <td>...</td>\n",
       "      <td>...</td>\n",
       "      <td>...</td>\n",
       "      <td>...</td>\n",
       "      <td>...</td>\n",
       "      <td>...</td>\n",
       "      <td>...</td>\n",
       "      <td>...</td>\n",
       "      <td>...</td>\n",
       "      <td>...</td>\n",
       "      <td>...</td>\n",
       "      <td>...</td>\n",
       "      <td>...</td>\n",
       "      <td>...</td>\n",
       "      <td>...</td>\n",
       "    </tr>\n",
       "    <tr>\n",
       "      <td>121093</td>\n",
       "      <td>7170111</td>\n",
       "      <td>70</td>\n",
       "      <td>497000</td>\n",
       "      <td>9</td>\n",
       "      <td>0.0</td>\n",
       "      <td>2113.0</td>\n",
       "      <td>456.581081</td>\n",
       "      <td>213.5</td>\n",
       "      <td>477.089459</td>\n",
       "      <td>0.0</td>\n",
       "      <td>...</td>\n",
       "      <td>0</td>\n",
       "      <td>0</td>\n",
       "      <td>0</td>\n",
       "      <td>0</td>\n",
       "      <td>0</td>\n",
       "      <td>0</td>\n",
       "      <td>1</td>\n",
       "      <td>0</td>\n",
       "      <td>0</td>\n",
       "      <td>1</td>\n",
       "    </tr>\n",
       "    <tr>\n",
       "      <td>121094</td>\n",
       "      <td>7170111</td>\n",
       "      <td>70</td>\n",
       "      <td>497000</td>\n",
       "      <td>9</td>\n",
       "      <td>0.0</td>\n",
       "      <td>2113.0</td>\n",
       "      <td>456.581081</td>\n",
       "      <td>213.5</td>\n",
       "      <td>477.089459</td>\n",
       "      <td>0.0</td>\n",
       "      <td>...</td>\n",
       "      <td>0</td>\n",
       "      <td>0</td>\n",
       "      <td>0</td>\n",
       "      <td>0</td>\n",
       "      <td>0</td>\n",
       "      <td>0</td>\n",
       "      <td>1</td>\n",
       "      <td>0</td>\n",
       "      <td>0</td>\n",
       "      <td>1</td>\n",
       "    </tr>\n",
       "    <tr>\n",
       "      <td>121095</td>\n",
       "      <td>7170111</td>\n",
       "      <td>70</td>\n",
       "      <td>497000</td>\n",
       "      <td>9</td>\n",
       "      <td>0.0</td>\n",
       "      <td>2113.0</td>\n",
       "      <td>456.581081</td>\n",
       "      <td>213.5</td>\n",
       "      <td>477.089459</td>\n",
       "      <td>0.0</td>\n",
       "      <td>...</td>\n",
       "      <td>0</td>\n",
       "      <td>0</td>\n",
       "      <td>0</td>\n",
       "      <td>0</td>\n",
       "      <td>0</td>\n",
       "      <td>0</td>\n",
       "      <td>1</td>\n",
       "      <td>0</td>\n",
       "      <td>0</td>\n",
       "      <td>1</td>\n",
       "    </tr>\n",
       "    <tr>\n",
       "      <td>121096</td>\n",
       "      <td>7170111</td>\n",
       "      <td>70</td>\n",
       "      <td>497000</td>\n",
       "      <td>9</td>\n",
       "      <td>0.0</td>\n",
       "      <td>2113.0</td>\n",
       "      <td>456.581081</td>\n",
       "      <td>213.5</td>\n",
       "      <td>477.089459</td>\n",
       "      <td>0.0</td>\n",
       "      <td>...</td>\n",
       "      <td>0</td>\n",
       "      <td>0</td>\n",
       "      <td>0</td>\n",
       "      <td>0</td>\n",
       "      <td>0</td>\n",
       "      <td>0</td>\n",
       "      <td>1</td>\n",
       "      <td>0</td>\n",
       "      <td>0</td>\n",
       "      <td>1</td>\n",
       "    </tr>\n",
       "    <tr>\n",
       "      <td>121097</td>\n",
       "      <td>7170111</td>\n",
       "      <td>70</td>\n",
       "      <td>497000</td>\n",
       "      <td>9</td>\n",
       "      <td>0.0</td>\n",
       "      <td>2113.0</td>\n",
       "      <td>456.581081</td>\n",
       "      <td>213.5</td>\n",
       "      <td>477.089459</td>\n",
       "      <td>0.0</td>\n",
       "      <td>...</td>\n",
       "      <td>0</td>\n",
       "      <td>0</td>\n",
       "      <td>0</td>\n",
       "      <td>0</td>\n",
       "      <td>0</td>\n",
       "      <td>0</td>\n",
       "      <td>1</td>\n",
       "      <td>0</td>\n",
       "      <td>0</td>\n",
       "      <td>1</td>\n",
       "    </tr>\n",
       "  </tbody>\n",
       "</table>\n",
       "<p>121098 rows × 54 columns</p>\n",
       "</div>"
      ],
      "text/plain": [
       "          Likes  Checkin  PageTheme  PageCategory  Derived5  Derived6  \\\n",
       "0        634995        0        463             1       0.0    1280.0   \n",
       "1        634995        0        463             1       0.0    1280.0   \n",
       "2        634995        0        463             1       0.0    1280.0   \n",
       "3        634995        0        463             1       0.0    1280.0   \n",
       "4        634995        0        463             1       0.0    1280.0   \n",
       "...         ...      ...        ...           ...       ...       ...   \n",
       "121093  7170111       70     497000             9       0.0    2113.0   \n",
       "121094  7170111       70     497000             9       0.0    2113.0   \n",
       "121095  7170111       70     497000             9       0.0    2113.0   \n",
       "121096  7170111       70     497000             9       0.0    2113.0   \n",
       "121097  7170111       70     497000             9       0.0    2113.0   \n",
       "\n",
       "          Derived7  Derived8    Derived9  Derived10  ...  PostPublishedFri  \\\n",
       "0        14.807018       1.0  110.927036        0.0  ...                 0   \n",
       "1        14.807018       1.0  110.927036        0.0  ...                 0   \n",
       "2        14.807018       1.0  110.927036        0.0  ...                 1   \n",
       "3        14.807018       1.0  110.927036        0.0  ...                 1   \n",
       "4        14.807018       1.0  110.927036        0.0  ...                 0   \n",
       "...            ...       ...         ...        ...  ...               ...   \n",
       "121093  456.581081     213.5  477.089459        0.0  ...                 0   \n",
       "121094  456.581081     213.5  477.089459        0.0  ...                 0   \n",
       "121095  456.581081     213.5  477.089459        0.0  ...                 0   \n",
       "121096  456.581081     213.5  477.089459        0.0  ...                 0   \n",
       "121097  456.581081     213.5  477.089459        0.0  ...                 0   \n",
       "\n",
       "        PostPublishedSat  BaseDateTimeSun  BaseDateTimeMon  BaseDateTimeTue  \\\n",
       "0                      0                0                0                0   \n",
       "1                      0                0                0                0   \n",
       "2                      0                0                0                0   \n",
       "3                      0                1                0                0   \n",
       "4                      0                0                0                0   \n",
       "...                  ...              ...              ...              ...   \n",
       "121093                 0                0                0                0   \n",
       "121094                 0                0                0                0   \n",
       "121095                 0                0                0                0   \n",
       "121096                 0                0                0                0   \n",
       "121097                 0                0                0                0   \n",
       "\n",
       "        BaseDateTimeWed  BaseDateTimeThu  BaseDateTimeFri  BaseDateTimeSat  \\\n",
       "0                     0                0                0                1   \n",
       "1                     0                0                0                1   \n",
       "2                     0                0                0                1   \n",
       "3                     0                0                0                0   \n",
       "4                     1                0                0                0   \n",
       "...                 ...              ...              ...              ...   \n",
       "121093                0                1                0                0   \n",
       "121094                0                1                0                0   \n",
       "121095                0                1                0                0   \n",
       "121096                0                1                0                0   \n",
       "121097                0                1                0                0   \n",
       "\n",
       "        TargetClass  \n",
       "0                 0  \n",
       "1                 0  \n",
       "2                 0  \n",
       "3                 0  \n",
       "4                 0  \n",
       "...             ...  \n",
       "121093            1  \n",
       "121094            1  \n",
       "121095            1  \n",
       "121096            1  \n",
       "121097            1  \n",
       "\n",
       "[121098 rows x 54 columns]"
      ]
     },
     "execution_count": 10,
     "metadata": {},
     "output_type": "execute_result"
    }
   ],
   "source": [
    "# Dropping the original Target variable\n",
    "df_class.drop(['Target'], axis = 1)"
   ]
  },
  {
   "cell_type": "code",
   "execution_count": 11,
   "metadata": {
    "scrolled": true
   },
   "outputs": [
    {
     "data": {
      "text/plain": [
       "['Likes',\n",
       " 'Checkin',\n",
       " 'PageTheme',\n",
       " 'PageCategory',\n",
       " 'Derived5',\n",
       " 'Derived6',\n",
       " 'Derived7',\n",
       " 'Derived8',\n",
       " 'Derived9',\n",
       " 'Derived10',\n",
       " 'Derived11',\n",
       " 'Derived12',\n",
       " 'Derived13',\n",
       " 'Derived14',\n",
       " 'Derived15',\n",
       " 'Derived16',\n",
       " 'Derived17',\n",
       " 'Derived18',\n",
       " 'Derived19',\n",
       " 'Derived20',\n",
       " 'Derived21',\n",
       " 'Derived22',\n",
       " 'Derived23',\n",
       " 'Derived24',\n",
       " 'Derived25',\n",
       " 'Derived26',\n",
       " 'Derived27',\n",
       " 'Derived28',\n",
       " 'Derived29',\n",
       " 'CC1',\n",
       " 'CC2',\n",
       " 'CC3',\n",
       " 'CC4',\n",
       " 'CC5',\n",
       " 'BaseTime',\n",
       " 'PostLength',\n",
       " 'PostShareCount',\n",
       " 'PostPromoStatus',\n",
       " 'HLocal',\n",
       " 'PostPublishSun',\n",
       " 'PostPublishedMon',\n",
       " 'PostPublishedTue',\n",
       " 'PostPublishedWed',\n",
       " 'PostPublishedThu',\n",
       " 'PostPublishedFri',\n",
       " 'PostPublishedSat',\n",
       " 'BaseDateTimeSun',\n",
       " 'BaseDateTimeMon',\n",
       " 'BaseDateTimeTue',\n",
       " 'BaseDateTimeWed',\n",
       " 'BaseDateTimeThu',\n",
       " 'BaseDateTimeFri',\n",
       " 'BaseDateTimeSat',\n",
       " 'Target',\n",
       " 'TargetClass']"
      ]
     },
     "execution_count": 11,
     "metadata": {},
     "output_type": "execute_result"
    }
   ],
   "source": [
    "list(df_class)"
   ]
  },
  {
   "cell_type": "code",
   "execution_count": 12,
   "metadata": {},
   "outputs": [
    {
     "data": {
      "text/html": [
       "<div>\n",
       "<style scoped>\n",
       "    .dataframe tbody tr th:only-of-type {\n",
       "        vertical-align: middle;\n",
       "    }\n",
       "\n",
       "    .dataframe tbody tr th {\n",
       "        vertical-align: top;\n",
       "    }\n",
       "\n",
       "    .dataframe thead th {\n",
       "        text-align: right;\n",
       "    }\n",
       "</style>\n",
       "<table border=\"1\" class=\"dataframe\">\n",
       "  <thead>\n",
       "    <tr style=\"text-align: right;\">\n",
       "      <th></th>\n",
       "      <th>Likes</th>\n",
       "      <th>Checkin</th>\n",
       "      <th>PageTheme</th>\n",
       "      <th>CC1</th>\n",
       "      <th>CC2</th>\n",
       "      <th>CC3</th>\n",
       "      <th>CC4</th>\n",
       "      <th>PostLength</th>\n",
       "      <th>PostShareCount</th>\n",
       "      <th>HLocal</th>\n",
       "      <th>PostPublishSun</th>\n",
       "      <th>PostPublishedMon</th>\n",
       "      <th>PostPublishedTue</th>\n",
       "      <th>PostPublishedWed</th>\n",
       "      <th>PostPublishedThu</th>\n",
       "      <th>PostPublishedFri</th>\n",
       "      <th>PostPublishedSat</th>\n",
       "    </tr>\n",
       "  </thead>\n",
       "  <tbody>\n",
       "    <tr>\n",
       "      <td>0</td>\n",
       "      <td>634995</td>\n",
       "      <td>0</td>\n",
       "      <td>463</td>\n",
       "      <td>0</td>\n",
       "      <td>0</td>\n",
       "      <td>0</td>\n",
       "      <td>0</td>\n",
       "      <td>166</td>\n",
       "      <td>2</td>\n",
       "      <td>24</td>\n",
       "      <td>0</td>\n",
       "      <td>0</td>\n",
       "      <td>0</td>\n",
       "      <td>1</td>\n",
       "      <td>0</td>\n",
       "      <td>0</td>\n",
       "      <td>0</td>\n",
       "    </tr>\n",
       "    <tr>\n",
       "      <td>1</td>\n",
       "      <td>634995</td>\n",
       "      <td>0</td>\n",
       "      <td>463</td>\n",
       "      <td>0</td>\n",
       "      <td>0</td>\n",
       "      <td>0</td>\n",
       "      <td>0</td>\n",
       "      <td>132</td>\n",
       "      <td>1</td>\n",
       "      <td>24</td>\n",
       "      <td>0</td>\n",
       "      <td>0</td>\n",
       "      <td>0</td>\n",
       "      <td>0</td>\n",
       "      <td>1</td>\n",
       "      <td>0</td>\n",
       "      <td>0</td>\n",
       "    </tr>\n",
       "    <tr>\n",
       "      <td>2</td>\n",
       "      <td>634995</td>\n",
       "      <td>0</td>\n",
       "      <td>463</td>\n",
       "      <td>0</td>\n",
       "      <td>0</td>\n",
       "      <td>0</td>\n",
       "      <td>0</td>\n",
       "      <td>133</td>\n",
       "      <td>2</td>\n",
       "      <td>24</td>\n",
       "      <td>0</td>\n",
       "      <td>0</td>\n",
       "      <td>0</td>\n",
       "      <td>0</td>\n",
       "      <td>0</td>\n",
       "      <td>1</td>\n",
       "      <td>0</td>\n",
       "    </tr>\n",
       "    <tr>\n",
       "      <td>3</td>\n",
       "      <td>634995</td>\n",
       "      <td>0</td>\n",
       "      <td>463</td>\n",
       "      <td>7</td>\n",
       "      <td>1</td>\n",
       "      <td>6</td>\n",
       "      <td>7</td>\n",
       "      <td>131</td>\n",
       "      <td>1</td>\n",
       "      <td>24</td>\n",
       "      <td>0</td>\n",
       "      <td>0</td>\n",
       "      <td>0</td>\n",
       "      <td>0</td>\n",
       "      <td>0</td>\n",
       "      <td>1</td>\n",
       "      <td>0</td>\n",
       "    </tr>\n",
       "    <tr>\n",
       "      <td>4</td>\n",
       "      <td>634995</td>\n",
       "      <td>0</td>\n",
       "      <td>463</td>\n",
       "      <td>1</td>\n",
       "      <td>0</td>\n",
       "      <td>1</td>\n",
       "      <td>1</td>\n",
       "      <td>142</td>\n",
       "      <td>5</td>\n",
       "      <td>24</td>\n",
       "      <td>0</td>\n",
       "      <td>1</td>\n",
       "      <td>0</td>\n",
       "      <td>0</td>\n",
       "      <td>0</td>\n",
       "      <td>0</td>\n",
       "      <td>0</td>\n",
       "    </tr>\n",
       "  </tbody>\n",
       "</table>\n",
       "</div>"
      ],
      "text/plain": [
       "    Likes  Checkin  PageTheme  CC1  CC2  CC3  CC4  PostLength  PostShareCount  \\\n",
       "0  634995        0        463    0    0    0    0         166               2   \n",
       "1  634995        0        463    0    0    0    0         132               1   \n",
       "2  634995        0        463    0    0    0    0         133               2   \n",
       "3  634995        0        463    7    1    6    7         131               1   \n",
       "4  634995        0        463    1    0    1    1         142               5   \n",
       "\n",
       "   HLocal  PostPublishSun  PostPublishedMon  PostPublishedTue  \\\n",
       "0      24               0                 0                 0   \n",
       "1      24               0                 0                 0   \n",
       "2      24               0                 0                 0   \n",
       "3      24               0                 0                 0   \n",
       "4      24               0                 1                 0   \n",
       "\n",
       "   PostPublishedWed  PostPublishedThu  PostPublishedFri  PostPublishedSat  \n",
       "0                 1                 0                 0                 0  \n",
       "1                 0                 1                 0                 0  \n",
       "2                 0                 0                 1                 0  \n",
       "3                 0                 0                 1                 0  \n",
       "4                 0                 0                 0                 0  "
      ]
     },
     "execution_count": 12,
     "metadata": {},
     "output_type": "execute_result"
    }
   ],
   "source": [
    "# Splitting the data into X\n",
    "#X = df_class.loc[:,'Likes':'BaseDateTimeSat']\n",
    "# Selecting 17 features from previous findings\n",
    "\n",
    "X = df_class.loc[:,['Likes','Checkin','PageTheme','CC1','CC2','CC3','CC4','PostLength','PostShareCount','HLocal','PostPublishSun',\n",
    "                    'PostPublishedMon','PostPublishedTue','PostPublishedWed','PostPublishedThu','PostPublishedFri','PostPublishedSat',]]\n",
    "X.head()"
   ]
  },
  {
   "cell_type": "code",
   "execution_count": 13,
   "metadata": {},
   "outputs": [
    {
     "data": {
      "text/plain": [
       "0    0\n",
       "1    0\n",
       "2    0\n",
       "3    0\n",
       "4    0\n",
       "Name: TargetClass, dtype: int32"
      ]
     },
     "execution_count": 13,
     "metadata": {},
     "output_type": "execute_result"
    }
   ],
   "source": [
    "# Splitting the data into y\n",
    "y = df_class.loc[:,'TargetClass']\n",
    "y.head()"
   ]
  },
  {
   "cell_type": "code",
   "execution_count": 14,
   "metadata": {},
   "outputs": [],
   "source": [
    "# Splitting data into train and test using sklearn split\n",
    "X_train, X_test, y_train, y_test = train_test_split(X, y, random_state = 11, test_size = 0.3)"
   ]
  },
  {
   "cell_type": "code",
   "execution_count": 15,
   "metadata": {},
   "outputs": [
    {
     "name": "stdout",
     "output_type": "stream",
     "text": [
      "(84768, 17)\n",
      "(84768,)\n",
      "(36330, 17)\n",
      "(36330,)\n"
     ]
    }
   ],
   "source": [
    "print(X_train.shape)\n",
    "print(y_train.shape)\n",
    "print(X_test.shape)\n",
    "print(y_test.shape)"
   ]
  },
  {
   "cell_type": "code",
   "execution_count": 16,
   "metadata": {},
   "outputs": [],
   "source": [
    "# PostPromotionStatus(38) and PostCategory(4) are two features which are categorical which needs to be handled. Then there are\n",
    "# more from columns PostPublishedMon : BaseDateTimeSun (14 but they are one hot encoded)"
   ]
  },
  {
   "cell_type": "code",
   "execution_count": 17,
   "metadata": {},
   "outputs": [],
   "source": [
    "## Questions: Does the manual encoded categorical variables need one hot encoding ? and should they be normalized along with\n",
    "# continuous features?"
   ]
  },
  {
   "cell_type": "code",
   "execution_count": 18,
   "metadata": {},
   "outputs": [
    {
     "data": {
      "text/plain": [
       "(121098, 54)"
      ]
     },
     "execution_count": 18,
     "metadata": {},
     "output_type": "execute_result"
    }
   ],
   "source": [
    "df.shape"
   ]
  },
  {
   "cell_type": "code",
   "execution_count": 19,
   "metadata": {},
   "outputs": [],
   "source": [
    "# Creating copy of the train and test variables to scale them\n",
    "scaled_X_train = X_train.copy(deep=True)\n",
    "scaled_X_test = X_test.copy(deep=True)"
   ]
  },
  {
   "cell_type": "code",
   "execution_count": 20,
   "metadata": {},
   "outputs": [],
   "source": [
    "## Since other columns are already one-hot encoded, there was no need to perform scaling on them\n",
    "scaler = preprocessing.StandardScaler()\n",
    "scaled_X_train[['Likes','Checkin','PageTheme','CC1','CC2','CC3','CC4',\n",
    "                'PostLength','PostShareCount','HLocal',]] = scaler.fit_transform(scaled_X_train[['Likes','Checkin','PageTheme',\n",
    "                                                                                               'CC1','CC2','CC3','CC4','PostLength','PostShareCount',\n",
    "                                                                                               'HLocal']])"
   ]
  },
  {
   "cell_type": "code",
   "execution_count": 21,
   "metadata": {},
   "outputs": [],
   "source": [
    "# scaling X_test with the X_train parameters\n",
    "scaled_X_test[['Likes','Checkin','PageTheme','CC1','CC2','CC3','CC4',\n",
    "                'PostLength','PostShareCount','HLocal']] = scaler.transform(scaled_X_test[['Likes','Checkin','PageTheme','CC1','CC2','CC3','CC4',\n",
    "                'PostLength','PostShareCount','HLocal']])"
   ]
  },
  {
   "cell_type": "code",
   "execution_count": 22,
   "metadata": {},
   "outputs": [],
   "source": [
    "# # Plot and visualize scaling difference\n",
    "# fig, (ax1, ax2) = plt.subplots(ncols=2, figsize=(6, 5))\n",
    "# ax1.set_title('Before Scaling')\n",
    "# sns.kdeplot(X_train['Derived6'], ax=ax1)\n",
    "# sns.kdeplot(X_train['Derived7'], ax=ax1)\n",
    "# sns.kdeplot(X_train['Derived9'], ax=ax1)\n",
    "\n",
    "# ax2.set_title('After Standard Scaler')\n",
    "# sns.kdeplot(scaled_X_train['Derived6'], ax=ax2)\n",
    "# sns.kdeplot(scaled_X_train['Derived7'], ax=ax2)\n",
    "# sns.kdeplot(scaled_X_train['Derived9'], ax=ax2)\n",
    "\n",
    "\n",
    "# plt.show()"
   ]
  },
  {
   "cell_type": "code",
   "execution_count": 23,
   "metadata": {},
   "outputs": [],
   "source": [
    "#***********************************************************SVM Models*******************************************************#"
   ]
  },
  {
   "cell_type": "code",
   "execution_count": 24,
   "metadata": {},
   "outputs": [],
   "source": [
    "def print_score1(classifier,X_train,y_train,X_test,y_test,train=True):\n",
    "    mean_train_acc = 0\n",
    "    mean_valid_acc = 0\n",
    "    test_acc = 0\n",
    "    res = 0\n",
    "    if train == True:\n",
    "        print(\"Training results:\\n\")\n",
    "        print('Accuracy Score: {0:.4f}\\n'.format(accuracy_score(y_train,classifier.predict(X_train))))\n",
    "        print('Confusion Matrix:\\n{}\\n'.format(confusion_matrix(y_train,classifier.predict(X_train))))\n",
    "        res = cross_validate(classifier, X_train, y_train, cv=3, n_jobs=-1, scoring='accuracy', return_train_score=True)\n",
    "        mean_train_acc = res['train_score'].mean()\n",
    "        mean_valid_acc = res['test_score'].mean()\n",
    "        print('Average Accuracy for Train data:\\t{0:.4f}\\n'.format(res['train_score'].mean()))\n",
    "        print('Average Accuracy for Validation data :\\t{0:.4f}'.format(res['test_score'].mean()))\n",
    "    elif train == False:\n",
    "        print(\"\\n\\nTest results:\\n\")\n",
    "        test_acc = accuracy_score(y_test,classifier.predict(X_test))\n",
    "        print('Accuracy Score: {0:.4f}\\n'.format(accuracy_score(y_test,classifier.predict(X_test))))\n",
    "        print('Confusion Matrix:\\n{}\\n'.format(confusion_matrix(y_test,classifier.predict(X_test))))\n",
    "    return mean_train_acc, mean_valid_acc, test_acc, res"
   ]
  },
  {
   "cell_type": "code",
   "execution_count": 25,
   "metadata": {},
   "outputs": [
    {
     "name": "stdout",
     "output_type": "stream",
     "text": [
      "[[18912  1325]\n",
      " [ 5925 10168]]\n",
      "              precision    recall  f1-score   support\n",
      "\n",
      "           0       0.76      0.93      0.84     20237\n",
      "           1       0.88      0.63      0.74     16093\n",
      "\n",
      "    accuracy                           0.80     36330\n",
      "   macro avg       0.82      0.78      0.79     36330\n",
      "weighted avg       0.82      0.80      0.79     36330\n",
      "\n",
      "Accuracy: 0.8004404073768235\n"
     ]
    }
   ],
   "source": [
    "# Create SVM Classifier\n",
    "clf = SVC(kernel='linear', C= 1)\n",
    "# Train the model using the training sets\n",
    "# Takes approximately 10-15 min to execute\n",
    "clf.fit(scaled_X_train, y_train)\n",
    "# takes around a minute to execute\n",
    "y_pred = clf.predict(scaled_X_test)\n",
    "print(confusion_matrix(y_test,y_pred))\n",
    "print(classification_report(y_test,y_pred))\n",
    "print(\"Accuracy:\",metrics.accuracy_score(y_test, y_pred))\n"
   ]
  },
  {
   "cell_type": "code",
   "execution_count": 26,
   "metadata": {},
   "outputs": [],
   "source": [
    "model1_acc = metrics.accuracy_score(y_test, y_pred)\n",
    "model1_confusion = confusion_matrix(y_test,y_pred)"
   ]
  },
  {
   "cell_type": "code",
   "execution_count": 27,
   "metadata": {},
   "outputs": [
    {
     "name": "stdout",
     "output_type": "stream",
     "text": [
      "0.8004404073768235\n",
      "[[18912  1325]\n",
      " [ 5925 10168]]\n"
     ]
    }
   ],
   "source": [
    "print(model1_acc)\n",
    "print(model1_confusion)"
   ]
  },
  {
   "cell_type": "code",
   "execution_count": 28,
   "metadata": {},
   "outputs": [
    {
     "name": "stdout",
     "output_type": "stream",
     "text": [
      "[[19519   718]\n",
      " [10565  5528]]\n",
      "              precision    recall  f1-score   support\n",
      "\n",
      "           0       0.65      0.96      0.78     20237\n",
      "           1       0.89      0.34      0.49     16093\n",
      "\n",
      "    accuracy                           0.69     36330\n",
      "   macro avg       0.77      0.65      0.64     36330\n",
      "weighted avg       0.75      0.69      0.65     36330\n",
      "\n",
      "Accuracy: 0.6894302229562345\n"
     ]
    }
   ],
   "source": [
    "# Create SVM Classifier\n",
    "clf = SVC(kernel='linear', C= 0.0001)\n",
    "# Train the model using the training sets\n",
    "# Takes approximately 10-15 min to execute\n",
    "clf.fit(scaled_X_train, y_train)\n",
    "# takes around a minute to execute\n",
    "y_pred = clf.predict(scaled_X_test)\n",
    "print(confusion_matrix(y_test,y_pred))\n",
    "print(classification_report(y_test,y_pred))\n",
    "print(\"Accuracy:\",metrics.accuracy_score(y_test, y_pred))"
   ]
  },
  {
   "cell_type": "code",
   "execution_count": 29,
   "metadata": {},
   "outputs": [],
   "source": [
    "model2_acc = metrics.accuracy_score(y_test, y_pred)\n",
    "model2_confusion = confusion_matrix(y_test,y_pred) "
   ]
  },
  {
   "cell_type": "code",
   "execution_count": 30,
   "metadata": {},
   "outputs": [
    {
     "name": "stdout",
     "output_type": "stream",
     "text": [
      "0.6894302229562345\n",
      "[[19519   718]\n",
      " [10565  5528]]\n"
     ]
    }
   ],
   "source": [
    "print(model2_acc)\n",
    "print(model2_confusion)"
   ]
  },
  {
   "cell_type": "code",
   "execution_count": 31,
   "metadata": {},
   "outputs": [
    {
     "name": "stdout",
     "output_type": "stream",
     "text": [
      "[[18958  1279]\n",
      " [ 6021 10072]]\n",
      "              precision    recall  f1-score   support\n",
      "\n",
      "           0       0.76      0.94      0.84     20237\n",
      "           1       0.89      0.63      0.73     16093\n",
      "\n",
      "    accuracy                           0.80     36330\n",
      "   macro avg       0.82      0.78      0.79     36330\n",
      "weighted avg       0.82      0.80      0.79     36330\n",
      "\n",
      "Accuracy: 0.7990641343242499\n"
     ]
    }
   ],
   "source": [
    "# Create SVM Classifier\n",
    "clf = SVC(kernel='linear', C= 0.1)\n",
    "# Train the model using the training sets\n",
    "# Takes approximately 10-15 min to execute\n",
    "clf.fit(scaled_X_train, y_train)\n",
    "# takes around a minute to execute\n",
    "y_pred = clf.predict(scaled_X_test)\n",
    "print(confusion_matrix(y_test,y_pred))\n",
    "print(classification_report(y_test,y_pred))\n",
    "print(\"Accuracy:\",metrics.accuracy_score(y_test, y_pred))"
   ]
  },
  {
   "cell_type": "code",
   "execution_count": 32,
   "metadata": {},
   "outputs": [],
   "source": [
    "model3_acc = metrics.accuracy_score(y_test, y_pred)\n",
    "model3_confusion = confusion_matrix(y_test,y_pred) "
   ]
  },
  {
   "cell_type": "code",
   "execution_count": 33,
   "metadata": {},
   "outputs": [
    {
     "name": "stdout",
     "output_type": "stream",
     "text": [
      "0.7990641343242499\n",
      "[[18958  1279]\n",
      " [ 6021 10072]]\n"
     ]
    }
   ],
   "source": [
    "print(model3_acc)\n",
    "print(model3_confusion)"
   ]
  },
  {
   "cell_type": "code",
   "execution_count": 34,
   "metadata": {},
   "outputs": [
    {
     "data": {
      "image/png": "[encoded data removed]",
      "text/plain": [
       "<Figure size 864x432 with 1 Axes>"
      ]
     },
     "metadata": {},
     "output_type": "display_data"
    },
    {
     "data": {
      "image/png": "[encoded data removed]",
      "text/plain": [
       "<Figure size 864x432 with 1 Axes>"
      ]
     },
     "metadata": {},
     "output_type": "display_data"
    }
   ],
   "source": [
    "plt.rcParams['figure.figsize'] = (12, 6)\n",
    "style.use('ggplot')\n",
    "\n",
    "X_sub = scaled_X_train.iloc[:, [0,7]].values\n",
    "y_sub = y_train.values\n",
    "plt.title('Linear SVM Model Representation')\n",
    "# A function to draw hyperplane and the margin of SVM classifier\n",
    "def draw_svm(X, y, C):\n",
    "    # Plotting the Points\n",
    "    plt.scatter(X[:,0], X[:,1], c=y)\n",
    "    \n",
    "    # The SVM Model with given C parameter\n",
    "    clf1 = SVC(kernel='linear', C=C)\n",
    "    clf1.fit(X, y)\n",
    "    \n",
    "    # Limit of the axes\n",
    "    ax = plt.gca()\n",
    "    xlim = ax.get_xlim()\n",
    "    ylim = ax.get_ylim()\n",
    "    \n",
    "    # Creating the meshgrid\n",
    "    xx = np.linspace(xlim[0], xlim[1], 200)\n",
    "    yy = np.linspace(ylim[0], ylim[1], 200)\n",
    "    YY, XX = np.meshgrid(yy, xx)\n",
    "    xy = np.vstack([XX.ravel(), YY.ravel()]).T\n",
    "    Z = clf1.decision_function(xy).reshape(XX.shape)\n",
    "    \n",
    "    # Plotting the boundary\n",
    "    ax.contour(XX, YY, Z, colors='k', levels=[-1, 0, 1], \n",
    "                        alpha=0.5, linestyles=['--', '-', '--'])\n",
    "    ax.scatter(clf1.support_vectors_[:, 0], \n",
    "                clf1.support_vectors_[:, 1], \n",
    "                s=100, linewidth=1, facecolors='none')\n",
    "    plt.show()\n",
    "    # Returns the classifier\n",
    "    return clf1\n",
    "\n",
    "clf_arr = []\n",
    "clf_arr.append(draw_svm(X_sub, y_sub, 0.00001))\n",
    "clf_arr.append(draw_svm(X_sub, y_sub, 0.001))"
   ]
  },
  {
   "cell_type": "code",
   "execution_count": 35,
   "metadata": {},
   "outputs": [
    {
     "data": {
      "text/plain": [
       "<matplotlib.collections.PathCollection at 0x1ee0ad21438>"
      ]
     },
     "execution_count": 35,
     "metadata": {},
     "output_type": "execute_result"
    },
    {
     "data": {
      "image/png": "[encoded data removed]",
      "text/plain": [
       "<Figure size 864x432 with 1 Axes>"
      ]
     },
     "metadata": {},
     "output_type": "display_data"
    }
   ],
   "source": [
    "plt.figure()\n",
    "\n",
    "plt.scatter(X_train.loc[:,'Likes'].values, X_train.loc[:,'HLocal'].values, c=y_train.values)"
   ]
  },
  {
   "cell_type": "code",
   "execution_count": 36,
   "metadata": {
    "scrolled": true
   },
   "outputs": [
    {
     "name": "stdout",
     "output_type": "stream",
     "text": [
      "0.7368641382341377\n",
      "0.7358437114664017\n",
      "0.6855357961314353\n",
      "0.683465498480221\n",
      "0.6342723693595212\n",
      "0.6310990306265633\n"
     ]
    }
   ],
   "source": [
    "# Cross validation using SVM\n",
    "def poly_svm(X_train, y_train, C):\n",
    "    cross_sv = SVC(kernel='poly', degree=C)\n",
    "    scores = cross_validate(cross_sv, X_train, y_train,cv=3, return_train_score=True)\n",
    "    return scores\n",
    "\n",
    "P_score1 = poly_svm(scaled_X_train, y_train, 2)\n",
    "print(np.mean(P_score1['train_score']))\n",
    "print(np.mean(P_score1['test_score']))\n",
    "P_score2 = poly_svm(scaled_X_train, y_train, 3)\n",
    "print(np.mean(P_score2['train_score']))\n",
    "print(np.mean(P_score2['test_score']))\n",
    "P_score3 = poly_svm(scaled_X_train, y_train, 4)\n",
    "print(np.mean(P_score3['train_score']))\n",
    "print(np.mean(P_score3['test_score']))"
   ]
  },
  {
   "cell_type": "code",
   "execution_count": 37,
   "metadata": {},
   "outputs": [
    {
     "name": "stdout",
     "output_type": "stream",
     "text": [
      "0.7358437114664017\n",
      "0.683465498480221\n",
      "0.683465498480221\n"
     ]
    }
   ],
   "source": [
    "print(np.mean(P_score1['test_score']))\n",
    "print(np.mean(P_score2['test_score']))\n",
    "print(np.mean(P_score2['test_score']))"
   ]
  },
  {
   "cell_type": "code",
   "execution_count": 38,
   "metadata": {},
   "outputs": [
    {
     "name": "stdout",
     "output_type": "stream",
     "text": [
      "[0.7368641382341377, 0.6855357961314353, 0.6342723693595212]\n",
      "[0.7358437114664017, 0.683465498480221, 0.6310990306265633]\n"
     ]
    }
   ],
   "source": [
    "total_train_acc = []\n",
    "total_train_acc.append(np.mean(P_score1['train_score']))\n",
    "total_train_acc.append(np.mean(P_score2['train_score']))\n",
    "total_train_acc.append(np.mean(P_score3['train_score']))\n",
    "print(total_train_acc)\n",
    "\n",
    "total_test_acc = []\n",
    "total_test_acc.append(np.mean(P_score1['test_score']))\n",
    "total_test_acc.append(np.mean(P_score2['test_score']))\n",
    "total_test_acc.append(np.mean(P_score3['test_score']))\n",
    "print(total_test_acc)\n"
   ]
  },
  {
   "cell_type": "code",
   "execution_count": 39,
   "metadata": {},
   "outputs": [
    {
     "data": {
      "image/png": "[encoded data removed]",
      "text/plain": [
       "<Figure size 720x504 with 1 Axes>"
      ]
     },
     "metadata": {},
     "output_type": "display_data"
    }
   ],
   "source": [
    "plt.figure(figsize=(10,7))\n",
    "plt.title('Accuracy plot for Polynomial Kernel')\n",
    "plt.xlabel('Degree of polynomial')\n",
    "plt.ylabel('Accuracy')\n",
    "c = [1,2,3]\n",
    "plt.plot(c,total_train_acc, label='Train accuracy')\n",
    "plt.plot(c,total_test_acc,label = 'Validation accuracy')\n",
    "plt.legend(loc='lower right')\n",
    "plt.savefig('Dataset1_AccuracyPlotforPoly.png')\n"
   ]
  },
  {
   "cell_type": "code",
   "execution_count": 40,
   "metadata": {
    "scrolled": true
   },
   "outputs": [
    {
     "data": {
      "text/plain": [
       "SVC(C=1.0, cache_size=200, class_weight=None, coef0=0.0,\n",
       "    decision_function_shape='ovr', degree=2, gamma='auto_deprecated',\n",
       "    kernel='poly', max_iter=-1, probability=False, random_state=None,\n",
       "    shrinking=True, tol=0.001, verbose=False)"
      ]
     },
     "execution_count": 40,
     "metadata": {},
     "output_type": "execute_result"
    }
   ],
   "source": [
    "# Polynomial kernel\n",
    "poly_clf = SVC(kernel='poly', degree = 2)\n",
    "poly_clf.fit(scaled_X_train, y_train)"
   ]
  },
  {
   "cell_type": "code",
   "execution_count": 41,
   "metadata": {},
   "outputs": [
    {
     "name": "stdout",
     "output_type": "stream",
     "text": [
      "[[19350   887]\n",
      " [ 8148  7945]]\n",
      "Accuracy: 0.7513074593999449\n"
     ]
    }
   ],
   "source": [
    "y_pred_1 = poly_clf.predict(scaled_X_test)\n",
    "print(confusion_matrix(y_test,y_pred_1))\n",
    "print(\"Accuracy:\",metrics.accuracy_score(y_test, y_pred_1))"
   ]
  },
  {
   "cell_type": "code",
   "execution_count": 42,
   "metadata": {},
   "outputs": [
    {
     "ename": "IndexError",
     "evalue": "positional indexers are out-of-bounds",
     "output_type": "error",
     "traceback": [
      "\u001b[1;31m---------------------------------------------------------------------------\u001b[0m",
      "\u001b[1;31mIndexError\u001b[0m                                Traceback (most recent call last)",
      "\u001b[1;32m<ipython-input-42-ead0de6e77f3>\u001b[0m in \u001b[0;36m<module>\u001b[1;34m\u001b[0m\n\u001b[0;32m      3\u001b[0m \u001b[0mstyle\u001b[0m\u001b[1;33m.\u001b[0m\u001b[0muse\u001b[0m\u001b[1;33m(\u001b[0m\u001b[1;34m'ggplot'\u001b[0m\u001b[1;33m)\u001b[0m\u001b[1;33m\u001b[0m\u001b[1;33m\u001b[0m\u001b[0m\n\u001b[0;32m      4\u001b[0m \u001b[1;33m\u001b[0m\u001b[0m\n\u001b[1;32m----> 5\u001b[1;33m \u001b[0mX_sub1\u001b[0m \u001b[1;33m=\u001b[0m \u001b[0mscaled_X_train\u001b[0m\u001b[1;33m.\u001b[0m\u001b[0miloc\u001b[0m\u001b[1;33m[\u001b[0m\u001b[1;33m:\u001b[0m\u001b[1;33m,\u001b[0m \u001b[1;33m[\u001b[0m\u001b[1;36m0\u001b[0m\u001b[1;33m,\u001b[0m\u001b[1;36m33\u001b[0m\u001b[1;33m]\u001b[0m\u001b[1;33m]\u001b[0m\u001b[1;33m.\u001b[0m\u001b[0mvalues\u001b[0m\u001b[1;33m\u001b[0m\u001b[1;33m\u001b[0m\u001b[0m\n\u001b[0m\u001b[0;32m      6\u001b[0m \u001b[0my_sub1\u001b[0m \u001b[1;33m=\u001b[0m \u001b[0my_train\u001b[0m\u001b[1;33m.\u001b[0m\u001b[0mvalues\u001b[0m\u001b[1;33m\u001b[0m\u001b[1;33m\u001b[0m\u001b[0m\n\u001b[0;32m      7\u001b[0m \u001b[1;33m\u001b[0m\u001b[0m\n",
      "\u001b[1;32m~\\Anaconda3\\lib\\site-packages\\pandas\\core\\indexing.py\u001b[0m in \u001b[0;36m__getitem__\u001b[1;34m(self, key)\u001b[0m\n\u001b[0;32m   1416\u001b[0m                 \u001b[1;32mexcept\u001b[0m \u001b[1;33m(\u001b[0m\u001b[0mKeyError\u001b[0m\u001b[1;33m,\u001b[0m \u001b[0mIndexError\u001b[0m\u001b[1;33m,\u001b[0m \u001b[0mAttributeError\u001b[0m\u001b[1;33m)\u001b[0m\u001b[1;33m:\u001b[0m\u001b[1;33m\u001b[0m\u001b[1;33m\u001b[0m\u001b[0m\n\u001b[0;32m   1417\u001b[0m                     \u001b[1;32mpass\u001b[0m\u001b[1;33m\u001b[0m\u001b[1;33m\u001b[0m\u001b[0m\n\u001b[1;32m-> 1418\u001b[1;33m             \u001b[1;32mreturn\u001b[0m \u001b[0mself\u001b[0m\u001b[1;33m.\u001b[0m\u001b[0m_getitem_tuple\u001b[0m\u001b[1;33m(\u001b[0m\u001b[0mkey\u001b[0m\u001b[1;33m)\u001b[0m\u001b[1;33m\u001b[0m\u001b[1;33m\u001b[0m\u001b[0m\n\u001b[0m\u001b[0;32m   1419\u001b[0m         \u001b[1;32melse\u001b[0m\u001b[1;33m:\u001b[0m\u001b[1;33m\u001b[0m\u001b[1;33m\u001b[0m\u001b[0m\n\u001b[0;32m   1420\u001b[0m             \u001b[1;31m# we by definition only have the 0th axis\u001b[0m\u001b[1;33m\u001b[0m\u001b[1;33m\u001b[0m\u001b[1;33m\u001b[0m\u001b[0m\n",
      "\u001b[1;32m~\\Anaconda3\\lib\\site-packages\\pandas\\core\\indexing.py\u001b[0m in \u001b[0;36m_getitem_tuple\u001b[1;34m(self, tup)\u001b[0m\n\u001b[0;32m   2090\u001b[0m     \u001b[1;32mdef\u001b[0m \u001b[0m_getitem_tuple\u001b[0m\u001b[1;33m(\u001b[0m\u001b[0mself\u001b[0m\u001b[1;33m,\u001b[0m \u001b[0mtup\u001b[0m\u001b[1;33m)\u001b[0m\u001b[1;33m:\u001b[0m\u001b[1;33m\u001b[0m\u001b[1;33m\u001b[0m\u001b[0m\n\u001b[0;32m   2091\u001b[0m \u001b[1;33m\u001b[0m\u001b[0m\n\u001b[1;32m-> 2092\u001b[1;33m         \u001b[0mself\u001b[0m\u001b[1;33m.\u001b[0m\u001b[0m_has_valid_tuple\u001b[0m\u001b[1;33m(\u001b[0m\u001b[0mtup\u001b[0m\u001b[1;33m)\u001b[0m\u001b[1;33m\u001b[0m\u001b[1;33m\u001b[0m\u001b[0m\n\u001b[0m\u001b[0;32m   2093\u001b[0m         \u001b[1;32mtry\u001b[0m\u001b[1;33m:\u001b[0m\u001b[1;33m\u001b[0m\u001b[1;33m\u001b[0m\u001b[0m\n\u001b[0;32m   2094\u001b[0m             \u001b[1;32mreturn\u001b[0m \u001b[0mself\u001b[0m\u001b[1;33m.\u001b[0m\u001b[0m_getitem_lowerdim\u001b[0m\u001b[1;33m(\u001b[0m\u001b[0mtup\u001b[0m\u001b[1;33m)\u001b[0m\u001b[1;33m\u001b[0m\u001b[1;33m\u001b[0m\u001b[0m\n",
      "\u001b[1;32m~\\Anaconda3\\lib\\site-packages\\pandas\\core\\indexing.py\u001b[0m in \u001b[0;36m_has_valid_tuple\u001b[1;34m(self, key)\u001b[0m\n\u001b[0;32m    233\u001b[0m                 \u001b[1;32mraise\u001b[0m \u001b[0mIndexingError\u001b[0m\u001b[1;33m(\u001b[0m\u001b[1;34m\"Too many indexers\"\u001b[0m\u001b[1;33m)\u001b[0m\u001b[1;33m\u001b[0m\u001b[1;33m\u001b[0m\u001b[0m\n\u001b[0;32m    234\u001b[0m             \u001b[1;32mtry\u001b[0m\u001b[1;33m:\u001b[0m\u001b[1;33m\u001b[0m\u001b[1;33m\u001b[0m\u001b[0m\n\u001b[1;32m--> 235\u001b[1;33m                 \u001b[0mself\u001b[0m\u001b[1;33m.\u001b[0m\u001b[0m_validate_key\u001b[0m\u001b[1;33m(\u001b[0m\u001b[0mk\u001b[0m\u001b[1;33m,\u001b[0m \u001b[0mi\u001b[0m\u001b[1;33m)\u001b[0m\u001b[1;33m\u001b[0m\u001b[1;33m\u001b[0m\u001b[0m\n\u001b[0m\u001b[0;32m    236\u001b[0m             \u001b[1;32mexcept\u001b[0m \u001b[0mValueError\u001b[0m\u001b[1;33m:\u001b[0m\u001b[1;33m\u001b[0m\u001b[1;33m\u001b[0m\u001b[0m\n\u001b[0;32m    237\u001b[0m                 raise ValueError(\n",
      "\u001b[1;32m~\\Anaconda3\\lib\\site-packages\\pandas\\core\\indexing.py\u001b[0m in \u001b[0;36m_validate_key\u001b[1;34m(self, key, axis)\u001b[0m\n\u001b[0;32m   2029\u001b[0m             \u001b[1;31m# check that the key does not exceed the maximum size of the index\u001b[0m\u001b[1;33m\u001b[0m\u001b[1;33m\u001b[0m\u001b[1;33m\u001b[0m\u001b[0m\n\u001b[0;32m   2030\u001b[0m             \u001b[1;32mif\u001b[0m \u001b[0mlen\u001b[0m\u001b[1;33m(\u001b[0m\u001b[0marr\u001b[0m\u001b[1;33m)\u001b[0m \u001b[1;32mand\u001b[0m \u001b[1;33m(\u001b[0m\u001b[0marr\u001b[0m\u001b[1;33m.\u001b[0m\u001b[0mmax\u001b[0m\u001b[1;33m(\u001b[0m\u001b[1;33m)\u001b[0m \u001b[1;33m>=\u001b[0m \u001b[0mlen_axis\u001b[0m \u001b[1;32mor\u001b[0m \u001b[0marr\u001b[0m\u001b[1;33m.\u001b[0m\u001b[0mmin\u001b[0m\u001b[1;33m(\u001b[0m\u001b[1;33m)\u001b[0m \u001b[1;33m<\u001b[0m \u001b[1;33m-\u001b[0m\u001b[0mlen_axis\u001b[0m\u001b[1;33m)\u001b[0m\u001b[1;33m:\u001b[0m\u001b[1;33m\u001b[0m\u001b[1;33m\u001b[0m\u001b[0m\n\u001b[1;32m-> 2031\u001b[1;33m                 \u001b[1;32mraise\u001b[0m \u001b[0mIndexError\u001b[0m\u001b[1;33m(\u001b[0m\u001b[1;34m\"positional indexers are out-of-bounds\"\u001b[0m\u001b[1;33m)\u001b[0m\u001b[1;33m\u001b[0m\u001b[1;33m\u001b[0m\u001b[0m\n\u001b[0m\u001b[0;32m   2032\u001b[0m         \u001b[1;32melse\u001b[0m\u001b[1;33m:\u001b[0m\u001b[1;33m\u001b[0m\u001b[1;33m\u001b[0m\u001b[0m\n\u001b[0;32m   2033\u001b[0m             raise ValueError(\n",
      "\u001b[1;31mIndexError\u001b[0m: positional indexers are out-of-bounds"
     ]
    }
   ],
   "source": [
    "## POLY PLOT\n",
    "plt.rcParams['figure.figsize'] = (12, 6)\n",
    "style.use('ggplot')\n",
    "\n",
    "X_sub1 = scaled_X_train.iloc[:, [0,33]].values\n",
    "y_sub1 = y_train.values\n",
    "\n",
    "def draw_svm1(X, y, C=1.0):\n",
    "    plt.scatter(X[:,0], X[:,1], c=y)\n",
    "    clf = SVC(kernel='poly', C=C)\n",
    "    clf_fit = clf.fit(X, y)\n",
    "\n",
    "    ax = plt.gca()\n",
    "    xlim = ax.get_xlim()\n",
    "    ylim = ax.get_ylim()\n",
    "\n",
    "    xx = np.linspace(xlim[0], xlim[1], 200)\n",
    "    yy = np.linspace(ylim[0], ylim[1], 200)\n",
    "    YY, XX = np.meshgrid(yy, xx)\n",
    "    xy = np.vstack([XX.ravel(), YY.ravel()]).T\n",
    "    Z = clf.decision_function(xy).reshape(XX.shape)\n",
    "\n",
    "    ax.contour(XX, YY, Z, colors='k', levels=[-1, 0, 1], \n",
    "                        alpha=0.5, linestyles=['--', '-', '--'])\n",
    "    ax.scatter(clf.support_vectors_[:, 0], \n",
    "                clf.support_vectors_[:, 1], \n",
    "                s=100, linewidth=1, facecolors='none')\n",
    "    plt.show()\n",
    "    return clf_fit\n",
    "\n",
    "poly_clf1 = draw_svm1(X_sub1, y_sub1)"
   ]
  },
  {
   "cell_type": "code",
   "execution_count": null,
   "metadata": {},
   "outputs": [],
   "source": [
    "# Cross validation using SVM\n",
    "def sig_svm(X_train, y_train, C):\n",
    "    cross_sv = SVC(kernel='sigmoid', degree=C)\n",
    "    scores = cross_validate(cross_sv, X_train, y_train,cv=3, return_train_score=True)\n",
    "    return scores\n",
    "\n",
    "S_score1 = sig_svm(scaled_X_train, y_train, 0.0001)\n",
    "print(np.mean(S_score1['train_score']))\n",
    "print(np.mean(S_score1['test_score']))\n",
    "S_score2 = sig_svm(scaled_X_train, y_train, 0.1)\n",
    "print(np.mean(S_score2['train_score']))\n",
    "print(np.mean(S_score2['test_score']))\n",
    "S_score3 = sig_svm(scaled_X_train, y_train, 1)\n",
    "print(np.mean(S_score3['train_score']))\n",
    "print(np.mean(S_score3['test_score']))"
   ]
  },
  {
   "cell_type": "code",
   "execution_count": null,
   "metadata": {},
   "outputs": [],
   "source": [
    "print(np.mean(S_score1['test_score']))\n",
    "print(np.mean(S_score2['test_score']))\n",
    "print(np.mean(S_score3['test_score']))"
   ]
  },
  {
   "cell_type": "code",
   "execution_count": null,
   "metadata": {},
   "outputs": [],
   "source": [
    "sig_clf = SVC(kernel='sigmoid', C=1).fit(scaled_X_train, y_train)"
   ]
  },
  {
   "cell_type": "code",
   "execution_count": null,
   "metadata": {},
   "outputs": [],
   "source": [
    "y_p = sig_clf.predict(scaled_X_test)\n",
    "print(\"Accuracy:\",metrics.accuracy_score(y_test, y_p))\n",
    "print(confusion_matrix(y_test,y_p))"
   ]
  },
  {
   "cell_type": "code",
   "execution_count": null,
   "metadata": {},
   "outputs": [],
   "source": [
    "# ## plotting curve function different code\n",
    "# def plot_learning_curve(estimator, title, X, y, ylim=None, cv=None,n_jobs=None, train_sizes=np.linspace(.1, 1.0, 5)):\n",
    "#     plt.figure()\n",
    "#     plt.title(title)\n",
    "#     if ylim is not None:\n",
    "#         plt.ylim(*ylim)\n",
    "#     plt.xlabel(\"Training examples\")\n",
    "#     plt.ylabel(\"Score\")\n",
    "#     train_sizes, train_scores, test_scores = learning_curve(\n",
    "#         estimator, X, y, cv=cv, n_jobs=n_jobs, train_sizes=train_sizes)\n",
    "#     train_scores_mean = np.mean(train_scores, axis=1)\n",
    "#     train_scores_std = np.std(train_scores, axis=1)\n",
    "#     test_scores_mean = np.mean(test_scores, axis=1)\n",
    "#     test_scores_std = np.std(test_scores, axis=1)\n",
    "#     plt.grid()\n",
    "\n",
    "#     plt.fill_between(train_sizes, train_scores_mean - train_scores_std,\n",
    "#                      train_scores_mean + train_scores_std, alpha=0.1,\n",
    "#                      color=\"r\")\n",
    "#     plt.fill_between(train_sizes, test_scores_mean - test_scores_std,\n",
    "#                      test_scores_mean + test_scores_std, alpha=0.1, color=\"g\")\n",
    "#     plt.plot(train_sizes, train_scores_mean, 'o-', color=\"r\",\n",
    "#              label=\"Training score\")\n",
    "#     plt.plot(train_sizes, test_scores_mean, 'o-', color=\"g\",\n",
    "#              label=\"Cross-validation score\")\n",
    "\n",
    "#     plt.legend(loc=\"best\")\n",
    "#     return plt\n",
    "\n",
    "\n",
    "# title = r\"Learning Curves (SVM, RBF kernel, $\\gamma=0.001$)\"\n",
    "# cv = ShuffleSplit(n_splits=10, test_size=0.2, random_state=0)\n",
    "# estimator = tree_clf\n",
    "# plot_learning_curve(estimator, title, scaled_X_train, y_train, (0.7, 1.01), cv=cv, n_jobs=4)\n",
    "\n",
    "# plt.show()"
   ]
  },
  {
   "cell_type": "code",
   "execution_count": null,
   "metadata": {},
   "outputs": [],
   "source": [
    "np.unique(y_train)"
   ]
  },
  {
   "cell_type": "code",
   "execution_count": null,
   "metadata": {},
   "outputs": [],
   "source": [
    "#********************************************************Decision Trees********************************************************#"
   ]
  },
  {
   "cell_type": "code",
   "execution_count": null,
   "metadata": {},
   "outputs": [],
   "source": [
    "def print_score(classifier,X_train,y_train,X_test,y_test,train=True):\n",
    "    mean_train_acc = 0\n",
    "    mean_valid_acc = 0\n",
    "    test_acc = 0\n",
    "    res = 0\n",
    "    if train == True:\n",
    "        print(\"Training results:\\n\")\n",
    "        print('Accuracy Score: {0:.4f}\\n'.format(accuracy_score(y_train,classifier.predict(X_train))))\n",
    "        print('Confusion Matrix:\\n{}\\n'.format(confusion_matrix(y_train,classifier.predict(X_train))))\n",
    "        res = cross_validate(classifier, X_train, y_train, cv=10, n_jobs=-1, scoring='accuracy', return_train_score=True)\n",
    "        mean_train_acc = res['train_score'].mean()\n",
    "        mean_valid_acc = res['test_score'].mean()\n",
    "        print('Average Accuracy for Train data:\\t{0:.4f}\\n'.format(res['train_score'].mean()))\n",
    "        print('Average Accuracy for Validation data :\\t{0:.4f}'.format(res['test_score'].mean()))\n",
    "    elif train == False:\n",
    "        print(\"\\n\\nTest results:\\n\")\n",
    "        test_acc = accuracy_score(y_test,classifier.predict(X_test))\n",
    "        print('Accuracy Score: {0:.4f}\\n'.format(accuracy_score(y_test,classifier.predict(X_test))))\n",
    "        print('Confusion Matrix:\\n{}\\n'.format(confusion_matrix(y_test,classifier.predict(X_test))))\n",
    "    return mean_train_acc, mean_valid_acc, test_acc, res"
   ]
  },
  {
   "cell_type": "code",
   "execution_count": null,
   "metadata": {},
   "outputs": [],
   "source": [
    "def diff_dep(X_train, y_train, depth, criteria):\n",
    "    if criteria == True:\n",
    "        classifier = DecisionTreeClassifier(criterion='entropy', random_state=42, max_depth=depth)\n",
    "        classifier.fit(X_train,y_train)\n",
    "    elif criteria == False:\n",
    "        classifier = DecisionTreeClassifier(criterion='gini', random_state=44, max_depth=depth)\n",
    "        classifier.fit(X_train, y_train)\n",
    "    return classifier"
   ]
  },
  {
   "cell_type": "code",
   "execution_count": null,
   "metadata": {},
   "outputs": [],
   "source": [
    "# Classification Trees using Information Gain approach\n",
    "if_classifier = diff_dep(scaled_X_train, y_train, 3, True)\n",
    "mean_train_acc10, mean_valid_acc10, test_acc10, res10 = print_score(if_classifier,scaled_X_train,y_train,scaled_X_test,y_test,train=True)\n",
    "mean_train_acc11, mean_valid_acc11, test_acc11, res11 = print_score(if_classifier,scaled_X_train,y_train,scaled_X_test,y_test,train=False)\n",
    "\n",
    "print(\"\\n ***************************************** \\n\")\n",
    "\n",
    "if_classifier = diff_dep(scaled_X_train, y_train, 5, True)\n",
    "mean_train_acc20, mean_valid_acc20, test_acc20, res20 = print_score(if_classifier,scaled_X_train,y_train,scaled_X_test,y_test,train=True)\n",
    "mean_train_acc21, mean_valid_acc21, test_acc21, res21 = print_score(if_classifier,scaled_X_train,y_train,scaled_X_test,y_test,train=False)\n",
    "\n",
    "print(\"\\n ***************************************** \\n\")\n",
    "\n",
    "if_classifier = diff_dep(scaled_X_train, y_train, 10, True)\n",
    "mean_train_acc30, mean_valid_acc30, test_acc30, res30 = print_score(if_classifier,scaled_X_train,y_train,scaled_X_test,y_test,train=True)\n",
    "mean_train_acc31, mean_valid_acc31, test_acc31, res31 = print_score(if_classifier,scaled_X_train,y_train,scaled_X_test,y_test,train=False)"
   ]
  },
  {
   "cell_type": "code",
   "execution_count": null,
   "metadata": {},
   "outputs": [],
   "source": [
    "if_model_acc = test_acc21\n",
    "if_res = res20"
   ]
  },
  {
   "cell_type": "code",
   "execution_count": null,
   "metadata": {},
   "outputs": [],
   "source": [
    "## Plotting the curves of training and test across different depths \n",
    "plt.figure()\n",
    "total_train_acc = []\n",
    "total_train_acc.append(mean_train_acc10)\n",
    "total_train_acc.append(mean_train_acc20)\n",
    "total_train_acc.append(mean_train_acc30)\n",
    "\n",
    "total_valid_acc = []\n",
    "total_valid_acc.append(mean_valid_acc10)\n",
    "total_valid_acc.append(mean_valid_acc20)\n",
    "total_valid_acc.append(mean_valid_acc30)\n",
    "\n",
    "total_test_acc = []\n",
    "total_test_acc.append(test_acc11)\n",
    "total_test_acc.append(test_acc21)\n",
    "total_test_acc.append(test_acc31)\n",
    "\n",
    "c=[3,5,10]\n",
    "plt.figure(figsize=(10,7))\n",
    "plt.title(\"Train Validation & Test Accuracy for Information Gain Decision tree\")\n",
    "plt.plot(c,total_train_acc,label='train_accuracy')\n",
    "plt.plot(c,total_valid_acc,label='validation_accuracy')\n",
    "plt.plot(c,total_test_acc, label = 'testing_accuracy')\n",
    "plt.xlabel('Different depth')\n",
    "plt.ylabel('Accuracy')\n",
    "plt.legend(loc='lower right')\n",
    "plt.savefig('Dataset1_TVT_GainDTree')"
   ]
  },
  {
   "cell_type": "code",
   "execution_count": null,
   "metadata": {},
   "outputs": [],
   "source": [
    "# *****************************************GINI APPROACH**********************************************************#"
   ]
  },
  {
   "cell_type": "code",
   "execution_count": null,
   "metadata": {},
   "outputs": [],
   "source": [
    "# Classification Trees using GINI Index approach\n",
    "gini_classifier = diff_dep(scaled_X_train, y_train, 3, False)\n",
    "mean_train_acc10, mean_valid_acc10, test_acc10, res10 = print_score(gini_classifier,scaled_X_train,y_train,scaled_X_test,y_test,train=True)\n",
    "mean_train_acc11, mean_valid_acc11, test_acc11, res11 = print_score(gini_classifier,scaled_X_train,y_train,scaled_X_test,y_test,train=False)\n",
    "\n",
    "print(\"\\n ***************************************** \\n\")\n",
    "\n",
    "gini_classifier = diff_dep(scaled_X_train, y_train, 5, False)\n",
    "mean_train_acc20, mean_valid_acc20, test_acc20, res20 = print_score(gini_classifier,scaled_X_train,y_train,scaled_X_test,y_test,train=True)\n",
    "mean_train_acc21, mean_valid_acc21, test_acc21, res21 = print_score(gini_classifier,scaled_X_train,y_train,scaled_X_test,y_test,train=False)\n",
    "\n",
    "print(\"\\n ***************************************** \\n\")\n",
    "\n",
    "gini_classifier = diff_dep(scaled_X_train, y_train, 10, False)\n",
    "mean_train_acc30, mean_valid_acc30, test_acc30, res30 = print_score(gini_classifier,scaled_X_train,y_train,scaled_X_test,y_test,train=True)\n",
    "mean_train_acc31, mean_valid_acc31, test_acc31, res31 = print_score(gini_classifier,scaled_X_train,y_train,scaled_X_test,y_test,train=False)"
   ]
  },
  {
   "cell_type": "code",
   "execution_count": null,
   "metadata": {},
   "outputs": [],
   "source": [
    "gini_model_acc = test_acc21\n",
    "gini_res = res20"
   ]
  },
  {
   "cell_type": "code",
   "execution_count": null,
   "metadata": {},
   "outputs": [],
   "source": [
    "## Plotting the curves of training and test across different depths \n",
    "plt.figure()\n",
    "total_train_acc = []\n",
    "total_train_acc.append(mean_train_acc10)\n",
    "total_train_acc.append(mean_train_acc20)\n",
    "total_train_acc.append(mean_train_acc30)\n",
    "\n",
    "total_valid_acc = []\n",
    "total_valid_acc.append(mean_valid_acc10)\n",
    "total_valid_acc.append(mean_valid_acc20)\n",
    "total_valid_acc.append(mean_valid_acc30)\n",
    "\n",
    "total_test_acc = []\n",
    "total_test_acc.append(test_acc11)\n",
    "total_test_acc.append(test_acc21)\n",
    "total_test_acc.append(test_acc31)\n",
    "\n",
    "c=[3,5,10]\n",
    "plt.figure(figsize=(10,7))\n",
    "plt.title(\"Train Validation & Test Accuracy for Gini Decision tree\")\n",
    "plt.plot(c,total_train_acc,label='train_accuracy')\n",
    "plt.plot(c,total_valid_acc,label='validation_accuracy')\n",
    "plt.plot(c,total_test_acc, label = 'testing_accuracy')\n",
    "plt.legend(loc='lower right')"
   ]
  },
  {
   "cell_type": "code",
   "execution_count": null,
   "metadata": {},
   "outputs": [],
   "source": [
    "from sklearn.tree import export_graphviz\n",
    "from sklearn.externals.six import StringIO\n",
    "from IPython.display import Image\n",
    "import pydotplus\n",
    "\n",
    "dot_data = StringIO()\n",
    "export_graphviz(tree_clf, out_file=dot_data,\n",
    "                filled=True, rounded=True,\n",
    "                special_characters=True, feature_names = list(scaled_X_train), class_names=['0','1'])\n",
    "\n",
    "graph = pydotplus.graph_from_dot_data(dot_data.getvalue())\n"
   ]
  },
  {
   "cell_type": "code",
   "execution_count": null,
   "metadata": {},
   "outputs": [],
   "source": []
  },
  {
   "cell_type": "code",
   "execution_count": null,
   "metadata": {},
   "outputs": [],
   "source": [
    "#*************************************************Ensemble Methods**************************************************************#"
   ]
  },
  {
   "cell_type": "code",
   "execution_count": null,
   "metadata": {},
   "outputs": [],
   "source": [
    "## Boosting algorith Implementation\n",
    "from sklearn.ensemble import AdaBoostClassifier"
   ]
  },
  {
   "cell_type": "code",
   "execution_count": null,
   "metadata": {},
   "outputs": [],
   "source": [
    "# Ensemble methods\n",
    "def depth_boost(X_train, y_train, depth):\n",
    "    classifier = AdaBoostClassifier(n_estimators=50, base_estimator=DecisionTreeClassifier(max_depth=depth))\n",
    "    classifier.fit(X_train,y_train)\n",
    "    return classifier"
   ]
  },
  {
   "cell_type": "code",
   "execution_count": null,
   "metadata": {},
   "outputs": [],
   "source": [
    "## Adap BOOST \n",
    "boost_classifier = depth_boost(scaled_X_train, y_train, 3)\n",
    "mean_train_acc10, mean_valid_acc10, test_acc10, res10 = print_score(boost_classifier,scaled_X_train,y_train,scaled_X_test,y_test,train=True)\n",
    "mean_train_acc11, mean_valid_acc11, test_acc11, res11 = print_score(boost_classifier,scaled_X_train,y_train,scaled_X_test,y_test,train=False)\n",
    "print(\"\\n ****************************************************** \\n\")\n",
    "\n",
    "boost_classifier = depth_boost(X_train, y_train, 5)\n",
    "mean_train_acc20, mean_valid_acc20, test_acc20, res20 = print_score(boost_classifier,scaled_X_train,y_train,scaled_X_test,y_test,train=True)\n",
    "mean_train_acc21, mean_valid_acc21, test_acc21, res21 = print_score(boost_classifier,scaled_X_train,y_train,scaled_X_test,y_test,train=False)\n",
    "print(\"\\n ****************************************************** \\n\")\n",
    "\n",
    "boost_classifier = depth_boost(X_train, y_train, 10)\n",
    "mean_train_acc30, mean_valid_acc30, test_acc30, res30 = print_score(boost_classifier,scaled_X_train,y_train,scaled_X_test,y_test,train=True)\n",
    "mean_train_acc31, mean_valid_acc31, test_acc31, res31 = print_score(boost_classifier,scaled_X_train,y_train,scaled_X_test,y_test,train=False)\n"
   ]
  },
  {
   "cell_type": "code",
   "execution_count": null,
   "metadata": {},
   "outputs": [],
   "source": [
    "boost_model_acc = test_acc21\n",
    "boost_res = res20"
   ]
  },
  {
   "cell_type": "code",
   "execution_count": null,
   "metadata": {},
   "outputs": [],
   "source": [
    "## Plotting the curves of training and test across different depths \n",
    "\n",
    "plt.figure(figsize=(10,7))\n",
    "total_train_acc = []\n",
    "total_train_acc.append(mean_train_acc10)\n",
    "total_train_acc.append(mean_train_acc20)\n",
    "total_train_acc.append(mean_train_acc30)\n",
    "\n",
    "total_valid_acc = []\n",
    "total_valid_acc.append(mean_valid_acc10)\n",
    "total_valid_acc.append(mean_valid_acc20)\n",
    "total_valid_acc.append(mean_valid_acc30)\n",
    "\n",
    "total_test_acc = []\n",
    "total_test_acc.append(test_acc11)\n",
    "total_test_acc.append(test_acc21)\n",
    "total_test_acc.append(test_acc31)\n",
    "\n",
    "c=[3,5,10]\n",
    "plt.title(\"Train, Validation & Test Accuracy for AdaBoost\")\n",
    "plt.plot(c,total_train_acc,label='train_accuracy')\n",
    "plt.plot(c,total_valid_acc,label='validation_accuracy')\n",
    "plt.plot(c,total_test_acc, label = 'testing_accuracy')\n",
    "plt.xlabel('Pruning Depth')\n",
    "plt.ylabel('Accuracy')\n",
    "plt.legend(loc='lower right')\n",
    "plt.savefig('Dataset1_TVTAdaboost')"
   ]
  },
  {
   "cell_type": "code",
   "execution_count": null,
   "metadata": {},
   "outputs": [],
   "source": [
    "accuracy=[model1_acc,0.7513074593999449,0.716597853014038,if_model_acc,boost_model_acc]\n",
    "Functions=['SVM_Linear','SVM_Polynomial','SVM_Sigmoid','Decision_tree','Adaboost']\n",
    "plt.figure(figsize=(10,7))\n",
    "plt.barh(Functions,accuracy,alpha=1)\n",
    "plt.xlabel(\"Accuracy\")\n",
    "#plt.xlim([0.8,0.95])\n",
    "plt.ylabel(\"Learning Algorithms\")\n",
    "plt.title(\"Comparison of Accuracy between all the Algorithms\")\n",
    "plt.savefig('dataset1_Comparison_of_Accuracy_between_all_the_Algorithms.png')"
   ]
  },
  {
   "cell_type": "code",
   "execution_count": null,
   "metadata": {},
   "outputs": [],
   "source": [
    "from sklearn.model_selection import learning_curve\n",
    "from sklearn.model_selection import ShuffleSplit\n",
    "def plot_learning_curve(estimator, title, X, y, ylim=None, cv=None,n_jobs=None, train_sizes=np.linspace(.1, 1.0, 5)):\n",
    "    plt.figure()\n",
    "    plt.title(title)\n",
    "    if ylim is not None:\n",
    "        plt.ylim(*ylim)\n",
    "    plt.xlabel(\"Training examples\")\n",
    "    plt.ylabel(\"Score\")\n",
    "    train_sizes, train_scores, test_scores = learning_curve(\n",
    "        estimator, X, y, cv=cv, n_jobs=n_jobs, train_sizes=train_sizes)\n",
    "    train_scores_mean = np.mean(train_scores, axis=1)\n",
    "    train_scores_std = np.std(train_scores, axis=1)\n",
    "    test_scores_mean = np.mean(test_scores, axis=1)\n",
    "    test_scores_std = np.std(test_scores, axis=1)\n",
    "    plt.grid()\n",
    "\n",
    "    plt.fill_between(train_sizes, train_scores_mean - train_scores_std,\n",
    "                     train_scores_mean + train_scores_std, alpha=0.1,\n",
    "                     color=\"r\")\n",
    "    plt.fill_between(train_sizes, test_scores_mean - test_scores_std,\n",
    "                     test_scores_mean + test_scores_std, alpha=0.1, color=\"g\")\n",
    "    plt.plot(train_sizes, train_scores_mean, 'o-', color=\"r\",\n",
    "             label=\"Training score\")\n",
    "    plt.plot(train_sizes, test_scores_mean, 'o-', color=\"g\",\n",
    "             label=\"Cross-validation score\")\n",
    "\n",
    "    plt.legend(loc=\"best\")\n",
    "    return plt"
   ]
  },
  {
   "cell_type": "code",
   "execution_count": null,
   "metadata": {},
   "outputs": [],
   "source": [
    "title = r\"Learning Curves Decision tree\"\n",
    "# SVC is more expensive so we do a lower number of CV iterations:\n",
    "cv = ShuffleSplit(test_size=0.2, random_state=0)\n",
    "classifier = DecisionTreeClassifier(max_depth=10, random_state=22)\n",
    "plot_learning_curve(classifier, title, X_train, y_train, (0.7, 1.01))\n",
    "plt.show()\n",
    "plt.savefig('Dataset1_learningCurve1.png')"
   ]
  },
  {
   "cell_type": "code",
   "execution_count": null,
   "metadata": {},
   "outputs": [],
   "source": []
  },
  {
   "cell_type": "code",
   "execution_count": null,
   "metadata": {},
   "outputs": [],
   "source": [
    "graph.write_png('Facebook_Tree.png')\n",
    "Image(graph.create_png())"
   ]
  },
  {
   "cell_type": "code",
   "execution_count": null,
   "metadata": {},
   "outputs": [],
   "source": [
    "!pip install graphviz"
   ]
  },
  {
   "cell_type": "code",
   "execution_count": null,
   "metadata": {},
   "outputs": [],
   "source": [
    "!pip install pydot"
   ]
  }
 ],
 "metadata": {
  "kernelspec": {
   "display_name": "Python 3",
   "language": "python",
   "name": "python3"
  },
  "language_info": {
   "codemirror_mode": {
    "name": "ipython",
    "version": 3
   },
   "file_extension": ".py",
   "mimetype": "text/x-python",
   "name": "python",
   "nbconvert_exporter": "python",
   "pygments_lexer": "ipython3",
   "version": "3.7.3"
  }
 },
 "nbformat": 4,
 "nbformat_minor": 2
}
