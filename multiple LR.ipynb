{
 "cells": [
  {
   "cell_type": "code",
   "execution_count": 8,
   "metadata": {},
   "outputs": [
    {
     "name": "stdout",
     "output_type": "stream",
     "text": [
      "[[0. 1. 0. ... 0. 0. 2.]\n",
      " [0. 0. 1. ... 0. 0. 6.]\n",
      " [0. 0. 1. ... 0. 1. 2.]\n",
      " ...\n",
      " [0. 0. 1. ... 0. 1. 1.]\n",
      " [0. 0. 1. ... 0. 1. 1.]\n",
      " [0. 0. 1. ... 0. 1. 3.]]\n"
     ]
    },
    {
     "name": "stderr",
     "output_type": "stream",
     "text": [
      "C:\\Users\\sahithi katuri\\Anaconda3\\lib\\site-packages\\sklearn\\preprocessing\\_encoders.py:415: FutureWarning: The handling of integer data will change in version 0.22. Currently, the categories are determined based on the range [0, max(values)], while in the future they will be determined based on the unique values.\n",
      "If you want the future behaviour and silence this warning, you can specify \"categories='auto'\".\n",
      "In case you used a LabelEncoder before this OneHotEncoder to convert the categories to integers, then you can now use the OneHotEncoder directly.\n",
      "  warnings.warn(msg, FutureWarning)\n",
      "C:\\Users\\sahithi katuri\\Anaconda3\\lib\\site-packages\\sklearn\\preprocessing\\_encoders.py:451: DeprecationWarning: The 'categorical_features' keyword is deprecated in version 0.20 and will be removed in 0.22. You can use the ColumnTransformer instead.\n",
      "  \"use the ColumnTransformer instead.\", DeprecationWarning)\n"
     ]
    }
   ],
   "source": [
    "import numpy as np\n",
    "import pandas as pd\n",
    "import matplotlib.pyplot as plt \n",
    "dataset=pd.read_csv('data.csv')\n",
    "x= dataset.iloc[:,:-1].values\n",
    "y= dataset.iloc[:,4].values\n",
    "from sklearn.preprocessing import LabelEncoder, OneHotEncoder\n",
    "labelencoder_x = LabelEncoder()\n",
    "x[:,0] = labelencoder_x.fit_transform(x[:,0])\n",
    "onehotencoder = OneHotEncoder(categorical_features=[0])\n",
    "x= onehotencoder.fit_transform(x).toarray()\n",
    "#x=x[:,1:]\n",
    "print(x)\n",
    "#from sklearn.model_selection import train_test_split\n",
    "#x_train, x_test, y_train, y_test = train_test_split(x,y,test_size=0.2,random_state=0)"
   ]
  },
  {
   "cell_type": "code",
   "execution_count": 4,
   "metadata": {},
   "outputs": [
    {
     "name": "stdout",
     "output_type": "stream",
     "text": [
      "(30, 5)\n"
     ]
    }
   ],
   "source": [
    "x\n",
    "print(x.shape)"
   ]
  },
  {
   "cell_type": "code",
   "execution_count": 10,
   "metadata": {},
   "outputs": [],
   "source": [
    "from sklearn.linear_model import LinearRegression\n",
    "mlrObj=LinearRegression()\n",
    "mlrObj.fit(x_train,y_train)\n",
    "y_pred = mlrObj.predict(x_test)\n"
   ]
  },
  {
   "cell_type": "code",
   "execution_count": 11,
   "metadata": {},
   "outputs": [
    {
     "data": {
      "text/plain": [
       "array([ 37731, 122391,  57081,  63218, 116969, 109431], dtype=int64)"
      ]
     },
     "execution_count": 11,
     "metadata": {},
     "output_type": "execute_result"
    }
   ],
   "source": [
    "y_test"
   ]
  },
  {
   "cell_type": "code",
   "execution_count": 12,
   "metadata": {},
   "outputs": [
    {
     "data": {
      "text/plain": [
       "array([ 43891.26902659, 126961.49881403,  62010.5455212 ,  61270.23196485,\n",
       "       112780.99305321, 106171.56595799])"
      ]
     },
     "execution_count": 12,
     "metadata": {},
     "output_type": "execute_result"
    }
   ],
   "source": [
    "y_pred"
   ]
  },
  {
   "cell_type": "code",
   "execution_count": 20,
   "metadata": {},
   "outputs": [
    {
     "name": "stderr",
     "output_type": "stream",
     "text": [
      "C:\\Users\\sahithi katuri\\Anaconda3\\lib\\site-packages\\statsmodels\\compat\\pandas.py:23: FutureWarning: The Panel class is removed from pandas. Accessing it from the top-level namespace will also be removed in the next version\n",
      "  data_klasses = (pandas.Series, pandas.DataFrame, pandas.Panel)\n"
     ]
    }
   ],
   "source": [
    "import statsmodels.api as sm"
   ]
  },
  {
   "cell_type": "code",
   "execution_count": 32,
   "metadata": {},
   "outputs": [],
   "source": [
    "x = np.append(arr=np.ones((30,1)).astype(int),values=x,axis=1)\n",
    "x_sig=x[:,[0,1,2,3,4,5]]\n",
    "obj_OLS = sm.OLS(endog = y, exog = x_sig).fit()\n",
    "obj_OLS.summary()\n",
    "x_sig=x[:,[0,1,3,4,5]]\n",
    "obj_OLS = sm.OLS(endog = y, exog = x_sig).fit()\n",
    "obj_OLS.summary()\n",
    "x_sig=x[:,[0,1,3,5]]\n",
    "obj_OLS = sm.OLS(endog = y, exog = x_sig).fit()\n",
    "obj_OLS.summary()\n",
    "x_sig = x[:,[0,3,5]]\n",
    "obj_OLS = sm.OLS(endog = y, exog = x_sig).fit()\n",
    "obj_OLS.summary()\n",
    "\n",
    "x_sig = x[:,[0,5]]\n",
    "obj_OLS = sm.OLS(endog = y, exog = x_sig).fit()\n",
    "obj_OLS.summary()\n",
    "x_sig_train, x_sig_test, y_sig_train, y_sig_test = train_test_split(x_sig, y, test_size=0.2,random_state=0)\n",
    "mlrObj_sig = LinearRegression()\n",
    "mlrObj_sig.fit(x_sig_train, y_sig_train)\n",
    "y_sig_pred = mlrObj_sig.predict(x_sig_test)\n"
   ]
  },
  {
   "cell_type": "code",
   "execution_count": 33,
   "metadata": {},
   "outputs": [
    {
     "data": {
      "text/plain": [
       "array([ 37731, 122391,  57081,  63218, 116969, 109431], dtype=int64)"
      ]
     },
     "execution_count": 33,
     "metadata": {},
     "output_type": "execute_result"
    }
   ],
   "source": [
    "y_test"
   ]
  },
  {
   "cell_type": "code",
   "execution_count": 34,
   "metadata": {},
   "outputs": [
    {
     "data": {
      "text/plain": [
       "array([ 43891.26902659, 126961.49881403,  62010.5455212 ,  61270.23196485,\n",
       "       112780.99305321, 106171.56595799])"
      ]
     },
     "execution_count": 34,
     "metadata": {},
     "output_type": "execute_result"
    }
   ],
   "source": [
    "y_pred"
   ]
  },
  {
   "cell_type": "code",
   "execution_count": 35,
   "metadata": {},
   "outputs": [
    {
     "data": {
      "text/plain": [
       "array([73886.20833333, 73886.20833333, 73886.20833333, 73886.20833333,\n",
       "       73886.20833333, 73886.20833333])"
      ]
     },
     "execution_count": 35,
     "metadata": {},
     "output_type": "execute_result"
    }
   ],
   "source": [
    "y_sig_pred"
   ]
  },
  {
   "cell_type": "code",
   "execution_count": null,
   "metadata": {},
   "outputs": [],
   "source": []
  }
 ],
 "metadata": {
  "kernelspec": {
   "display_name": "Python 3",
   "language": "python",
   "name": "python3"
  },
  "language_info": {
   "codemirror_mode": {
    "name": "ipython",
    "version": 3
   },
   "file_extension": ".py",
   "mimetype": "text/x-python",
   "name": "python",
   "nbconvert_exporter": "python",
   "pygments_lexer": "ipython3",
   "version": "3.7.3"
  }
 },
 "nbformat": 4,
 "nbformat_minor": 2
}
