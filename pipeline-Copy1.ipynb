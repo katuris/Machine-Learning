{
 "cells": [
  {
   "cell_type": "code",
   "execution_count": 1,
   "metadata": {},
   "outputs": [],
   "source": [
    "import pandas as pd\n",
    "import numpy as np\n",
    "import matplotlib.pyplot as plt\n",
    "import warnings\n",
    "warnings.simplefilter(\"ignore\")\n",
    "%matplotlib inline\n",
    "plt.style.use('ggplot')"
   ]
  },
  {
   "cell_type": "code",
   "execution_count": 2,
   "metadata": {},
   "outputs": [],
   "source": [
    "df = pd.read_csv(\"dataset.csv\", header = None,index_col= False,\n",
    "                 names=[\"Likes\",\"Checkin\",\"PageTheme\",\"PageCategory\",\"Derived5\",\"Derived6\",\"Derived7\",\"Derived8\",\"Derived9\",\"Derived10\",\n",
    "                       \"Derived11\",\"Derived12\",\"Derived13\",\"Derived14\",\"Derived15\",\"Derived16\",\"Derived17\",\"Derived18\",\"Derived19\",\n",
    "                       \"Derived20\",\"Derived21\",\"Derived22\",\"Derived23\",\"Derived24\",\"Derived25\",\"Derived26\",\"Derived27\",\"Derived28\",\"Derived29\",\n",
    "                       \"CC1\",\"CC2\",\"CC3\",\"CC4\",\"CC5\",\"BaseTime\",\"PostLength\",\"PostShareCount\",\"PostPromoStatus\",\"HLocal\",\"PostPublishSun\",\n",
    "                        \"PostPublishedMon\",\"PostPublishedTue\",\"PostPublishedWed\",\"PostPublishedThu\",\"PostPublishedFri\",\"PostPublishedSat\",\n",
    "                       \"BaseDateTimeSun\",\"BaseDateTimeMon\",\"BaseDateTimeTue\",\"BaseDateTimeWed\",\"BaseDateTimeThu\",\"BaseDateTimeFri\",\"BaseDateTimeSat\"\n",
    "                       ,\"Target\"])"
   ]
  },
  {
   "cell_type": "code",
   "execution_count": 3,
   "metadata": {},
   "outputs": [
    {
     "data": {
      "text/plain": [
       "7.103668103519464"
      ]
     },
     "execution_count": 3,
     "metadata": {},
     "output_type": "execute_result"
    }
   ],
   "source": [
    "# classifying the target variable\n",
    "np.mean(df.loc[:,'Target'])"
   ]
  },
  {
   "cell_type": "code",
   "execution_count": 4,
   "metadata": {},
   "outputs": [],
   "source": [
    "freq = df['Target'].value_counts()"
   ]
  },
  {
   "cell_type": "code",
   "execution_count": 5,
   "metadata": {
    "scrolled": true
   },
   "outputs": [],
   "source": [
    "freq_sorted = freq.sort_index(axis = 0, ascending = True)"
   ]
  },
  {
   "cell_type": "code",
   "execution_count": 6,
   "metadata": {},
   "outputs": [
    {
     "data": {
      "text/plain": [
       "[<matplotlib.lines.Line2D at 0x2d6a968cda0>]"
      ]
     },
     "execution_count": 6,
     "metadata": {},
     "output_type": "execute_result"
    },
    {
     "data": {
      "image/png": "[encoded data removed]",
      "text/plain": [
       "<Figure size 432x288 with 1 Axes>"
      ]
     },
     "metadata": {
      "needs_background": "light"
     },
     "output_type": "display_data"
    }
   ],
   "source": [
    "plt.plot(freq_sorted)"
   ]
  },
  {
   "cell_type": "code",
   "execution_count": 7,
   "metadata": {},
   "outputs": [],
   "source": [
    "data = df.copy(deep=True)"
   ]
  },
  {
   "cell_type": "code",
   "execution_count": 8,
   "metadata": {},
   "outputs": [],
   "source": [
    "# Classifying anything greater than 0 as class 1 and less than as class 0\n",
    "data['TargetClass'] = np.where(df['Target'] > 0 , 1, 0)"
   ]
  },
  {
   "cell_type": "code",
   "execution_count": 9,
   "metadata": {
    "scrolled": true
   },
   "outputs": [
    {
     "data": {
      "text/html": [
       "<div>\n",
       "<style scoped>\n",
       "    .dataframe tbody tr th:only-of-type {\n",
       "        vertical-align: middle;\n",
       "    }\n",
       "\n",
       "    .dataframe tbody tr th {\n",
       "        vertical-align: top;\n",
       "    }\n",
       "\n",
       "    .dataframe thead th {\n",
       "        text-align: right;\n",
       "    }\n",
       "</style>\n",
       "<table border=\"1\" class=\"dataframe\">\n",
       "  <thead>\n",
       "    <tr style=\"text-align: right;\">\n",
       "      <th></th>\n",
       "      <th>Likes</th>\n",
       "      <th>Checkin</th>\n",
       "      <th>PageTheme</th>\n",
       "      <th>PageCategory</th>\n",
       "      <th>Derived5</th>\n",
       "      <th>Derived6</th>\n",
       "      <th>Derived7</th>\n",
       "      <th>Derived8</th>\n",
       "      <th>Derived9</th>\n",
       "      <th>Derived10</th>\n",
       "      <th>...</th>\n",
       "      <th>PostPublishedFri</th>\n",
       "      <th>PostPublishedSat</th>\n",
       "      <th>BaseDateTimeSun</th>\n",
       "      <th>BaseDateTimeMon</th>\n",
       "      <th>BaseDateTimeTue</th>\n",
       "      <th>BaseDateTimeWed</th>\n",
       "      <th>BaseDateTimeThu</th>\n",
       "      <th>BaseDateTimeFri</th>\n",
       "      <th>BaseDateTimeSat</th>\n",
       "      <th>TargetClass</th>\n",
       "    </tr>\n",
       "  </thead>\n",
       "  <tbody>\n",
       "    <tr>\n",
       "      <td>0</td>\n",
       "      <td>634995</td>\n",
       "      <td>0</td>\n",
       "      <td>463</td>\n",
       "      <td>1</td>\n",
       "      <td>0.0</td>\n",
       "      <td>1280.0</td>\n",
       "      <td>14.807018</td>\n",
       "      <td>1.0</td>\n",
       "      <td>110.927036</td>\n",
       "      <td>0.0</td>\n",
       "      <td>...</td>\n",
       "      <td>0</td>\n",
       "      <td>0</td>\n",
       "      <td>0</td>\n",
       "      <td>0</td>\n",
       "      <td>0</td>\n",
       "      <td>0</td>\n",
       "      <td>0</td>\n",
       "      <td>0</td>\n",
       "      <td>1</td>\n",
       "      <td>0</td>\n",
       "    </tr>\n",
       "    <tr>\n",
       "      <td>1</td>\n",
       "      <td>634995</td>\n",
       "      <td>0</td>\n",
       "      <td>463</td>\n",
       "      <td>1</td>\n",
       "      <td>0.0</td>\n",
       "      <td>1280.0</td>\n",
       "      <td>14.807018</td>\n",
       "      <td>1.0</td>\n",
       "      <td>110.927036</td>\n",
       "      <td>0.0</td>\n",
       "      <td>...</td>\n",
       "      <td>0</td>\n",
       "      <td>0</td>\n",
       "      <td>0</td>\n",
       "      <td>0</td>\n",
       "      <td>0</td>\n",
       "      <td>0</td>\n",
       "      <td>0</td>\n",
       "      <td>0</td>\n",
       "      <td>1</td>\n",
       "      <td>0</td>\n",
       "    </tr>\n",
       "    <tr>\n",
       "      <td>2</td>\n",
       "      <td>634995</td>\n",
       "      <td>0</td>\n",
       "      <td>463</td>\n",
       "      <td>1</td>\n",
       "      <td>0.0</td>\n",
       "      <td>1280.0</td>\n",
       "      <td>14.807018</td>\n",
       "      <td>1.0</td>\n",
       "      <td>110.927036</td>\n",
       "      <td>0.0</td>\n",
       "      <td>...</td>\n",
       "      <td>1</td>\n",
       "      <td>0</td>\n",
       "      <td>0</td>\n",
       "      <td>0</td>\n",
       "      <td>0</td>\n",
       "      <td>0</td>\n",
       "      <td>0</td>\n",
       "      <td>0</td>\n",
       "      <td>1</td>\n",
       "      <td>0</td>\n",
       "    </tr>\n",
       "    <tr>\n",
       "      <td>3</td>\n",
       "      <td>634995</td>\n",
       "      <td>0</td>\n",
       "      <td>463</td>\n",
       "      <td>1</td>\n",
       "      <td>0.0</td>\n",
       "      <td>1280.0</td>\n",
       "      <td>14.807018</td>\n",
       "      <td>1.0</td>\n",
       "      <td>110.927036</td>\n",
       "      <td>0.0</td>\n",
       "      <td>...</td>\n",
       "      <td>1</td>\n",
       "      <td>0</td>\n",
       "      <td>1</td>\n",
       "      <td>0</td>\n",
       "      <td>0</td>\n",
       "      <td>0</td>\n",
       "      <td>0</td>\n",
       "      <td>0</td>\n",
       "      <td>0</td>\n",
       "      <td>0</td>\n",
       "    </tr>\n",
       "    <tr>\n",
       "      <td>4</td>\n",
       "      <td>634995</td>\n",
       "      <td>0</td>\n",
       "      <td>463</td>\n",
       "      <td>1</td>\n",
       "      <td>0.0</td>\n",
       "      <td>1280.0</td>\n",
       "      <td>14.807018</td>\n",
       "      <td>1.0</td>\n",
       "      <td>110.927036</td>\n",
       "      <td>0.0</td>\n",
       "      <td>...</td>\n",
       "      <td>0</td>\n",
       "      <td>0</td>\n",
       "      <td>0</td>\n",
       "      <td>0</td>\n",
       "      <td>0</td>\n",
       "      <td>1</td>\n",
       "      <td>0</td>\n",
       "      <td>0</td>\n",
       "      <td>0</td>\n",
       "      <td>0</td>\n",
       "    </tr>\n",
       "    <tr>\n",
       "      <td>...</td>\n",
       "      <td>...</td>\n",
       "      <td>...</td>\n",
       "      <td>...</td>\n",
       "      <td>...</td>\n",
       "      <td>...</td>\n",
       "      <td>...</td>\n",
       "      <td>...</td>\n",
       "      <td>...</td>\n",
       "      <td>...</td>\n",
       "      <td>...</td>\n",
       "      <td>...</td>\n",
       "      <td>...</td>\n",
       "      <td>...</td>\n",
       "      <td>...</td>\n",
       "      <td>...</td>\n",
       "      <td>...</td>\n",
       "      <td>...</td>\n",
       "      <td>...</td>\n",
       "      <td>...</td>\n",
       "      <td>...</td>\n",
       "      <td>...</td>\n",
       "    </tr>\n",
       "    <tr>\n",
       "      <td>121093</td>\n",
       "      <td>7170111</td>\n",
       "      <td>70</td>\n",
       "      <td>497000</td>\n",
       "      <td>9</td>\n",
       "      <td>0.0</td>\n",
       "      <td>2113.0</td>\n",
       "      <td>456.581081</td>\n",
       "      <td>213.5</td>\n",
       "      <td>477.089459</td>\n",
       "      <td>0.0</td>\n",
       "      <td>...</td>\n",
       "      <td>0</td>\n",
       "      <td>0</td>\n",
       "      <td>0</td>\n",
       "      <td>0</td>\n",
       "      <td>0</td>\n",
       "      <td>0</td>\n",
       "      <td>1</td>\n",
       "      <td>0</td>\n",
       "      <td>0</td>\n",
       "      <td>1</td>\n",
       "    </tr>\n",
       "    <tr>\n",
       "      <td>121094</td>\n",
       "      <td>7170111</td>\n",
       "      <td>70</td>\n",
       "      <td>497000</td>\n",
       "      <td>9</td>\n",
       "      <td>0.0</td>\n",
       "      <td>2113.0</td>\n",
       "      <td>456.581081</td>\n",
       "      <td>213.5</td>\n",
       "      <td>477.089459</td>\n",
       "      <td>0.0</td>\n",
       "      <td>...</td>\n",
       "      <td>0</td>\n",
       "      <td>0</td>\n",
       "      <td>0</td>\n",
       "      <td>0</td>\n",
       "      <td>0</td>\n",
       "      <td>0</td>\n",
       "      <td>1</td>\n",
       "      <td>0</td>\n",
       "      <td>0</td>\n",
       "      <td>1</td>\n",
       "    </tr>\n",
       "    <tr>\n",
       "      <td>121095</td>\n",
       "      <td>7170111</td>\n",
       "      <td>70</td>\n",
       "      <td>497000</td>\n",
       "      <td>9</td>\n",
       "      <td>0.0</td>\n",
       "      <td>2113.0</td>\n",
       "      <td>456.581081</td>\n",
       "      <td>213.5</td>\n",
       "      <td>477.089459</td>\n",
       "      <td>0.0</td>\n",
       "      <td>...</td>\n",
       "      <td>0</td>\n",
       "      <td>0</td>\n",
       "      <td>0</td>\n",
       "      <td>0</td>\n",
       "      <td>0</td>\n",
       "      <td>0</td>\n",
       "      <td>1</td>\n",
       "      <td>0</td>\n",
       "      <td>0</td>\n",
       "      <td>1</td>\n",
       "    </tr>\n",
       "    <tr>\n",
       "      <td>121096</td>\n",
       "      <td>7170111</td>\n",
       "      <td>70</td>\n",
       "      <td>497000</td>\n",
       "      <td>9</td>\n",
       "      <td>0.0</td>\n",
       "      <td>2113.0</td>\n",
       "      <td>456.581081</td>\n",
       "      <td>213.5</td>\n",
       "      <td>477.089459</td>\n",
       "      <td>0.0</td>\n",
       "      <td>...</td>\n",
       "      <td>0</td>\n",
       "      <td>0</td>\n",
       "      <td>0</td>\n",
       "      <td>0</td>\n",
       "      <td>0</td>\n",
       "      <td>0</td>\n",
       "      <td>1</td>\n",
       "      <td>0</td>\n",
       "      <td>0</td>\n",
       "      <td>1</td>\n",
       "    </tr>\n",
       "    <tr>\n",
       "      <td>121097</td>\n",
       "      <td>7170111</td>\n",
       "      <td>70</td>\n",
       "      <td>497000</td>\n",
       "      <td>9</td>\n",
       "      <td>0.0</td>\n",
       "      <td>2113.0</td>\n",
       "      <td>456.581081</td>\n",
       "      <td>213.5</td>\n",
       "      <td>477.089459</td>\n",
       "      <td>0.0</td>\n",
       "      <td>...</td>\n",
       "      <td>0</td>\n",
       "      <td>0</td>\n",
       "      <td>0</td>\n",
       "      <td>0</td>\n",
       "      <td>0</td>\n",
       "      <td>0</td>\n",
       "      <td>1</td>\n",
       "      <td>0</td>\n",
       "      <td>0</td>\n",
       "      <td>1</td>\n",
       "    </tr>\n",
       "  </tbody>\n",
       "</table>\n",
       "<p>121098 rows × 54 columns</p>\n",
       "</div>"
      ],
      "text/plain": [
       "          Likes  Checkin  PageTheme  PageCategory  Derived5  Derived6  \\\n",
       "0        634995        0        463             1       0.0    1280.0   \n",
       "1        634995        0        463             1       0.0    1280.0   \n",
       "2        634995        0        463             1       0.0    1280.0   \n",
       "3        634995        0        463             1       0.0    1280.0   \n",
       "4        634995        0        463             1       0.0    1280.0   \n",
       "...         ...      ...        ...           ...       ...       ...   \n",
       "121093  7170111       70     497000             9       0.0    2113.0   \n",
       "121094  7170111       70     497000             9       0.0    2113.0   \n",
       "121095  7170111       70     497000             9       0.0    2113.0   \n",
       "121096  7170111       70     497000             9       0.0    2113.0   \n",
       "121097  7170111       70     497000             9       0.0    2113.0   \n",
       "\n",
       "          Derived7  Derived8    Derived9  Derived10  ...  PostPublishedFri  \\\n",
       "0        14.807018       1.0  110.927036        0.0  ...                 0   \n",
       "1        14.807018       1.0  110.927036        0.0  ...                 0   \n",
       "2        14.807018       1.0  110.927036        0.0  ...                 1   \n",
       "3        14.807018       1.0  110.927036        0.0  ...                 1   \n",
       "4        14.807018       1.0  110.927036        0.0  ...                 0   \n",
       "...            ...       ...         ...        ...  ...               ...   \n",
       "121093  456.581081     213.5  477.089459        0.0  ...                 0   \n",
       "121094  456.581081     213.5  477.089459        0.0  ...                 0   \n",
       "121095  456.581081     213.5  477.089459        0.0  ...                 0   \n",
       "121096  456.581081     213.5  477.089459        0.0  ...                 0   \n",
       "121097  456.581081     213.5  477.089459        0.0  ...                 0   \n",
       "\n",
       "        PostPublishedSat  BaseDateTimeSun  BaseDateTimeMon  BaseDateTimeTue  \\\n",
       "0                      0                0                0                0   \n",
       "1                      0                0                0                0   \n",
       "2                      0                0                0                0   \n",
       "3                      0                1                0                0   \n",
       "4                      0                0                0                0   \n",
       "...                  ...              ...              ...              ...   \n",
       "121093                 0                0                0                0   \n",
       "121094                 0                0                0                0   \n",
       "121095                 0                0                0                0   \n",
       "121096                 0                0                0                0   \n",
       "121097                 0                0                0                0   \n",
       "\n",
       "        BaseDateTimeWed  BaseDateTimeThu  BaseDateTimeFri  BaseDateTimeSat  \\\n",
       "0                     0                0                0                1   \n",
       "1                     0                0                0                1   \n",
       "2                     0                0                0                1   \n",
       "3                     0                0                0                0   \n",
       "4                     1                0                0                0   \n",
       "...                 ...              ...              ...              ...   \n",
       "121093                0                1                0                0   \n",
       "121094                0                1                0                0   \n",
       "121095                0                1                0                0   \n",
       "121096                0                1                0                0   \n",
       "121097                0                1                0                0   \n",
       "\n",
       "        TargetClass  \n",
       "0                 0  \n",
       "1                 0  \n",
       "2                 0  \n",
       "3                 0  \n",
       "4                 0  \n",
       "...             ...  \n",
       "121093            1  \n",
       "121094            1  \n",
       "121095            1  \n",
       "121096            1  \n",
       "121097            1  \n",
       "\n",
       "[121098 rows x 54 columns]"
      ]
     },
     "execution_count": 9,
     "metadata": {},
     "output_type": "execute_result"
    }
   ],
   "source": [
    "data.drop(['Target'], axis = 1)"
   ]
  },
  {
   "cell_type": "code",
   "execution_count": 10,
   "metadata": {},
   "outputs": [
    {
     "data": {
      "text/html": [
       "<div>\n",
       "<style scoped>\n",
       "    .dataframe tbody tr th:only-of-type {\n",
       "        vertical-align: middle;\n",
       "    }\n",
       "\n",
       "    .dataframe tbody tr th {\n",
       "        vertical-align: top;\n",
       "    }\n",
       "\n",
       "    .dataframe thead th {\n",
       "        text-align: right;\n",
       "    }\n",
       "</style>\n",
       "<table border=\"1\" class=\"dataframe\">\n",
       "  <thead>\n",
       "    <tr style=\"text-align: right;\">\n",
       "      <th></th>\n",
       "      <th>Likes</th>\n",
       "      <th>Checkin</th>\n",
       "      <th>PageTheme</th>\n",
       "      <th>CC1</th>\n",
       "      <th>CC2</th>\n",
       "      <th>CC3</th>\n",
       "      <th>CC4</th>\n",
       "      <th>PostLength</th>\n",
       "      <th>PostShareCount</th>\n",
       "      <th>HLocal</th>\n",
       "      <th>PostPublishSun</th>\n",
       "      <th>PostPublishedMon</th>\n",
       "      <th>PostPublishedTue</th>\n",
       "      <th>PostPublishedWed</th>\n",
       "      <th>PostPublishedThu</th>\n",
       "      <th>PostPublishedFri</th>\n",
       "      <th>PostPublishedSat</th>\n",
       "    </tr>\n",
       "  </thead>\n",
       "  <tbody>\n",
       "    <tr>\n",
       "      <td>0</td>\n",
       "      <td>634995</td>\n",
       "      <td>0</td>\n",
       "      <td>463</td>\n",
       "      <td>0</td>\n",
       "      <td>0</td>\n",
       "      <td>0</td>\n",
       "      <td>0</td>\n",
       "      <td>166</td>\n",
       "      <td>2</td>\n",
       "      <td>24</td>\n",
       "      <td>0</td>\n",
       "      <td>0</td>\n",
       "      <td>0</td>\n",
       "      <td>1</td>\n",
       "      <td>0</td>\n",
       "      <td>0</td>\n",
       "      <td>0</td>\n",
       "    </tr>\n",
       "    <tr>\n",
       "      <td>1</td>\n",
       "      <td>634995</td>\n",
       "      <td>0</td>\n",
       "      <td>463</td>\n",
       "      <td>0</td>\n",
       "      <td>0</td>\n",
       "      <td>0</td>\n",
       "      <td>0</td>\n",
       "      <td>132</td>\n",
       "      <td>1</td>\n",
       "      <td>24</td>\n",
       "      <td>0</td>\n",
       "      <td>0</td>\n",
       "      <td>0</td>\n",
       "      <td>0</td>\n",
       "      <td>1</td>\n",
       "      <td>0</td>\n",
       "      <td>0</td>\n",
       "    </tr>\n",
       "    <tr>\n",
       "      <td>2</td>\n",
       "      <td>634995</td>\n",
       "      <td>0</td>\n",
       "      <td>463</td>\n",
       "      <td>0</td>\n",
       "      <td>0</td>\n",
       "      <td>0</td>\n",
       "      <td>0</td>\n",
       "      <td>133</td>\n",
       "      <td>2</td>\n",
       "      <td>24</td>\n",
       "      <td>0</td>\n",
       "      <td>0</td>\n",
       "      <td>0</td>\n",
       "      <td>0</td>\n",
       "      <td>0</td>\n",
       "      <td>1</td>\n",
       "      <td>0</td>\n",
       "    </tr>\n",
       "    <tr>\n",
       "      <td>3</td>\n",
       "      <td>634995</td>\n",
       "      <td>0</td>\n",
       "      <td>463</td>\n",
       "      <td>7</td>\n",
       "      <td>1</td>\n",
       "      <td>6</td>\n",
       "      <td>7</td>\n",
       "      <td>131</td>\n",
       "      <td>1</td>\n",
       "      <td>24</td>\n",
       "      <td>0</td>\n",
       "      <td>0</td>\n",
       "      <td>0</td>\n",
       "      <td>0</td>\n",
       "      <td>0</td>\n",
       "      <td>1</td>\n",
       "      <td>0</td>\n",
       "    </tr>\n",
       "    <tr>\n",
       "      <td>4</td>\n",
       "      <td>634995</td>\n",
       "      <td>0</td>\n",
       "      <td>463</td>\n",
       "      <td>1</td>\n",
       "      <td>0</td>\n",
       "      <td>1</td>\n",
       "      <td>1</td>\n",
       "      <td>142</td>\n",
       "      <td>5</td>\n",
       "      <td>24</td>\n",
       "      <td>0</td>\n",
       "      <td>1</td>\n",
       "      <td>0</td>\n",
       "      <td>0</td>\n",
       "      <td>0</td>\n",
       "      <td>0</td>\n",
       "      <td>0</td>\n",
       "    </tr>\n",
       "  </tbody>\n",
       "</table>\n",
       "</div>"
      ],
      "text/plain": [
       "    Likes  Checkin  PageTheme  CC1  CC2  CC3  CC4  PostLength  PostShareCount  \\\n",
       "0  634995        0        463    0    0    0    0         166               2   \n",
       "1  634995        0        463    0    0    0    0         132               1   \n",
       "2  634995        0        463    0    0    0    0         133               2   \n",
       "3  634995        0        463    7    1    6    7         131               1   \n",
       "4  634995        0        463    1    0    1    1         142               5   \n",
       "\n",
       "   HLocal  PostPublishSun  PostPublishedMon  PostPublishedTue  \\\n",
       "0      24               0                 0                 0   \n",
       "1      24               0                 0                 0   \n",
       "2      24               0                 0                 0   \n",
       "3      24               0                 0                 0   \n",
       "4      24               0                 1                 0   \n",
       "\n",
       "   PostPublishedWed  PostPublishedThu  PostPublishedFri  PostPublishedSat  \n",
       "0                 1                 0                 0                 0  \n",
       "1                 0                 1                 0                 0  \n",
       "2                 0                 0                 1                 0  \n",
       "3                 0                 0                 1                 0  \n",
       "4                 0                 0                 0                 0  "
      ]
     },
     "execution_count": 10,
     "metadata": {},
     "output_type": "execute_result"
    }
   ],
   "source": [
    "# Selecting 17 features as having the highest significance as per the repository info:\n",
    "\n",
    "X = data.loc[:,['Likes','Checkin','PageTheme','CC1','CC2','CC3','CC4','PostLength','PostShareCount','HLocal','PostPublishSun',\n",
    "'PostPublishedMon','PostPublishedTue','PostPublishedWed','PostPublishedThu','PostPublishedFri','PostPublishedSat',]]\n",
    "y = data.loc[:,'TargetClass']\n",
    "X.head()"
   ]
  },
  {
   "cell_type": "code",
   "execution_count": 11,
   "metadata": {},
   "outputs": [
    {
     "name": "stdout",
     "output_type": "stream",
     "text": [
      "(84768, 17)\n",
      "(84768,)\n",
      "(36330, 17)\n",
      "(36330,)\n"
     ]
    }
   ],
   "source": [
    "from sklearn.model_selection import train_test_split\n",
    "X_train, X_test, y_train, y_test = train_test_split(X, y, random_state = 0, test_size = 0.3)\n",
    "print(X_train.shape)\n",
    "print(y_train.shape)\n",
    "print(X_test.shape)\n",
    "print(y_test.shape)"
   ]
  },
  {
   "cell_type": "code",
   "execution_count": 12,
   "metadata": {},
   "outputs": [],
   "source": [
    "scaled_X_train = X_train.copy(deep=True)\n",
    "scaled_X_test = X_test.copy(deep=True)\n"
   ]
  },
  {
   "cell_type": "code",
   "execution_count": null,
   "metadata": {},
   "outputs": [],
   "source": []
  },
  {
   "cell_type": "code",
   "execution_count": 13,
   "metadata": {},
   "outputs": [
    {
     "data": {
      "text/plain": [
       "(121098, 54)"
      ]
     },
     "execution_count": 13,
     "metadata": {},
     "output_type": "execute_result"
    }
   ],
   "source": [
    "df.shape"
   ]
  },
  {
   "cell_type": "code",
   "execution_count": 14,
   "metadata": {},
   "outputs": [],
   "source": [
    "#Pipeline 1\n",
    "# from sklearn.preprocessing import StandardScaler\n",
    "# from sklearn.model_selection import cross_val_score\n",
    "# from sklearn.model_selection import cross_validate\n",
    "# from sklearn.linear_model import LogisticRegression\n",
    "# from sklearn.pipeline import make_pipeline\n",
    "# from sklearn import metrics\n",
    "# from sklearn.metrics import confusion_matrix\n",
    "# pipe_lr = make_pipeline(StandardScaler(),LogisticRegression(random_state=0))\n",
    "# scores = cross_val_score(pipe_lr,X_train,y_train,cv=3)\n",
    "# pipe_lr.fit(X_train, y_train)\n",
    "# y_pred = pipe_lr.predict(X_test)\n",
    "# print('Test Accuracy: %.3f' % pipe_lr.score(X_test, y_test))\n",
    "# print(scores.mean())\n",
    "# model_1 = scores.mean()\n",
    "# model_1_confusion = confusion_matrix(y_test,y_pred)\n",
    "# print(model_1_confusion)"
   ]
  },
  {
   "cell_type": "code",
   "execution_count": 15,
   "metadata": {},
   "outputs": [],
   "source": [
    "#Pipeline2\n",
    "# from sklearn.preprocessing import StandardScaler\n",
    "# from sklearn.model_selection import cross_val_score\n",
    "# from sklearn.model_selection import cross_validate\n",
    "# from sklearn.svm import SVC, LinearSVC\n",
    "# from sklearn.metrics import confusion_matrix\n",
    "# pipe_svl = make_pipeline(StandardScaler(),SVC(kernel='linear', C= 1))\n",
    "# scores = cross_val_score(pipe_svl,X_train,y_train,cv=3)\n",
    "# pipe_svl.fit(X_train, y_train)\n",
    "# y_pred = pipe_svl.predict(X_test)\n",
    "# print('Test Accuracy: %.3f' % pipe_svl.score(X_test, y_test))\n",
    "# print(scores.mean())\n",
    "# model_2 = scores.mean()\n",
    "# model_2_confusion = confusion_matrix(y_test,y_pred)\n",
    "# print(model_2_confusion)"
   ]
  },
  {
   "cell_type": "code",
   "execution_count": 16,
   "metadata": {},
   "outputs": [],
   "source": [
    "#Pipeline3\n",
    "from sklearn.preprocessing import StandardScaler\n",
    "from sklearn.model_selection import cross_val_score\n",
    "from sklearn.model_selection import cross_validate\n",
    "from sklearn.svm import SVC\n",
    "from sklearn.metrics import confusion_matrix\n",
    "from sklearn.pipeline import make_pipeline\n",
    "pipe_svp = make_pipeline(StandardScaler(),SVC(kernel='poly',degree=3))\n",
    "scores = cross_val_score(pipe_svp,X_train,y_train,cv=3)\n",
    "pipe_svp.fit(X_train, y_train)\n",
    "y_pred = pipe_svp.predict(X_test)\n",
    "\n",
    "\n"
   ]
  },
  {
   "cell_type": "code",
   "execution_count": null,
   "metadata": {},
   "outputs": [],
   "source": []
  },
  {
   "cell_type": "code",
   "execution_count": null,
   "metadata": {},
   "outputs": [],
   "source": []
  },
  {
   "cell_type": "code",
   "execution_count": null,
   "metadata": {},
   "outputs": [],
   "source": []
  },
  {
   "cell_type": "code",
   "execution_count": 17,
   "metadata": {},
   "outputs": [],
   "source": [
    "# #Pipeline4\n",
    "# from sklearn.preprocessing import StandardScaler\n",
    "# from sklearn.model_selection import cross_val_score\n",
    "# from sklearn.model_selection import cross_validate\n",
    "# from sklearn.svm import SVC\n",
    "# from sklearn.metrics import confusion_matrix\n",
    "# c = [0.0001,0.1,1]\n",
    "# for i in c:\n",
    "#     pipe_svs_i = make_pipeline(StandardScaler(),SVC(kernel='sigmoid', degree = i))\n",
    "#     scores = cross_val_score(pipe_svs_i,X_train,y_train,cv=3)\n",
    "#     pipe_svs_i.fit(X_train, y_train)\n",
    "#     y_pred = pipe_svs_i.predict(X_test)\n",
    "#     print('Test Accuracy: %.3f' % pipe_svs_i.score(X_test, y_test))\n",
    "#     print(scores.mean())\n",
    "#     model_4_i = scores.mean()\n",
    "#     model_4_confusion = confusion_matrix(y_test,y_pred)\n",
    "#     print(model_4_confusion)"
   ]
  },
  {
   "cell_type": "code",
   "execution_count": 18,
   "metadata": {},
   "outputs": [
    {
     "ename": "TypeError",
     "evalue": "__init__() got an unexpected keyword argument 'random_State'",
     "output_type": "error",
     "traceback": [
      "\u001b[1;31m---------------------------------------------------------------------------\u001b[0m",
      "\u001b[1;31mTypeError\u001b[0m                                 Traceback (most recent call last)",
      "\u001b[1;32m<ipython-input-18-9deb3793778f>\u001b[0m in \u001b[0;36m<module>\u001b[1;34m\u001b[0m\n\u001b[0;32m      5\u001b[0m \u001b[1;32mfrom\u001b[0m \u001b[0msklearn\u001b[0m\u001b[1;33m.\u001b[0m\u001b[0mmetrics\u001b[0m \u001b[1;32mimport\u001b[0m \u001b[0mconfusion_matrix\u001b[0m\u001b[1;33m\u001b[0m\u001b[1;33m\u001b[0m\u001b[0m\n\u001b[0;32m      6\u001b[0m \u001b[1;32mfrom\u001b[0m \u001b[0msklearn\u001b[0m\u001b[1;33m.\u001b[0m\u001b[0mnaive_bayes\u001b[0m \u001b[1;32mimport\u001b[0m \u001b[0mGaussianNB\u001b[0m\u001b[1;33m\u001b[0m\u001b[1;33m\u001b[0m\u001b[0m\n\u001b[1;32m----> 7\u001b[1;33m \u001b[0mpipe_nb\u001b[0m \u001b[1;33m=\u001b[0m \u001b[0mmake_pipeline\u001b[0m\u001b[1;33m(\u001b[0m\u001b[0mStandardScaler\u001b[0m\u001b[1;33m(\u001b[0m\u001b[1;33m)\u001b[0m\u001b[1;33m,\u001b[0m\u001b[0mGaussianNB\u001b[0m\u001b[1;33m(\u001b[0m\u001b[0mrandom_State\u001b[0m\u001b[1;33m=\u001b[0m\u001b[1;36m0\u001b[0m\u001b[1;33m)\u001b[0m\u001b[1;33m)\u001b[0m\u001b[1;33m\u001b[0m\u001b[1;33m\u001b[0m\u001b[0m\n\u001b[0m\u001b[0;32m      8\u001b[0m \u001b[0mscores\u001b[0m \u001b[1;33m=\u001b[0m \u001b[0mcross_val_score\u001b[0m\u001b[1;33m(\u001b[0m\u001b[0mpipe_nb\u001b[0m\u001b[1;33m,\u001b[0m\u001b[0mX_train\u001b[0m\u001b[1;33m,\u001b[0m\u001b[0my_train\u001b[0m\u001b[1;33m,\u001b[0m\u001b[0mcv\u001b[0m\u001b[1;33m=\u001b[0m\u001b[1;36m3\u001b[0m\u001b[1;33m)\u001b[0m\u001b[1;33m\u001b[0m\u001b[1;33m\u001b[0m\u001b[0m\n\u001b[0;32m      9\u001b[0m \u001b[0mpipe_nb\u001b[0m\u001b[1;33m.\u001b[0m\u001b[0mfit\u001b[0m\u001b[1;33m(\u001b[0m\u001b[0mX_train\u001b[0m\u001b[1;33m,\u001b[0m \u001b[0my_train\u001b[0m\u001b[1;33m)\u001b[0m\u001b[1;33m\u001b[0m\u001b[1;33m\u001b[0m\u001b[0m\n",
      "\u001b[1;31mTypeError\u001b[0m: __init__() got an unexpected keyword argument 'random_State'"
     ]
    }
   ],
   "source": [
    "#Pipeline5\n",
    "from sklearn.preprocessing import StandardScaler\n",
    "from sklearn.model_selection import cross_val_score\n",
    "from sklearn.model_selection import cross_validate\n",
    "from sklearn.metrics import confusion_matrix\n",
    "from sklearn.naive_bayes import GaussianNB\n",
    "pipe_nb = make_pipeline(StandardScaler(),GaussianNB(random_State=0))\n",
    "scores = cross_val_score(pipe_nb,X_train,y_train,cv=3)\n",
    "pipe_nb.fit(X_train, y_train)\n",
    "y_pred = pipe_nb.predict(X_test)\n",
    "print('Test Accuracy: %.3f' % pipe_nb.score(X_test, y_test))\n",
    "print(scores.mean())\n",
    "model_5 = scores.mean()\n",
    "model_5_confusion = confusion_matrix(y_test,y_pred)\n",
    "print(model_5_confusion)"
   ]
  },
  {
   "cell_type": "code",
   "execution_count": null,
   "metadata": {},
   "outputs": [],
   "source": []
  },
  {
   "cell_type": "code",
   "execution_count": null,
   "metadata": {},
   "outputs": [],
   "source": []
  },
  {
   "cell_type": "code",
   "execution_count": null,
   "metadata": {},
   "outputs": [],
   "source": []
  },
  {
   "cell_type": "code",
   "execution_count": null,
   "metadata": {},
   "outputs": [],
   "source": []
  },
  {
   "cell_type": "code",
   "execution_count": null,
   "metadata": {},
   "outputs": [],
   "source": []
  },
  {
   "cell_type": "code",
   "execution_count": null,
   "metadata": {},
   "outputs": [],
   "source": [
    "def print_score1(classifier,X_train,y_train,X_test,y_test,train=True):\n",
    "    mean_train_acc = 0\n",
    "    mean_valid_acc = 0\n",
    "    test_acc = 0\n",
    "    res = 0\n",
    "    if train == True:\n",
    "        print(\"Training results:\\n\")\n",
    "        print('Accuracy Score: {0:.4f}\\n'.format(accuracy_score(y_train,classifier.predict(X_train))))\n",
    "        print('Confusion Matrix:\\n{}\\n'.format(confusion_matrix(y_train,classifier.predict(X_train))))\n",
    "        res = cross_validate(classifier, X_train, y_train, cv=3, n_jobs=-1, scoring='accuracy', return_train_score=True)\n",
    "        mean_train_acc = res['train_score'].mean()\n",
    "        mean_valid_acc = res['test_score'].mean()\n",
    "        print('Average Accuracy for Train data:\\t{0:.4f}\\n'.format(res['train_score'].mean()))\n",
    "        print('Average Accuracy for Validation data :\\t{0:.4f}'.format(res['test_score'].mean()))\n",
    "    elif train == False:\n",
    "        print(\"\\n\\nTest results:\\n\")\n",
    "        test_acc = accuracy_score(y_test,classifier.predict(X_test))\n",
    "        print('Accuracy Score: {0:.4f}\\n'.format(accuracy_score(y_test,classifier.predict(X_test))))\n",
    "        print('Confusion Matrix:\\n{}\\n'.format(confusion_matrix(y_test,classifier.predict(X_test))))\n",
    "    return mean_train_acc, mean_valid_acc, test_acc, res"
   ]
  },
  {
   "cell_type": "code",
   "execution_count": null,
   "metadata": {},
   "outputs": [],
   "source": []
  },
  {
   "cell_type": "code",
   "execution_count": null,
   "metadata": {},
   "outputs": [],
   "source": []
  },
  {
   "cell_type": "code",
   "execution_count": null,
   "metadata": {},
   "outputs": [],
   "source": []
  },
  {
   "cell_type": "code",
   "execution_count": null,
   "metadata": {},
   "outputs": [],
   "source": [
    "# # Kernel SVM\n",
    "# rbf_clf = SVC()\n",
    "# from sklearn.model_selection import cross_val_score\n",
    "# modelAccuracies = cross_val_score(estimator= rbf_clf, X=scaled_X_train, y=y_train, cv=3)\n",
    "# print(modelAccuracies.mean())"
   ]
  },
  {
   "cell_type": "code",
   "execution_count": null,
   "metadata": {},
   "outputs": [],
   "source": [
    "# rbf_clf.fit(scaled_X_train, y_train)\n",
    "# y_pred_2 = rbf_clf.predict(scaled_X_test)\n",
    "# print(confusion_matrix(y_test,y_pred_2))\n",
    "# print(\"Accuracy:\",metrics.accuracy_score(y_test, y_pred_2))"
   ]
  },
  {
   "cell_type": "code",
   "execution_count": null,
   "metadata": {},
   "outputs": [],
   "source": [
    "# model2_acc = metrics.accuracy_score(y_test, y_pred_2)"
   ]
  },
  {
   "cell_type": "code",
   "execution_count": null,
   "metadata": {},
   "outputs": [],
   "source": [
    "\n"
   ]
  },
  {
   "cell_type": "code",
   "execution_count": null,
   "metadata": {},
   "outputs": [],
   "source": []
  },
  {
   "cell_type": "code",
   "execution_count": null,
   "metadata": {
    "scrolled": true
   },
   "outputs": [],
   "source": []
  },
  {
   "cell_type": "code",
   "execution_count": null,
   "metadata": {
    "scrolled": true
   },
   "outputs": [],
   "source": [
    "# Cross validation using SVM\n",
    "def poly_svm(X_train, y_train, C):\n",
    "    cross_sv = SVC(kernel='poly', degree=C)\n",
    "    scores = cross_validate(cross_sv, X_train, y_train,cv=3, return_train_score=True)\n",
    "    return scores\n",
    "\n",
    "P_score1 = poly_svm(scaled_X_train, y_train, 2)\n",
    "print(np.mean(P_score1['train_score']))\n",
    "print(np.mean(P_score1['test_score']))\n",
    "P_score2 = poly_svm(scaled_X_train, y_train, 3)\n",
    "print(np.mean(P_score2['train_score']))\n",
    "print(np.mean(P_score2['test_score']))\n",
    "P_score3 = poly_svm(scaled_X_train, y_train, 4)\n",
    "print(np.mean(P_score3['train_score']))\n",
    "print(np.mean(P_score3['test_score']))"
   ]
  },
  {
   "cell_type": "code",
   "execution_count": null,
   "metadata": {},
   "outputs": [],
   "source": [
    "print(np.mean(P_score1['test_score']))\n",
    "print(np.mean(P_score2['test_score']))\n",
    "print(np.mean(P_score3['test_score']))"
   ]
  },
  {
   "cell_type": "code",
   "execution_count": null,
   "metadata": {},
   "outputs": [],
   "source": [
    "total_train_acc = []\n",
    "total_train_acc.append(np.mean(P_score1['train_score']))\n",
    "total_train_acc.append(np.mean(P_score2['train_score']))\n",
    "total_train_acc.append(np.mean(P_score3['train_score']))\n",
    "print(total_train_acc)\n",
    "\n",
    "total_test_acc = []\n",
    "total_test_acc.append(np.mean(P_score1['test_score']))\n",
    "total_test_acc.append(np.mean(P_score2['test_score']))\n",
    "total_test_acc.append(np.mean(P_score3['test_score']))\n",
    "print(total_test_acc)\n"
   ]
  },
  {
   "cell_type": "code",
   "execution_count": null,
   "metadata": {},
   "outputs": [],
   "source": [
    "plt.figure(figsize=(10,7))\n",
    "plt.title('Accuracy plot for Polynomial Kernel')\n",
    "plt.xlabel('Degree of polynomial')\n",
    "plt.ylabel('Accuracy')\n",
    "c = [2,3,4]\n",
    "plt.plot(c,total_train_acc, label='Train accuracy')\n",
    "plt.plot(c,total_test_acc,label = 'Validation accuracy')\n",
    "plt.legend(loc='lower right')"
   ]
  },
  {
   "cell_type": "code",
   "execution_count": null,
   "metadata": {
    "scrolled": true
   },
   "outputs": [],
   "source": [
    "# Polynomial kernel\n",
    "poly_clf = SVC(kernel='poly', degree = 3)\n",
    "poly_clf.fit(scaled_X_train, y_train)"
   ]
  },
  {
   "cell_type": "code",
   "execution_count": null,
   "metadata": {},
   "outputs": [],
   "source": [
    "y_pred_4 = poly_clf.predict(scaled_X_test)\n",
    "print(confusion_matrix(y_test,y_pred_4))\n",
    "print(\"Accuracy:\",metrics.accuracy_score(y_test, y_pred_4))"
   ]
  },
  {
   "cell_type": "code",
   "execution_count": null,
   "metadata": {},
   "outputs": [],
   "source": [
    "model4_acc = metrics.accuracy_score(y_test, y_pred_4)\n",
    "model4_confusion = confusion_matrix(y_test,y_pred_4)"
   ]
  },
  {
   "cell_type": "code",
   "execution_count": null,
   "metadata": {},
   "outputs": [],
   "source": [
    "# Cross validation using SVM\n",
    "def sig_svm(X_train, y_train, C):\n",
    "    cross_sv = SVC(kernel='sigmoid', degree=C)\n",
    "    scores = cross_validate(cross_sv, X_train, y_train,cv=3, return_train_score=True)\n",
    "    return scores\n",
    "\n",
    "S_score1 = sig_svm(scaled_X_train, y_train, 0.0001)\n",
    "print(np.mean(S_score1['train_score']))\n",
    "print(np.mean(S_score1['test_score']))\n",
    "S_score2 = sig_svm(scaled_X_train, y_train, 0.1)\n",
    "print(np.mean(S_score2['train_score']))\n",
    "print(np.mean(S_score2['test_score']))\n",
    "S_score3 = sig_svm(scaled_X_train, y_train, 1)\n",
    "print(np.mean(S_score3['train_score']))\n",
    "print(np.mean(S_score3['test_score']))"
   ]
  },
  {
   "cell_type": "code",
   "execution_count": null,
   "metadata": {},
   "outputs": [],
   "source": [
    "print(np.mean(S_score1['test_score']))\n",
    "print(np.mean(S_score2['test_score']))\n",
    "print(np.mean(S_score3['test_score']))"
   ]
  },
  {
   "cell_type": "code",
   "execution_count": null,
   "metadata": {},
   "outputs": [],
   "source": [
    "sig_clf = SVC(kernel='sigmoid', C=1).fit(scaled_X_train, y_train)"
   ]
  },
  {
   "cell_type": "code",
   "execution_count": null,
   "metadata": {},
   "outputs": [],
   "source": [
    "y_pred_5 = sig_clf.predict(scaled_X_test)\n",
    "print(\"Accuracy:\",metrics.accuracy_score(y_test, y_pred_5))\n",
    "print(confusion_matrix(y_test,y_pred_5))"
   ]
  },
  {
   "cell_type": "code",
   "execution_count": null,
   "metadata": {},
   "outputs": [],
   "source": [
    "model5_acc = metrics.accuracy_score(y_test, y_pred_5)\n",
    "model5_confusion = confusion_matrix(y_test,y_pred_5)"
   ]
  },
  {
   "cell_type": "code",
   "execution_count": null,
   "metadata": {},
   "outputs": [],
   "source": [
    "np.unique(y_train)"
   ]
  },
  {
   "cell_type": "code",
   "execution_count": null,
   "metadata": {},
   "outputs": [],
   "source": [
    "# Naive Bayes\n",
    "from sklearn.naive_bayes import GaussianNB\n",
    "NB = GaussianNB()\n",
    "\n",
    "from sklearn.model_selection import cross_val_score\n",
    "modelAccuracies = cross_val_score(estimator= NB, X=scaled_X_train, y=y_train, cv=3)\n",
    "print(modelAccuracies.mean())"
   ]
  },
  {
   "cell_type": "code",
   "execution_count": null,
   "metadata": {},
   "outputs": [],
   "source": [
    "NB.fit(scaled_X_train, y_train)\n",
    "\n",
    "#Making predictions on the Test Set\n",
    "y_pred_6 = NB.predict(scaled_X_test)\n",
    "print(confusion_matrix(y_test,y_pred_6))\n",
    "print(\"Accuracy:\",metrics.accuracy_score(y_test, y_pred_6))"
   ]
  },
  {
   "cell_type": "code",
   "execution_count": null,
   "metadata": {},
   "outputs": [],
   "source": [
    "model6_acc = metrics.accuracy_score(y_test, y_pred_6)"
   ]
  },
  {
   "cell_type": "code",
   "execution_count": null,
   "metadata": {},
   "outputs": [],
   "source": [
    "def print_score(classifier,X_train,y_train,X_test,y_test,train=True):\n",
    "    mean_train_acc = 0\n",
    "    mean_valid_acc = 0\n",
    "    test_acc = 0\n",
    "    res = 0\n",
    "    if train == True:\n",
    "        print(\"Training results:\\n\")\n",
    "        print('Accuracy Score: {0:.4f}\\n'.format(accuracy_score(y_train,classifier.predict(X_train))))\n",
    "        print('Confusion Matrix:\\n{}\\n'.format(confusion_matrix(y_train,classifier.predict(X_train))))\n",
    "        res = cross_validate(classifier, X_train, y_train, cv=10, n_jobs=-1, scoring='accuracy', return_train_score=True)\n",
    "        mean_train_acc = res['train_score'].mean()\n",
    "        mean_valid_acc = res['test_score'].mean()\n",
    "        print('Average Accuracy for Train data:\\t{0:.4f}\\n'.format(res['train_score'].mean()))\n",
    "        print('Average Accuracy for Validation data :\\t{0:.4f}'.format(res['test_score'].mean()))\n",
    "    elif train == False:\n",
    "        print(\"\\n\\nTest results:\\n\")\n",
    "        test_acc = accuracy_score(y_test,classifier.predict(X_test))\n",
    "        print('Accuracy Score: {0:.4f}\\n'.format(accuracy_score(y_test,classifier.predict(X_test))))\n",
    "        print('Confusion Matrix:\\n{}\\n'.format(confusion_matrix(y_test,classifier.predict(X_test))))\n",
    "    return mean_train_acc, mean_valid_acc, test_acc, res"
   ]
  },
  {
   "cell_type": "code",
   "execution_count": null,
   "metadata": {},
   "outputs": [],
   "source": [
    "def diff_dep(X_train, y_train, depth, criteria):\n",
    "    if criteria == True:\n",
    "        classifier = DecisionTreeClassifier(criterion='entropy', random_state=42, max_depth=depth)\n",
    "        classifier.fit(X_train,y_train)\n",
    "    elif criteria == False:\n",
    "        classifier = DecisionTreeClassifier(criterion='gini', random_state=44, max_depth=depth)\n",
    "        classifier.fit(X_train, y_train)\n",
    "    return classifier"
   ]
  },
  {
   "cell_type": "code",
   "execution_count": null,
   "metadata": {},
   "outputs": [],
   "source": [
    "# Classification Trees using Information Gain approach\n",
    "if_classifier = diff_dep(scaled_X_train, y_train, 3, True)\n",
    "mean_train_acc10, mean_valid_acc10, test_acc10, res10 = print_score(if_classifier,scaled_X_train,y_train,scaled_X_test,y_test,train=True)\n",
    "mean_train_acc11, mean_valid_acc11, test_acc11, res11 = print_score(if_classifier,scaled_X_train,y_train,scaled_X_test,y_test,train=False)\n",
    "\n",
    "print(\"\\n ***************************************** \\n\")\n",
    "\n",
    "if_classifier = diff_dep(scaled_X_train, y_train, 5, True)\n",
    "mean_train_acc20, mean_valid_acc20, test_acc20, res20 = print_score(if_classifier,scaled_X_train,y_train,scaled_X_test,y_test,train=True)\n",
    "mean_train_acc21, mean_valid_acc21, test_acc21, res21 = print_score(if_classifier,scaled_X_train,y_train,scaled_X_test,y_test,train=False)\n",
    "\n",
    "print(\"\\n ***************************************** \\n\")\n",
    "\n",
    "if_classifier = diff_dep(scaled_X_train, y_train, 10, True)\n",
    "mean_train_acc30, mean_valid_acc30, test_acc30, res30 = print_score(if_classifier,scaled_X_train,y_train,scaled_X_test,y_test,train=True)\n",
    "mean_train_acc31, mean_valid_acc31, test_acc31, res31 = print_score(if_classifier,scaled_X_train,y_train,scaled_X_test,y_test,train=False)"
   ]
  },
  {
   "cell_type": "code",
   "execution_count": null,
   "metadata": {},
   "outputs": [],
   "source": [
    "if_model_acc = test_acc21\n",
    "if_res = res20"
   ]
  },
  {
   "cell_type": "code",
   "execution_count": null,
   "metadata": {},
   "outputs": [],
   "source": [
    "## Plotting the curves of training and test across different depths \n",
    "plt.figure()\n",
    "total_train_acc = []\n",
    "total_train_acc.append(mean_train_acc10)\n",
    "total_train_acc.append(mean_train_acc20)\n",
    "total_train_acc.append(mean_train_acc30)\n",
    "\n",
    "total_valid_acc = []\n",
    "total_valid_acc.append(mean_valid_acc10)\n",
    "total_valid_acc.append(mean_valid_acc20)\n",
    "total_valid_acc.append(mean_valid_acc30)\n",
    "\n",
    "total_test_acc = []\n",
    "total_test_acc.append(test_acc11)\n",
    "total_test_acc.append(test_acc21)\n",
    "total_test_acc.append(test_acc31)\n",
    "\n",
    "c=[3,5,10]\n",
    "plt.figure(figsize=(10,7))\n",
    "plt.title(\"Train Validation & Test Accuracy for Information Gain Decision tree\")\n",
    "plt.plot(c,total_train_acc,label='train_accuracy')\n",
    "plt.plot(c,total_valid_acc,label='validation_accuracy')\n",
    "plt.plot(c,total_test_acc, label = 'testing_accuracy')\n",
    "plt.xlabel('Different depth')\n",
    "plt.ylabel('Accuracy')\n",
    "plt.legend(loc='lower right')\n",
    "plt.savefig('Dataset1_TVT_GainDTree')"
   ]
  },
  {
   "cell_type": "code",
   "execution_count": null,
   "metadata": {},
   "outputs": [],
   "source": [
    "# Classification Trees using GINI Index approach\n",
    "gini_classifier = diff_dep(scaled_X_train, y_train, 3, False)\n",
    "mean_train_acc10, mean_valid_acc10, test_acc10, res10 = print_score(gini_classifier,scaled_X_train,y_train,scaled_X_test,y_test,train=True)\n",
    "mean_train_acc11, mean_valid_acc11, test_acc11, res11 = print_score(gini_classifier,scaled_X_train,y_train,scaled_X_test,y_test,train=False)\n",
    "\n",
    "print(\"\\n ***************************************** \\n\")\n",
    "\n",
    "gini_classifier = diff_dep(scaled_X_train, y_train, 5, False)\n",
    "mean_train_acc20, mean_valid_acc20, test_acc20, res20 = print_score(gini_classifier,scaled_X_train,y_train,scaled_X_test,y_test,train=True)\n",
    "mean_train_acc21, mean_valid_acc21, test_acc21, res21 = print_score(gini_classifier,scaled_X_train,y_train,scaled_X_test,y_test,train=False)\n",
    "\n",
    "print(\"\\n ***************************************** \\n\")\n",
    "\n",
    "gini_classifier = diff_dep(scaled_X_train, y_train, 10, False)\n",
    "mean_train_acc30, mean_valid_acc30, test_acc30, res30 = print_score(gini_classifier,scaled_X_train,y_train,scaled_X_test,y_test,train=True)\n",
    "mean_train_acc31, mean_valid_acc31, test_acc31, res31 = print_score(gini_classifier,scaled_X_train,y_train,scaled_X_test,y_test,train=False)"
   ]
  },
  {
   "cell_type": "code",
   "execution_count": null,
   "metadata": {},
   "outputs": [],
   "source": [
    "gini_model_acc = test_acc21\n",
    "gini_res = res20"
   ]
  },
  {
   "cell_type": "code",
   "execution_count": null,
   "metadata": {},
   "outputs": [],
   "source": [
    "## Plotting the curves of training and test across different depths \n",
    "plt.figure()\n",
    "total_train_acc = []\n",
    "total_train_acc.append(mean_train_acc10)\n",
    "total_train_acc.append(mean_train_acc20)\n",
    "total_train_acc.append(mean_train_acc30)\n",
    "\n",
    "total_valid_acc = []\n",
    "total_valid_acc.append(mean_valid_acc10)\n",
    "total_valid_acc.append(mean_valid_acc20)\n",
    "total_valid_acc.append(mean_valid_acc30)\n",
    "\n",
    "total_test_acc = []\n",
    "total_test_acc.append(test_acc11)\n",
    "total_test_acc.append(test_acc21)\n",
    "total_test_acc.append(test_acc31)\n",
    "\n",
    "c=[3,5,10]\n",
    "plt.figure(figsize=(10,7))\n",
    "plt.title(\"Train Validation & Test Accuracy for Gini Decision tree\")\n",
    "plt.plot(c,total_train_acc,label='train_accuracy')\n",
    "plt.plot(c,total_valid_acc,label='validation_accuracy')\n",
    "plt.plot(c,total_test_acc, label = 'testing_accuracy')\n",
    "plt.legend(loc='lower right')"
   ]
  },
  {
   "cell_type": "code",
   "execution_count": null,
   "metadata": {},
   "outputs": [],
   "source": [
    "## Boosting algorithm Implementation\n",
    "from sklearn.ensemble import AdaBoostClassifier"
   ]
  },
  {
   "cell_type": "code",
   "execution_count": null,
   "metadata": {},
   "outputs": [],
   "source": [
    "svc=SVC(probability=True, kernel='sigmoid')\n",
    "\n",
    "# Create adaboost classifer object\n",
    "abc =AdaBoostClassifier(n_estimators=50, base_estimator=svc,learning_rate=1)\n",
    "\n",
    "# Train Adaboost Classifer\n",
    "model = abc.fit(X_train, y_train)\n",
    "\n",
    "#Predict the response for test dataset\n",
    "y_pred = model.predict(X_test)\n",
    "\n",
    "\n",
    "# Model Accuracy, how often is the classifier correct?\n",
    "print(\"Accuracy:\",metrics.accuracy_score(y_test, y_pred))"
   ]
  },
  {
   "cell_type": "code",
   "execution_count": null,
   "metadata": {},
   "outputs": [],
   "source": [
    "# AdaBOOST \n",
    "boost_classifier = depth_boost(scaled_X_train, y_train)\n",
    "mean_train_acc10, mean_valid_acc10, test_acc10, res10 = print_score(classifie,scaled_X_train,y_train,scaled_X_test,y_test,train=True)\n",
    "mean_train_acc11, mean_valid_acc11, test_acc11, res11 = print_score(boost_classifier,scaled_X_train,y_train,scaled_X_test,y_test,train=False)\n",
    "print(\"\\n ****************************************************** \\n\")"
   ]
  },
  {
   "cell_type": "code",
   "execution_count": null,
   "metadata": {},
   "outputs": [],
   "source": [
    "boost_model_acc = test_acc21\n",
    "boost_res = res20"
   ]
  },
  {
   "cell_type": "code",
   "execution_count": null,
   "metadata": {},
   "outputs": [],
   "source": [
    "#Plotting the curves of training and test across different depths \n",
    "\n",
    "plt.figure(figsize=(10,7))\n",
    "total_train_acc = []\n",
    "total_train_acc.append(mean_train_acc10)\n",
    "total_train_acc.append(mean_train_acc20)\n",
    "total_train_acc.append(mean_train_acc30)\n",
    "\n",
    "total_valid_acc = []\n",
    "total_valid_acc.append(mean_valid_acc10)\n",
    "total_valid_acc.append(mean_valid_acc20)\n",
    "total_valid_acc.append(mean_valid_acc30)\n",
    "\n",
    "total_test_acc = []\n",
    "total_test_acc.append(test_acc11)\n",
    "total_test_acc.append(test_acc21)\n",
    "total_test_acc.append(test_acc31)\n",
    "\n",
    "c=[3,5,10]\n",
    "plt.title(\"Train, Validation & Test Accuracy for AdaBoost\")\n",
    "plt.plot(c,total_train_acc,label='train_accuracy')\n",
    "plt.plot(c,total_valid_acc,label='validation_accuracy')\n",
    "plt.plot(c,total_test_acc, label = 'testing_accuracy')\n",
    "plt.xlabel('Pruning Depth')\n",
    "plt.ylabel('Accuracy')\n",
    "plt.legend(loc='upper left')\n",
    "plt.savefig('Dataset1_TVTAdaboost')"
   ]
  },
  {
   "cell_type": "code",
   "execution_count": null,
   "metadata": {},
   "outputs": [],
   "source": [
    "accuracy=[model3_acc,model4_acc,model5_acc,model6_acc,if_model_acc,boost_model_acc]\n",
    "Functions=['SVM_Linear','SVM_Polynomial','SVM_Sigmoid','Naive Bayes','Decision_tree','Adaboost']\n",
    "plt.figure(figsize=(10,7))\n",
    "plt.barh(Functions,accuracy,color= (0.2, 0.4, 0.6, 0.6), edgecolor = 'red')\n",
    "plt.xlabel(\"Accuracy\")\n",
    "plt.ylabel(\"Learning Algorithms\")\n",
    "plt.title(\"Comparison of Accuracy between all the Algorithms\")"
   ]
  },
  {
   "cell_type": "code",
   "execution_count": null,
   "metadata": {},
   "outputs": [],
   "source": []
  }
 ],
 "metadata": {
  "kernelspec": {
   "display_name": "Python 3",
   "language": "python",
   "name": "python3"
  },
  "language_info": {
   "codemirror_mode": {
    "name": "ipython",
    "version": 3
   },
   "file_extension": ".py",
   "mimetype": "text/x-python",
   "name": "python",
   "nbconvert_exporter": "python",
   "pygments_lexer": "ipython3",
   "version": "3.7.3"
  }
 },
 "nbformat": 4,
 "nbformat_minor": 2
}
