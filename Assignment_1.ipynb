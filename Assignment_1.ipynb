{
 "cells": [
  {
   "cell_type": "markdown",
   "metadata": {},
   "source": [
    "1) Create a vector of size 15 having third element (i.e. position 2) set to 1 and rest of the elements should be zero. \n"
   ]
  },
  {
   "cell_type": "code",
   "execution_count": 1,
   "metadata": {},
   "outputs": [],
   "source": [
    "import numpy as np"
   ]
  },
  {
   "cell_type": "code",
   "execution_count": 60,
   "metadata": {},
   "outputs": [
    {
     "name": "stdout",
     "output_type": "stream",
     "text": [
      "[0. 0. 1. 0. 0. 0. 0. 0. 0. 0. 0. 0. 0. 0. 0.]\n"
     ]
    }
   ],
   "source": [
    "x = np.zeros((15))\n",
    "x[2] = 1\n",
    "print(x)"
   ]
  },
  {
   "cell_type": "markdown",
   "metadata": {},
   "source": [
    "2) Create a vector with values ranging from 21 to 30\n"
   ]
  },
  {
   "cell_type": "code",
   "execution_count": 19,
   "metadata": {
    "scrolled": true
   },
   "outputs": [
    {
     "name": "stdout",
     "output_type": "stream",
     "text": [
      "[21 22 23 24 25 26 27 28 29 30]\n"
     ]
    }
   ],
   "source": [
    "range = np.arange(21,31)\n",
    "print(range)"
   ]
  },
  {
   "cell_type": "markdown",
   "metadata": {},
   "source": [
    "3) Reverse the order of elements in the vector in question 2. That is, the previous last element should be the first one\n",
    "now"
   ]
  },
  {
   "cell_type": "code",
   "execution_count": 20,
   "metadata": {},
   "outputs": [
    {
     "data": {
      "text/plain": [
       "array([30, 29, 28, 27, 26, 25, 24, 23, 22, 21])"
      ]
     },
     "execution_count": 20,
     "metadata": {},
     "output_type": "execute_result"
    }
   ],
   "source": [
    "range[::-1]"
   ]
  },
  {
   "cell_type": "markdown",
   "metadata": {},
   "source": [
    "4) Define a vector with values ranging from 1 to 12. Now define a 4x3 matrix to store elements from the vector you have\n",
    "defined. That is, first 3 elements of the vector should be row 1 of the matrix, next 3 should be row 2, and so on. \n"
   ]
  },
  {
   "cell_type": "code",
   "execution_count": 75,
   "metadata": {},
   "outputs": [
    {
     "name": "stdout",
     "output_type": "stream",
     "text": [
      "[[ 1  2  3]\n",
      " [ 4  5  6]\n",
      " [ 7  8  9]\n",
      " [10 11 12]]\n"
     ]
    }
   ],
   "source": [
    "v= np.arange(1,13)\n",
    "vector=v.reshape(4,3)\n",
    "print(vector)"
   ]
  },
  {
   "cell_type": "markdown",
   "metadata": {},
   "source": [
    "5) Consider the 4x3 matrix from question 4. Add 100 to all values that are greater than equal to 3 and less than equal to\n",
    "8."
   ]
  },
  {
   "cell_type": "code",
   "execution_count": 80,
   "metadata": {},
   "outputs": [
    {
     "name": "stdout",
     "output_type": "stream",
     "text": [
      "[[  1   2 103]\n",
      " [104 105 106]\n",
      " [107 108   9]\n",
      " [ 10  11  12]]\n"
     ]
    }
   ],
   "source": [
    "vector[(vector>2) & (vector<9)] += 100\n",
    "print(vector)"
   ]
  },
  {
   "cell_type": "markdown",
   "metadata": {},
   "source": [
    "6) Consider the vector x = [1, 0, 6, 9, 10, 0]. Print the indices of non-zero elements. "
   ]
  },
  {
   "cell_type": "code",
   "execution_count": 6,
   "metadata": {},
   "outputs": [
    {
     "data": {
      "text/plain": [
       "(array([0, 2, 3, 4], dtype=int64),)"
      ]
     },
     "execution_count": 6,
     "metadata": {},
     "output_type": "execute_result"
    }
   ],
   "source": [
    "x = np.array([1,0,6,9,10,0])\n",
    "np.nonzero(x)"
   ]
  },
  {
   "cell_type": "markdown",
   "metadata": {},
   "source": [
    "7) Define a 6x3 matrix with random values. Normalize this matrix by subtracting the mean (of the column) and dividing\n",
    "by the standard deviation (of the column). "
   ]
  },
  {
   "cell_type": "code",
   "execution_count": 3,
   "metadata": {
    "scrolled": true
   },
   "outputs": [
    {
     "name": "stdout",
     "output_type": "stream",
     "text": [
      "[[-1.99082874  0.30636632 -0.11280312]\n",
      " [ 0.2791925  -1.71145329 -0.56295073]\n",
      " [ 0.87738151 -0.21088967  2.07913468]\n",
      " [ 0.40942204  1.02815554 -0.92672362]\n",
      " [-0.46985425 -0.62878177  0.19476675]\n",
      " [ 0.89468695  1.21660287 -0.67142397]]\n"
     ]
    }
   ],
   "source": [
    "x = np.random.randn(18)\n",
    "matrix = x.reshape(6,3)\n",
    "mean = np.mean(matrix,axis=0)\n",
    "sd = np.std(matrix,axis=0)\n",
    "print((matrix - mean) / sd )"
   ]
  },
  {
   "cell_type": "markdown",
   "metadata": {},
   "source": [
    "8) Define a 3x4 matrix with random values. Define a 4x3 matrix with random values. Multiply the two matrices. "
   ]
  },
  {
   "cell_type": "code",
   "execution_count": 2,
   "metadata": {},
   "outputs": [
    {
     "name": "stdout",
     "output_type": "stream",
     "text": [
      "[[ 6.14373528 -0.01919256  1.05970088]\n",
      " [-1.45799918  1.0259662  -0.63211155]\n",
      " [ 2.05846946  1.22407192 -0.16305257]]\n"
     ]
    }
   ],
   "source": [
    "x = np.random.randn(12)\n",
    "mat = x.reshape(3,4)\n",
    "y = np.random.randn(12)\n",
    "sec = y.reshape(4,3)\n",
    "res = np.dot(mat,sec)\n",
    "print(res)"
   ]
  },
  {
   "cell_type": "markdown",
   "metadata": {},
   "source": [
    "9) Define a 3x3 identity matrix."
   ]
  },
  {
   "cell_type": "code",
   "execution_count": 8,
   "metadata": {},
   "outputs": [
    {
     "name": "stdout",
     "output_type": "stream",
     "text": [
      "[[1. 0. 0.]\n",
      " [0. 1. 0.]\n",
      " [0. 0. 1.]]\n"
     ]
    }
   ],
   "source": [
    "identity = np.eye(3,3)\n",
    "print(identity)\n",
    "## Identity matrix has diagnal values as 1"
   ]
  },
  {
   "cell_type": "markdown",
   "metadata": {},
   "source": [
    "10) Define a 3x3 matrix A with random values. Invert the matrix A, let’s call this B. Multiply matrices A and B"
   ]
  },
  {
   "cell_type": "code",
   "execution_count": 84,
   "metadata": {
    "scrolled": true
   },
   "outputs": [
    {
     "name": "stdout",
     "output_type": "stream",
     "text": [
      "[[ 0.26394047 -0.          0.        ]\n",
      " [-0.         -1.38184706  0.        ]\n",
      " [-0.          0.         -1.22096911]]\n"
     ]
    }
   ],
   "source": [
    "random = np.random.randn(9)\n",
    "shape = random.reshape(3,3)\n",
    "eye = np.eye(3,3)\n",
    "y = eye / shape\n",
    "print(shape * eye)"
   ]
  },
  {
   "cell_type": "code",
   "execution_count": null,
   "metadata": {},
   "outputs": [],
   "source": []
  }
 ],
 "metadata": {
  "kernelspec": {
   "display_name": "Python 3",
   "language": "python",
   "name": "python3"
  },
  "language_info": {
   "codemirror_mode": {
    "name": "ipython",
    "version": 3
   },
   "file_extension": ".py",
   "mimetype": "text/x-python",
   "name": "python",
   "nbconvert_exporter": "python",
   "pygments_lexer": "ipython3",
   "version": "3.7.3"
  }
 },
 "nbformat": 4,
 "nbformat_minor": 2
}
