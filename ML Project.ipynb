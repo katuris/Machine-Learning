{
 "cells": [
  {
   "cell_type": "code",
   "execution_count": 1,
   "metadata": {},
   "outputs": [],
   "source": [
    "import pandas as pd\n",
    "import numpy as np\n",
    "import matplotlib.pyplot as plt\n",
    "import warnings\n",
    "warnings.simplefilter(\"ignore\")\n",
    "from sklearn.svm import SVC, LinearSVC\n",
    "from sklearn.model_selection import cross_val_score\n",
    "from sklearn.model_selection import cross_validate\n",
    "from sklearn.model_selection import train_test_split\n",
    "from sklearn import preprocessing\n",
    "import seaborn as sns\n",
    "from sklearn import metrics\n",
    "from matplotlib import style\n",
    "from sklearn.tree import DecisionTreeClassifier\n",
    "from sklearn.metrics import confusion_matrix,classification_report,accuracy_score\n",
    "%matplotlib inline\n",
    "plt.style.use('ggplot')"
   ]
  },
  {
   "cell_type": "code",
   "execution_count": 2,
   "metadata": {},
   "outputs": [],
   "source": [
    "df = pd.read_csv(\"dataset.csv\", header = None,index_col= False,\n",
    "                 names=[\"Likes\",\"Checkin\",\"PageTheme\",\"PageCategory\",\"Derived5\",\"Derived6\",\"Derived7\",\"Derived8\",\"Derived9\",\"Derived10\",\n",
    "                       \"Derived11\",\"Derived12\",\"Derived13\",\"Derived14\",\"Derived15\",\"Derived16\",\"Derived17\",\"Derived18\",\"Derived19\",\n",
    "                       \"Derived20\",\"Derived21\",\"Derived22\",\"Derived23\",\"Derived24\",\"Derived25\",\"Derived26\",\"Derived27\",\"Derived28\",\"Derived29\",\n",
    "                       \"CC1\",\"CC2\",\"CC3\",\"CC4\",\"CC5\",\"BaseTime\",\"PostLength\",\"PostShareCount\",\"PostPromoStatus\",\"HLocal\",\"PostPublishSun\",\n",
    "                        \"PostPublishedMon\",\"PostPublishedTue\",\"PostPublishedWed\",\"PostPublishedThu\",\"PostPublishedFri\",\"PostPublishedSat\",\n",
    "                       \"BaseDateTimeSun\",\"BaseDateTimeMon\",\"BaseDateTimeTue\",\"BaseDateTimeWed\",\"BaseDateTimeThu\",\"BaseDateTimeFri\",\"BaseDateTimeSat\"\n",
    "                       ,\"Target\"])"
   ]
  },
  {
   "cell_type": "code",
   "execution_count": 3,
   "metadata": {},
   "outputs": [
    {
     "data": {
      "text/plain": [
       "7.103668103519464"
      ]
     },
     "execution_count": 3,
     "metadata": {},
     "output_type": "execute_result"
    }
   ],
   "source": [
    "# classifying the target variable\n",
    "np.mean(df.loc[:,'Target'])"
   ]
  },
  {
   "cell_type": "code",
   "execution_count": 4,
   "metadata": {},
   "outputs": [],
   "source": [
    "freq = df['Target'].value_counts()"
   ]
  },
  {
   "cell_type": "code",
   "execution_count": 5,
   "metadata": {
    "scrolled": true
   },
   "outputs": [],
   "source": [
    "freq_sorted = freq.sort_index(axis = 0, ascending = True)"
   ]
  },
  {
   "cell_type": "code",
   "execution_count": 6,
   "metadata": {},
   "outputs": [
    {
     "data": {
      "text/plain": [
       "[<matplotlib.lines.Line2D at 0x22c9e963da0>]"
      ]
     },
     "execution_count": 6,
     "metadata": {},
     "output_type": "execute_result"
    },
    {
     "data": {
      "image/png": "[encoded data removed]",
      "text/plain": [
       "<Figure size 432x288 with 1 Axes>"
      ]
     },
     "metadata": {
      "needs_background": "light"
     },
     "output_type": "display_data"
    }
   ],
   "source": [
    "plt.plot(freq_sorted)"
   ]
  },
  {
   "cell_type": "code",
   "execution_count": 7,
   "metadata": {},
   "outputs": [],
   "source": [
    "data = df.copy(deep=True)"
   ]
  },
  {
   "cell_type": "code",
   "execution_count": 8,
   "metadata": {},
   "outputs": [],
   "source": [
    "# Classifying anything greater than 0 as class 1 and less than as class 0\n",
    "data['TargetClass'] = np.where(df['Target'] > 0 , 1, 0)"
   ]
  },
  {
   "cell_type": "code",
   "execution_count": 9,
   "metadata": {
    "scrolled": true
   },
   "outputs": [
    {
     "data": {
      "text/html": [
       "<div>\n",
       "<style scoped>\n",
       "    .dataframe tbody tr th:only-of-type {\n",
       "        vertical-align: middle;\n",
       "    }\n",
       "\n",
       "    .dataframe tbody tr th {\n",
       "        vertical-align: top;\n",
       "    }\n",
       "\n",
       "    .dataframe thead th {\n",
       "        text-align: right;\n",
       "    }\n",
       "</style>\n",
       "<table border=\"1\" class=\"dataframe\">\n",
       "  <thead>\n",
       "    <tr style=\"text-align: right;\">\n",
       "      <th></th>\n",
       "      <th>Likes</th>\n",
       "      <th>Checkin</th>\n",
       "      <th>PageTheme</th>\n",
       "      <th>PageCategory</th>\n",
       "      <th>Derived5</th>\n",
       "      <th>Derived6</th>\n",
       "      <th>Derived7</th>\n",
       "      <th>Derived8</th>\n",
       "      <th>Derived9</th>\n",
       "      <th>Derived10</th>\n",
       "      <th>...</th>\n",
       "      <th>PostPublishedFri</th>\n",
       "      <th>PostPublishedSat</th>\n",
       "      <th>BaseDateTimeSun</th>\n",
       "      <th>BaseDateTimeMon</th>\n",
       "      <th>BaseDateTimeTue</th>\n",
       "      <th>BaseDateTimeWed</th>\n",
       "      <th>BaseDateTimeThu</th>\n",
       "      <th>BaseDateTimeFri</th>\n",
       "      <th>BaseDateTimeSat</th>\n",
       "      <th>TargetClass</th>\n",
       "    </tr>\n",
       "  </thead>\n",
       "  <tbody>\n",
       "    <tr>\n",
       "      <td>0</td>\n",
       "      <td>634995</td>\n",
       "      <td>0</td>\n",
       "      <td>463</td>\n",
       "      <td>1</td>\n",
       "      <td>0.0</td>\n",
       "      <td>1280.0</td>\n",
       "      <td>14.807018</td>\n",
       "      <td>1.0</td>\n",
       "      <td>110.927036</td>\n",
       "      <td>0.0</td>\n",
       "      <td>...</td>\n",
       "      <td>0</td>\n",
       "      <td>0</td>\n",
       "      <td>0</td>\n",
       "      <td>0</td>\n",
       "      <td>0</td>\n",
       "      <td>0</td>\n",
       "      <td>0</td>\n",
       "      <td>0</td>\n",
       "      <td>1</td>\n",
       "      <td>0</td>\n",
       "    </tr>\n",
       "    <tr>\n",
       "      <td>1</td>\n",
       "      <td>634995</td>\n",
       "      <td>0</td>\n",
       "      <td>463</td>\n",
       "      <td>1</td>\n",
       "      <td>0.0</td>\n",
       "      <td>1280.0</td>\n",
       "      <td>14.807018</td>\n",
       "      <td>1.0</td>\n",
       "      <td>110.927036</td>\n",
       "      <td>0.0</td>\n",
       "      <td>...</td>\n",
       "      <td>0</td>\n",
       "      <td>0</td>\n",
       "      <td>0</td>\n",
       "      <td>0</td>\n",
       "      <td>0</td>\n",
       "      <td>0</td>\n",
       "      <td>0</td>\n",
       "      <td>0</td>\n",
       "      <td>1</td>\n",
       "      <td>0</td>\n",
       "    </tr>\n",
       "    <tr>\n",
       "      <td>2</td>\n",
       "      <td>634995</td>\n",
       "      <td>0</td>\n",
       "      <td>463</td>\n",
       "      <td>1</td>\n",
       "      <td>0.0</td>\n",
       "      <td>1280.0</td>\n",
       "      <td>14.807018</td>\n",
       "      <td>1.0</td>\n",
       "      <td>110.927036</td>\n",
       "      <td>0.0</td>\n",
       "      <td>...</td>\n",
       "      <td>1</td>\n",
       "      <td>0</td>\n",
       "      <td>0</td>\n",
       "      <td>0</td>\n",
       "      <td>0</td>\n",
       "      <td>0</td>\n",
       "      <td>0</td>\n",
       "      <td>0</td>\n",
       "      <td>1</td>\n",
       "      <td>0</td>\n",
       "    </tr>\n",
       "    <tr>\n",
       "      <td>3</td>\n",
       "      <td>634995</td>\n",
       "      <td>0</td>\n",
       "      <td>463</td>\n",
       "      <td>1</td>\n",
       "      <td>0.0</td>\n",
       "      <td>1280.0</td>\n",
       "      <td>14.807018</td>\n",
       "      <td>1.0</td>\n",
       "      <td>110.927036</td>\n",
       "      <td>0.0</td>\n",
       "      <td>...</td>\n",
       "      <td>1</td>\n",
       "      <td>0</td>\n",
       "      <td>1</td>\n",
       "      <td>0</td>\n",
       "      <td>0</td>\n",
       "      <td>0</td>\n",
       "      <td>0</td>\n",
       "      <td>0</td>\n",
       "      <td>0</td>\n",
       "      <td>0</td>\n",
       "    </tr>\n",
       "    <tr>\n",
       "      <td>4</td>\n",
       "      <td>634995</td>\n",
       "      <td>0</td>\n",
       "      <td>463</td>\n",
       "      <td>1</td>\n",
       "      <td>0.0</td>\n",
       "      <td>1280.0</td>\n",
       "      <td>14.807018</td>\n",
       "      <td>1.0</td>\n",
       "      <td>110.927036</td>\n",
       "      <td>0.0</td>\n",
       "      <td>...</td>\n",
       "      <td>0</td>\n",
       "      <td>0</td>\n",
       "      <td>0</td>\n",
       "      <td>0</td>\n",
       "      <td>0</td>\n",
       "      <td>1</td>\n",
       "      <td>0</td>\n",
       "      <td>0</td>\n",
       "      <td>0</td>\n",
       "      <td>0</td>\n",
       "    </tr>\n",
       "    <tr>\n",
       "      <td>...</td>\n",
       "      <td>...</td>\n",
       "      <td>...</td>\n",
       "      <td>...</td>\n",
       "      <td>...</td>\n",
       "      <td>...</td>\n",
       "      <td>...</td>\n",
       "      <td>...</td>\n",
       "      <td>...</td>\n",
       "      <td>...</td>\n",
       "      <td>...</td>\n",
       "      <td>...</td>\n",
       "      <td>...</td>\n",
       "      <td>...</td>\n",
       "      <td>...</td>\n",
       "      <td>...</td>\n",
       "      <td>...</td>\n",
       "      <td>...</td>\n",
       "      <td>...</td>\n",
       "      <td>...</td>\n",
       "      <td>...</td>\n",
       "      <td>...</td>\n",
       "    </tr>\n",
       "    <tr>\n",
       "      <td>121093</td>\n",
       "      <td>7170111</td>\n",
       "      <td>70</td>\n",
       "      <td>497000</td>\n",
       "      <td>9</td>\n",
       "      <td>0.0</td>\n",
       "      <td>2113.0</td>\n",
       "      <td>456.581081</td>\n",
       "      <td>213.5</td>\n",
       "      <td>477.089459</td>\n",
       "      <td>0.0</td>\n",
       "      <td>...</td>\n",
       "      <td>0</td>\n",
       "      <td>0</td>\n",
       "      <td>0</td>\n",
       "      <td>0</td>\n",
       "      <td>0</td>\n",
       "      <td>0</td>\n",
       "      <td>1</td>\n",
       "      <td>0</td>\n",
       "      <td>0</td>\n",
       "      <td>1</td>\n",
       "    </tr>\n",
       "    <tr>\n",
       "      <td>121094</td>\n",
       "      <td>7170111</td>\n",
       "      <td>70</td>\n",
       "      <td>497000</td>\n",
       "      <td>9</td>\n",
       "      <td>0.0</td>\n",
       "      <td>2113.0</td>\n",
       "      <td>456.581081</td>\n",
       "      <td>213.5</td>\n",
       "      <td>477.089459</td>\n",
       "      <td>0.0</td>\n",
       "      <td>...</td>\n",
       "      <td>0</td>\n",
       "      <td>0</td>\n",
       "      <td>0</td>\n",
       "      <td>0</td>\n",
       "      <td>0</td>\n",
       "      <td>0</td>\n",
       "      <td>1</td>\n",
       "      <td>0</td>\n",
       "      <td>0</td>\n",
       "      <td>1</td>\n",
       "    </tr>\n",
       "    <tr>\n",
       "      <td>121095</td>\n",
       "      <td>7170111</td>\n",
       "      <td>70</td>\n",
       "      <td>497000</td>\n",
       "      <td>9</td>\n",
       "      <td>0.0</td>\n",
       "      <td>2113.0</td>\n",
       "      <td>456.581081</td>\n",
       "      <td>213.5</td>\n",
       "      <td>477.089459</td>\n",
       "      <td>0.0</td>\n",
       "      <td>...</td>\n",
       "      <td>0</td>\n",
       "      <td>0</td>\n",
       "      <td>0</td>\n",
       "      <td>0</td>\n",
       "      <td>0</td>\n",
       "      <td>0</td>\n",
       "      <td>1</td>\n",
       "      <td>0</td>\n",
       "      <td>0</td>\n",
       "      <td>1</td>\n",
       "    </tr>\n",
       "    <tr>\n",
       "      <td>121096</td>\n",
       "      <td>7170111</td>\n",
       "      <td>70</td>\n",
       "      <td>497000</td>\n",
       "      <td>9</td>\n",
       "      <td>0.0</td>\n",
       "      <td>2113.0</td>\n",
       "      <td>456.581081</td>\n",
       "      <td>213.5</td>\n",
       "      <td>477.089459</td>\n",
       "      <td>0.0</td>\n",
       "      <td>...</td>\n",
       "      <td>0</td>\n",
       "      <td>0</td>\n",
       "      <td>0</td>\n",
       "      <td>0</td>\n",
       "      <td>0</td>\n",
       "      <td>0</td>\n",
       "      <td>1</td>\n",
       "      <td>0</td>\n",
       "      <td>0</td>\n",
       "      <td>1</td>\n",
       "    </tr>\n",
       "    <tr>\n",
       "      <td>121097</td>\n",
       "      <td>7170111</td>\n",
       "      <td>70</td>\n",
       "      <td>497000</td>\n",
       "      <td>9</td>\n",
       "      <td>0.0</td>\n",
       "      <td>2113.0</td>\n",
       "      <td>456.581081</td>\n",
       "      <td>213.5</td>\n",
       "      <td>477.089459</td>\n",
       "      <td>0.0</td>\n",
       "      <td>...</td>\n",
       "      <td>0</td>\n",
       "      <td>0</td>\n",
       "      <td>0</td>\n",
       "      <td>0</td>\n",
       "      <td>0</td>\n",
       "      <td>0</td>\n",
       "      <td>1</td>\n",
       "      <td>0</td>\n",
       "      <td>0</td>\n",
       "      <td>1</td>\n",
       "    </tr>\n",
       "  </tbody>\n",
       "</table>\n",
       "<p>121098 rows × 54 columns</p>\n",
       "</div>"
      ],
      "text/plain": [
       "          Likes  Checkin  PageTheme  PageCategory  Derived5  Derived6  \\\n",
       "0        634995        0        463             1       0.0    1280.0   \n",
       "1        634995        0        463             1       0.0    1280.0   \n",
       "2        634995        0        463             1       0.0    1280.0   \n",
       "3        634995        0        463             1       0.0    1280.0   \n",
       "4        634995        0        463             1       0.0    1280.0   \n",
       "...         ...      ...        ...           ...       ...       ...   \n",
       "121093  7170111       70     497000             9       0.0    2113.0   \n",
       "121094  7170111       70     497000             9       0.0    2113.0   \n",
       "121095  7170111       70     497000             9       0.0    2113.0   \n",
       "121096  7170111       70     497000             9       0.0    2113.0   \n",
       "121097  7170111       70     497000             9       0.0    2113.0   \n",
       "\n",
       "          Derived7  Derived8    Derived9  Derived10  ...  PostPublishedFri  \\\n",
       "0        14.807018       1.0  110.927036        0.0  ...                 0   \n",
       "1        14.807018       1.0  110.927036        0.0  ...                 0   \n",
       "2        14.807018       1.0  110.927036        0.0  ...                 1   \n",
       "3        14.807018       1.0  110.927036        0.0  ...                 1   \n",
       "4        14.807018       1.0  110.927036        0.0  ...                 0   \n",
       "...            ...       ...         ...        ...  ...               ...   \n",
       "121093  456.581081     213.5  477.089459        0.0  ...                 0   \n",
       "121094  456.581081     213.5  477.089459        0.0  ...                 0   \n",
       "121095  456.581081     213.5  477.089459        0.0  ...                 0   \n",
       "121096  456.581081     213.5  477.089459        0.0  ...                 0   \n",
       "121097  456.581081     213.5  477.089459        0.0  ...                 0   \n",
       "\n",
       "        PostPublishedSat  BaseDateTimeSun  BaseDateTimeMon  BaseDateTimeTue  \\\n",
       "0                      0                0                0                0   \n",
       "1                      0                0                0                0   \n",
       "2                      0                0                0                0   \n",
       "3                      0                1                0                0   \n",
       "4                      0                0                0                0   \n",
       "...                  ...              ...              ...              ...   \n",
       "121093                 0                0                0                0   \n",
       "121094                 0                0                0                0   \n",
       "121095                 0                0                0                0   \n",
       "121096                 0                0                0                0   \n",
       "121097                 0                0                0                0   \n",
       "\n",
       "        BaseDateTimeWed  BaseDateTimeThu  BaseDateTimeFri  BaseDateTimeSat  \\\n",
       "0                     0                0                0                1   \n",
       "1                     0                0                0                1   \n",
       "2                     0                0                0                1   \n",
       "3                     0                0                0                0   \n",
       "4                     1                0                0                0   \n",
       "...                 ...              ...              ...              ...   \n",
       "121093                0                1                0                0   \n",
       "121094                0                1                0                0   \n",
       "121095                0                1                0                0   \n",
       "121096                0                1                0                0   \n",
       "121097                0                1                0                0   \n",
       "\n",
       "        TargetClass  \n",
       "0                 0  \n",
       "1                 0  \n",
       "2                 0  \n",
       "3                 0  \n",
       "4                 0  \n",
       "...             ...  \n",
       "121093            1  \n",
       "121094            1  \n",
       "121095            1  \n",
       "121096            1  \n",
       "121097            1  \n",
       "\n",
       "[121098 rows x 54 columns]"
      ]
     },
     "execution_count": 9,
     "metadata": {},
     "output_type": "execute_result"
    }
   ],
   "source": [
    "data.drop(['Target'], axis = 1)"
   ]
  },
  {
   "cell_type": "code",
   "execution_count": 10,
   "metadata": {},
   "outputs": [
    {
     "data": {
      "text/html": [
       "<div>\n",
       "<style scoped>\n",
       "    .dataframe tbody tr th:only-of-type {\n",
       "        vertical-align: middle;\n",
       "    }\n",
       "\n",
       "    .dataframe tbody tr th {\n",
       "        vertical-align: top;\n",
       "    }\n",
       "\n",
       "    .dataframe thead th {\n",
       "        text-align: right;\n",
       "    }\n",
       "</style>\n",
       "<table border=\"1\" class=\"dataframe\">\n",
       "  <thead>\n",
       "    <tr style=\"text-align: right;\">\n",
       "      <th></th>\n",
       "      <th>Likes</th>\n",
       "      <th>Checkin</th>\n",
       "      <th>PageTheme</th>\n",
       "      <th>CC1</th>\n",
       "      <th>CC2</th>\n",
       "      <th>CC3</th>\n",
       "      <th>CC4</th>\n",
       "      <th>PostLength</th>\n",
       "      <th>PostShareCount</th>\n",
       "      <th>HLocal</th>\n",
       "      <th>PostPublishSun</th>\n",
       "      <th>PostPublishedMon</th>\n",
       "      <th>PostPublishedTue</th>\n",
       "      <th>PostPublishedWed</th>\n",
       "      <th>PostPublishedThu</th>\n",
       "      <th>PostPublishedFri</th>\n",
       "      <th>PostPublishedSat</th>\n",
       "    </tr>\n",
       "  </thead>\n",
       "  <tbody>\n",
       "    <tr>\n",
       "      <td>0</td>\n",
       "      <td>634995</td>\n",
       "      <td>0</td>\n",
       "      <td>463</td>\n",
       "      <td>0</td>\n",
       "      <td>0</td>\n",
       "      <td>0</td>\n",
       "      <td>0</td>\n",
       "      <td>166</td>\n",
       "      <td>2</td>\n",
       "      <td>24</td>\n",
       "      <td>0</td>\n",
       "      <td>0</td>\n",
       "      <td>0</td>\n",
       "      <td>1</td>\n",
       "      <td>0</td>\n",
       "      <td>0</td>\n",
       "      <td>0</td>\n",
       "    </tr>\n",
       "    <tr>\n",
       "      <td>1</td>\n",
       "      <td>634995</td>\n",
       "      <td>0</td>\n",
       "      <td>463</td>\n",
       "      <td>0</td>\n",
       "      <td>0</td>\n",
       "      <td>0</td>\n",
       "      <td>0</td>\n",
       "      <td>132</td>\n",
       "      <td>1</td>\n",
       "      <td>24</td>\n",
       "      <td>0</td>\n",
       "      <td>0</td>\n",
       "      <td>0</td>\n",
       "      <td>0</td>\n",
       "      <td>1</td>\n",
       "      <td>0</td>\n",
       "      <td>0</td>\n",
       "    </tr>\n",
       "    <tr>\n",
       "      <td>2</td>\n",
       "      <td>634995</td>\n",
       "      <td>0</td>\n",
       "      <td>463</td>\n",
       "      <td>0</td>\n",
       "      <td>0</td>\n",
       "      <td>0</td>\n",
       "      <td>0</td>\n",
       "      <td>133</td>\n",
       "      <td>2</td>\n",
       "      <td>24</td>\n",
       "      <td>0</td>\n",
       "      <td>0</td>\n",
       "      <td>0</td>\n",
       "      <td>0</td>\n",
       "      <td>0</td>\n",
       "      <td>1</td>\n",
       "      <td>0</td>\n",
       "    </tr>\n",
       "    <tr>\n",
       "      <td>3</td>\n",
       "      <td>634995</td>\n",
       "      <td>0</td>\n",
       "      <td>463</td>\n",
       "      <td>7</td>\n",
       "      <td>1</td>\n",
       "      <td>6</td>\n",
       "      <td>7</td>\n",
       "      <td>131</td>\n",
       "      <td>1</td>\n",
       "      <td>24</td>\n",
       "      <td>0</td>\n",
       "      <td>0</td>\n",
       "      <td>0</td>\n",
       "      <td>0</td>\n",
       "      <td>0</td>\n",
       "      <td>1</td>\n",
       "      <td>0</td>\n",
       "    </tr>\n",
       "    <tr>\n",
       "      <td>4</td>\n",
       "      <td>634995</td>\n",
       "      <td>0</td>\n",
       "      <td>463</td>\n",
       "      <td>1</td>\n",
       "      <td>0</td>\n",
       "      <td>1</td>\n",
       "      <td>1</td>\n",
       "      <td>142</td>\n",
       "      <td>5</td>\n",
       "      <td>24</td>\n",
       "      <td>0</td>\n",
       "      <td>1</td>\n",
       "      <td>0</td>\n",
       "      <td>0</td>\n",
       "      <td>0</td>\n",
       "      <td>0</td>\n",
       "      <td>0</td>\n",
       "    </tr>\n",
       "  </tbody>\n",
       "</table>\n",
       "</div>"
      ],
      "text/plain": [
       "    Likes  Checkin  PageTheme  CC1  CC2  CC3  CC4  PostLength  PostShareCount  \\\n",
       "0  634995        0        463    0    0    0    0         166               2   \n",
       "1  634995        0        463    0    0    0    0         132               1   \n",
       "2  634995        0        463    0    0    0    0         133               2   \n",
       "3  634995        0        463    7    1    6    7         131               1   \n",
       "4  634995        0        463    1    0    1    1         142               5   \n",
       "\n",
       "   HLocal  PostPublishSun  PostPublishedMon  PostPublishedTue  \\\n",
       "0      24               0                 0                 0   \n",
       "1      24               0                 0                 0   \n",
       "2      24               0                 0                 0   \n",
       "3      24               0                 0                 0   \n",
       "4      24               0                 1                 0   \n",
       "\n",
       "   PostPublishedWed  PostPublishedThu  PostPublishedFri  PostPublishedSat  \n",
       "0                 1                 0                 0                 0  \n",
       "1                 0                 1                 0                 0  \n",
       "2                 0                 0                 1                 0  \n",
       "3                 0                 0                 1                 0  \n",
       "4                 0                 0                 0                 0  "
      ]
     },
     "execution_count": 10,
     "metadata": {},
     "output_type": "execute_result"
    }
   ],
   "source": [
    "# Selecting 17 features as having the highest significance as per the repository info:\n",
    "\n",
    "X = data.loc[:,['Likes','Checkin','PageTheme','CC1','CC2','CC3','CC4','PostLength','PostShareCount','HLocal','PostPublishSun',\n",
    "                    'PostPublishedMon','PostPublishedTue','PostPublishedWed','PostPublishedThu','PostPublishedFri','PostPublishedSat',]]\n",
    "X.head()"
   ]
  },
  {
   "cell_type": "code",
   "execution_count": 11,
   "metadata": {},
   "outputs": [
    {
     "data": {
      "text/plain": [
       "0    0\n",
       "1    0\n",
       "2    0\n",
       "3    0\n",
       "4    0\n",
       "Name: TargetClass, dtype: int32"
      ]
     },
     "execution_count": 11,
     "metadata": {},
     "output_type": "execute_result"
    }
   ],
   "source": [
    "y = data.loc[:,'TargetClass']\n",
    "y.head()"
   ]
  },
  {
   "cell_type": "code",
   "execution_count": 12,
   "metadata": {},
   "outputs": [],
   "source": [
    "X_train, X_test, y_train, y_test = train_test_split(X, y, random_state = 0, test_size = 0.3)"
   ]
  },
  {
   "cell_type": "code",
   "execution_count": 13,
   "metadata": {},
   "outputs": [
    {
     "name": "stdout",
     "output_type": "stream",
     "text": [
      "(84768, 17)\n",
      "(84768,)\n",
      "(36330, 17)\n",
      "(36330,)\n"
     ]
    }
   ],
   "source": [
    "print(X_train.shape)\n",
    "print(y_train.shape)\n",
    "print(X_test.shape)\n",
    "print(y_test.shape)"
   ]
  },
  {
   "cell_type": "code",
   "execution_count": 14,
   "metadata": {},
   "outputs": [
    {
     "data": {
      "text/plain": [
       "(121098, 54)"
      ]
     },
     "execution_count": 14,
     "metadata": {},
     "output_type": "execute_result"
    }
   ],
   "source": [
    "df.shape"
   ]
  },
  {
   "cell_type": "code",
   "execution_count": 15,
   "metadata": {},
   "outputs": [],
   "source": [
    "scaled_X_train = X_train.copy(deep=True)\n",
    "scaled_X_test = X_test.copy(deep=True)"
   ]
  },
  {
   "cell_type": "code",
   "execution_count": 16,
   "metadata": {},
   "outputs": [],
   "source": [
    "#Normalizing\n",
    "scaler = preprocessing.StandardScaler()\n",
    "scaled_X_train = scaler.fit_transform(scaled_X_train)"
   ]
  },
  {
   "cell_type": "code",
   "execution_count": 17,
   "metadata": {},
   "outputs": [],
   "source": [
    "# scaling X_test with the X_train parameters\n",
    "scaled_X_test = scaler.transform(scaled_X_test)"
   ]
  },
  {
   "cell_type": "code",
   "execution_count": 18,
   "metadata": {},
   "outputs": [],
   "source": [
    "def print_score1(classifier,X_train,y_train,X_test,y_test,train=True):\n",
    "    mean_train_acc = 0\n",
    "    mean_valid_acc = 0\n",
    "    test_acc = 0\n",
    "    res = 0\n",
    "    if train == True:\n",
    "        print(\"Training results:\\n\")\n",
    "        print('Accuracy Score: {0:.4f}\\n'.format(accuracy_score(y_train,classifier.predict(X_train))))\n",
    "        print('Confusion Matrix:\\n{}\\n'.format(confusion_matrix(y_train,classifier.predict(X_train))))\n",
    "        res = cross_validate(classifier, X_train, y_train, cv=3, n_jobs=-1, scoring='accuracy', return_train_score=True)\n",
    "        mean_train_acc = res['train_score'].mean()\n",
    "        mean_valid_acc = res['test_score'].mean()\n",
    "        print('Average Accuracy for Train data:\\t{0:.4f}\\n'.format(res['train_score'].mean()))\n",
    "        print('Average Accuracy for Validation data :\\t{0:.4f}'.format(res['test_score'].mean()))\n",
    "    elif train == False:\n",
    "        print(\"\\n\\nTest results:\\n\")\n",
    "        test_acc = accuracy_score(y_test,classifier.predict(X_test))\n",
    "        print('Accuracy Score: {0:.4f}\\n'.format(accuracy_score(y_test,classifier.predict(X_test))))\n",
    "        print('Confusion Matrix:\\n{}\\n'.format(confusion_matrix(y_test,classifier.predict(X_test))))\n",
    "    return mean_train_acc, mean_valid_acc, test_acc, res"
   ]
  },
  {
   "cell_type": "code",
   "execution_count": 19,
   "metadata": {},
   "outputs": [
    {
     "name": "stdout",
     "output_type": "stream",
     "text": [
      "0.7968927281700519\n"
     ]
    }
   ],
   "source": [
    "# Logistic Regression\n",
    "from sklearn.linear_model import LogisticRegression\n",
    "classifierObj = LogisticRegression(random_state=0)\n",
    "\n",
    "from sklearn.model_selection import cross_val_score\n",
    "modelAccuracies = cross_val_score(estimator=classifierObj, X=scaled_X_train, y=y_train, cv=3)\n",
    "print(modelAccuracies.mean())"
   ]
  },
  {
   "cell_type": "code",
   "execution_count": 20,
   "metadata": {},
   "outputs": [
    {
     "name": "stdout",
     "output_type": "stream",
     "text": [
      "0.7995595926231764\n"
     ]
    }
   ],
   "source": [
    "classifierObj.fit(scaled_X_train, y_train)\n",
    "\n",
    "#Making predictions on the Test Set\n",
    "y_pred_1 = classifierObj.predict(scaled_X_test)\n",
    "\n",
    "#Model Accuracy\n",
    "print(classifierObj.score(scaled_X_test,y_test))"
   ]
  },
  {
   "cell_type": "code",
   "execution_count": 21,
   "metadata": {},
   "outputs": [
    {
     "name": "stdout",
     "output_type": "stream",
     "text": [
      "0.7995595926231764\n"
     ]
    }
   ],
   "source": [
    "model1_acc = metrics.accuracy_score(y_test, y_pred_1)\n",
    "print(model1_acc)"
   ]
  },
  {
   "cell_type": "code",
   "execution_count": 22,
   "metadata": {},
   "outputs": [
    {
     "name": "stdout",
     "output_type": "stream",
     "text": [
      "[[18833  1254]\n",
      " [ 5937 10306]]\n",
      "              precision    recall  f1-score   support\n",
      "\n",
      "           0       0.76      0.94      0.84     20087\n",
      "           1       0.89      0.63      0.74     16243\n",
      "\n",
      "    accuracy                           0.80     36330\n",
      "   macro avg       0.83      0.79      0.79     36330\n",
      "weighted avg       0.82      0.80      0.80     36330\n",
      "\n",
      "Accuracy: 0.8020644095788605\n"
     ]
    }
   ],
   "source": [
    "# Linear SVM\n",
    "clf = SVC(kernel='linear', C= 1)\n",
    "clf.fit(scaled_X_train, y_train)\n",
    "# takes around a minute to execute\n",
    "y_pred_3 = clf.predict(scaled_X_test)\n",
    "print(confusion_matrix(y_test,y_pred_3))\n",
    "print(classification_report(y_test,y_pred_3))\n",
    "print(\"Accuracy:\",metrics.accuracy_score(y_test, y_pred_3))\n"
   ]
  },
  {
   "cell_type": "code",
   "execution_count": 23,
   "metadata": {},
   "outputs": [],
   "source": [
    "model3_acc = metrics.accuracy_score(y_test, y_pred_3)\n",
    "model3_confusion = confusion_matrix(y_test,y_pred_3)"
   ]
  },
  {
   "cell_type": "code",
   "execution_count": 24,
   "metadata": {},
   "outputs": [
    {
     "name": "stdout",
     "output_type": "stream",
     "text": [
      "0.8020644095788605\n",
      "[[18833  1254]\n",
      " [ 5937 10306]]\n"
     ]
    }
   ],
   "source": [
    "print(model3_acc)\n",
    "print(model3_confusion)"
   ]
  },
  {
   "cell_type": "code",
   "execution_count": 25,
   "metadata": {
    "scrolled": true
   },
   "outputs": [
    {
     "name": "stdout",
     "output_type": "stream",
     "text": [
      "0.6578897523266721\n",
      "0.6572645894443597\n",
      "0.7698483053288613\n",
      "0.7667988327178538\n",
      "0.7640442211156465\n",
      "0.7591661995993121\n"
     ]
    }
   ],
   "source": [
    "# Cross validation using SVM\n",
    "def poly_svm(X_train, y_train, C):\n",
    "    cross_sv = SVC(kernel='poly', degree=C)\n",
    "    scores = cross_validate(cross_sv, X_train, y_train,cv=3, return_train_score=True)\n",
    "    return scores\n",
    "\n",
    "P_score1 = poly_svm(scaled_X_train, y_train, 2)\n",
    "print(np.mean(P_score1['train_score']))\n",
    "print(np.mean(P_score1['test_score']))\n",
    "P_score2 = poly_svm(scaled_X_train, y_train, 3)\n",
    "print(np.mean(P_score2['train_score']))\n",
    "print(np.mean(P_score2['test_score']))\n",
    "P_score3 = poly_svm(scaled_X_train, y_train, 4)\n",
    "print(np.mean(P_score3['train_score']))\n",
    "print(np.mean(P_score3['test_score']))"
   ]
  },
  {
   "cell_type": "code",
   "execution_count": 26,
   "metadata": {},
   "outputs": [
    {
     "name": "stdout",
     "output_type": "stream",
     "text": [
      "0.6572645894443597\n",
      "0.7667988327178538\n",
      "0.7667988327178538\n"
     ]
    }
   ],
   "source": [
    "print(np.mean(P_score1['test_score']))\n",
    "print(np.mean(P_score2['test_score']))\n",
    "print(np.mean(P_score2['test_score']))"
   ]
  },
  {
   "cell_type": "code",
   "execution_count": 27,
   "metadata": {},
   "outputs": [
    {
     "name": "stdout",
     "output_type": "stream",
     "text": [
      "[0.6578897523266721, 0.7698483053288613, 0.7640442211156465]\n",
      "[0.6572645894443597, 0.7667988327178538, 0.7591661995993121]\n"
     ]
    }
   ],
   "source": [
    "total_train_acc = []\n",
    "total_train_acc.append(np.mean(P_score1['train_score']))\n",
    "total_train_acc.append(np.mean(P_score2['train_score']))\n",
    "total_train_acc.append(np.mean(P_score3['train_score']))\n",
    "print(total_train_acc)\n",
    "\n",
    "total_test_acc = []\n",
    "total_test_acc.append(np.mean(P_score1['test_score']))\n",
    "total_test_acc.append(np.mean(P_score2['test_score']))\n",
    "total_test_acc.append(np.mean(P_score3['test_score']))\n",
    "print(total_test_acc)\n"
   ]
  },
  {
   "cell_type": "code",
   "execution_count": 28,
   "metadata": {},
   "outputs": [
    {
     "data": {
      "text/plain": [
       "<matplotlib.legend.Legend at 0x22cad3c9438>"
      ]
     },
     "execution_count": 28,
     "metadata": {},
     "output_type": "execute_result"
    },
    {
     "data": {
      "image/png": "[encoded data removed]",
      "text/plain": [
       "<Figure size 720x504 with 1 Axes>"
      ]
     },
     "metadata": {
      "needs_background": "light"
     },
     "output_type": "display_data"
    }
   ],
   "source": [
    "plt.figure(figsize=(10,7))\n",
    "plt.title('Accuracy plot for Polynomial Kernel')\n",
    "plt.xlabel('Degree of polynomial')\n",
    "plt.ylabel('Accuracy')\n",
    "c = [1,2,3]\n",
    "plt.plot(c,total_train_acc, label='Train accuracy')\n",
    "plt.plot(c,total_test_acc,label = 'Validation accuracy')\n",
    "plt.legend(loc='lower right')"
   ]
  },
  {
   "cell_type": "code",
   "execution_count": 29,
   "metadata": {
    "scrolled": true
   },
   "outputs": [
    {
     "data": {
      "text/plain": [
       "SVC(C=1.0, cache_size=200, class_weight=None, coef0=0.0,\n",
       "    decision_function_shape='ovr', degree=2, gamma='auto_deprecated',\n",
       "    kernel='poly', max_iter=-1, probability=False, random_state=None,\n",
       "    shrinking=True, tol=0.001, verbose=False)"
      ]
     },
     "execution_count": 29,
     "metadata": {},
     "output_type": "execute_result"
    }
   ],
   "source": [
    "# Polynomial kernel\n",
    "poly_clf = SVC(kernel='poly', degree = 3)\n",
    "poly_clf.fit(scaled_X_train, y_train)"
   ]
  },
  {
   "cell_type": "code",
   "execution_count": 30,
   "metadata": {},
   "outputs": [
    {
     "name": "stdout",
     "output_type": "stream",
     "text": [
      "[[19685   402]\n",
      " [11860  4383]]\n",
      "Accuracy: 0.6624827965868428\n"
     ]
    }
   ],
   "source": [
    "y_pred_4 = poly_clf.predict(scaled_X_test)\n",
    "print(confusion_matrix(y_test,y_pred_4))\n",
    "print(\"Accuracy:\",metrics.accuracy_score(y_test, y_pred_4))"
   ]
  },
  {
   "cell_type": "code",
   "execution_count": 31,
   "metadata": {},
   "outputs": [],
   "source": [
    "model4_acc = metrics.accuracy_score(y_test, y_pred_4)\n",
    "model4_confusion = confusion_matrix(y_test,y_pred_4)"
   ]
  },
  {
   "cell_type": "code",
   "execution_count": 32,
   "metadata": {},
   "outputs": [
    {
     "name": "stdout",
     "output_type": "stream",
     "text": [
      "0.7182958224583142\n",
      "0.7181247938854735\n",
      "0.7182958224583142\n",
      "0.7181247938854735\n",
      "0.7182958224583142\n",
      "0.7181247938854735\n"
     ]
    }
   ],
   "source": [
    "# Cross validation using SVM\n",
    "def sig_svm(X_train, y_train, C):\n",
    "    cross_sv = SVC(kernel='sigmoid', degree=C)\n",
    "    scores = cross_validate(cross_sv, X_train, y_train,cv=3, return_train_score=True)\n",
    "    return scores\n",
    "\n",
    "S_score1 = sig_svm(scaled_X_train, y_train, 0.0001)\n",
    "print(np.mean(S_score1['train_score']))\n",
    "print(np.mean(S_score1['test_score']))\n",
    "S_score2 = sig_svm(scaled_X_train, y_train, 0.1)\n",
    "print(np.mean(S_score2['train_score']))\n",
    "print(np.mean(S_score2['test_score']))\n",
    "S_score3 = sig_svm(scaled_X_train, y_train, 1)\n",
    "print(np.mean(S_score3['train_score']))\n",
    "print(np.mean(S_score3['test_score']))"
   ]
  },
  {
   "cell_type": "code",
   "execution_count": 33,
   "metadata": {},
   "outputs": [
    {
     "name": "stdout",
     "output_type": "stream",
     "text": [
      "0.7181247938854735\n",
      "0.7181247938854735\n",
      "0.7181247938854735\n"
     ]
    }
   ],
   "source": [
    "print(np.mean(S_score1['test_score']))\n",
    "print(np.mean(S_score2['test_score']))\n",
    "print(np.mean(S_score3['test_score']))"
   ]
  },
  {
   "cell_type": "code",
   "execution_count": 34,
   "metadata": {},
   "outputs": [],
   "source": [
    "sig_clf = SVC(kernel='sigmoid', C=1).fit(scaled_X_train, y_train)"
   ]
  },
  {
   "cell_type": "code",
   "execution_count": 35,
   "metadata": {},
   "outputs": [
    {
     "name": "stdout",
     "output_type": "stream",
     "text": [
      "Accuracy: 0.7159097164877511\n",
      "[[14901  5186]\n",
      " [ 5135 11108]]\n"
     ]
    }
   ],
   "source": [
    "y_pred_5 = sig_clf.predict(scaled_X_test)\n",
    "print(\"Accuracy:\",metrics.accuracy_score(y_test, y_pred_5))\n",
    "print(confusion_matrix(y_test,y_pred_5))"
   ]
  },
  {
   "cell_type": "code",
   "execution_count": 36,
   "metadata": {},
   "outputs": [],
   "source": [
    "model5_acc = metrics.accuracy_score(y_test, y_pred_5)\n",
    "model5_confusion = confusion_matrix(y_test,y_pred_5)"
   ]
  },
  {
   "cell_type": "code",
   "execution_count": 37,
   "metadata": {},
   "outputs": [
    {
     "data": {
      "text/plain": [
       "array([0, 1])"
      ]
     },
     "execution_count": 37,
     "metadata": {},
     "output_type": "execute_result"
    }
   ],
   "source": [
    "np.unique(y_train)"
   ]
  },
  {
   "cell_type": "code",
   "execution_count": 38,
   "metadata": {},
   "outputs": [
    {
     "name": "stdout",
     "output_type": "stream",
     "text": [
      "0.7306765370356837\n"
     ]
    }
   ],
   "source": [
    "# Naive Bayes\n",
    "from sklearn.naive_bayes import GaussianNB\n",
    "NB = GaussianNB()\n",
    "\n",
    "from sklearn.model_selection import cross_val_score\n",
    "modelAccuracies = cross_val_score(estimator= NB, X=scaled_X_train, y=y_train, cv=3)\n",
    "print(modelAccuracies.mean())"
   ]
  },
  {
   "cell_type": "code",
   "execution_count": 39,
   "metadata": {},
   "outputs": [
    {
     "name": "stdout",
     "output_type": "stream",
     "text": [
      "[[19245   842]\n",
      " [ 8902  7341]]\n",
      "Accuracy: 0.7317919075144509\n"
     ]
    }
   ],
   "source": [
    "NB.fit(scaled_X_train, y_train)\n",
    "\n",
    "#Making predictions on the Test Set\n",
    "y_pred_6 = NB.predict(scaled_X_test)\n",
    "print(confusion_matrix(y_test,y_pred_6))\n",
    "print(\"Accuracy:\",metrics.accuracy_score(y_test, y_pred_6))"
   ]
  },
  {
   "cell_type": "code",
   "execution_count": 40,
   "metadata": {},
   "outputs": [],
   "source": [
    "model6_acc = metrics.accuracy_score(y_test, y_pred_6)"
   ]
  },
  {
   "cell_type": "code",
   "execution_count": 41,
   "metadata": {},
   "outputs": [],
   "source": [
    "def print_score(classifier,X_train,y_train,X_test,y_test,train=True):\n",
    "    mean_train_acc = 0\n",
    "    mean_valid_acc = 0\n",
    "    test_acc = 0\n",
    "    res = 0\n",
    "    if train == True:\n",
    "        print(\"Training results:\\n\")\n",
    "        print('Accuracy Score: {0:.4f}\\n'.format(accuracy_score(y_train,classifier.predict(X_train))))\n",
    "        print('Confusion Matrix:\\n{}\\n'.format(confusion_matrix(y_train,classifier.predict(X_train))))\n",
    "        res = cross_validate(classifier, X_train, y_train, cv=10, n_jobs=-1, scoring='accuracy', return_train_score=True)\n",
    "        mean_train_acc = res['train_score'].mean()\n",
    "        mean_valid_acc = res['test_score'].mean()\n",
    "        print('Average Accuracy for Train data:\\t{0:.4f}\\n'.format(res['train_score'].mean()))\n",
    "        print('Average Accuracy for Validation data :\\t{0:.4f}'.format(res['test_score'].mean()))\n",
    "    elif train == False:\n",
    "        print(\"\\n\\nTest results:\\n\")\n",
    "        test_acc = accuracy_score(y_test,classifier.predict(X_test))\n",
    "        print('Accuracy Score: {0:.4f}\\n'.format(accuracy_score(y_test,classifier.predict(X_test))))\n",
    "        print('Confusion Matrix:\\n{}\\n'.format(confusion_matrix(y_test,classifier.predict(X_test))))\n",
    "    return mean_train_acc, mean_valid_acc, test_acc, res"
   ]
  },
  {
   "cell_type": "code",
   "execution_count": 42,
   "metadata": {},
   "outputs": [],
   "source": [
    "def diff_dep(X_train, y_train, depth, criteria):\n",
    "    if criteria == True:\n",
    "        classifier = DecisionTreeClassifier(criterion='entropy', random_state=42, max_depth=depth)\n",
    "        classifier.fit(X_train,y_train)\n",
    "    elif criteria == False:\n",
    "        classifier = DecisionTreeClassifier(criterion='gini', random_state=44, max_depth=depth)\n",
    "        classifier.fit(X_train, y_train)\n",
    "    return classifier"
   ]
  },
  {
   "cell_type": "code",
   "execution_count": 43,
   "metadata": {},
   "outputs": [
    {
     "name": "stdout",
     "output_type": "stream",
     "text": [
      "Training results:\n",
      "\n",
      "Accuracy Score: 0.8082\n",
      "\n",
      "Confusion Matrix:\n",
      "[[41788  5013]\n",
      " [11243 26724]]\n",
      "\n",
      "Average Accuracy for Train data:\t0.8082\n",
      "\n",
      "Average Accuracy for Validation data :\t0.8082\n",
      "\n",
      "\n",
      "Test results:\n",
      "\n",
      "Accuracy Score: 0.8124\n",
      "\n",
      "Confusion Matrix:\n",
      "[[17998  2089]\n",
      " [ 4725 11518]]\n",
      "\n",
      "\n",
      " ***************************************** \n",
      "\n",
      "Training results:\n",
      "\n",
      "Accuracy Score: 0.8150\n",
      "\n",
      "Confusion Matrix:\n",
      "[[40557  6244]\n",
      " [ 9437 28530]]\n",
      "\n",
      "Average Accuracy for Train data:\t0.8151\n",
      "\n",
      "Average Accuracy for Validation data :\t0.8150\n",
      "\n",
      "\n",
      "Test results:\n",
      "\n",
      "Accuracy Score: 0.8194\n",
      "\n",
      "Confusion Matrix:\n",
      "[[17479  2608]\n",
      " [ 3955 12288]]\n",
      "\n",
      "\n",
      " ***************************************** \n",
      "\n",
      "Training results:\n",
      "\n",
      "Accuracy Score: 0.8339\n",
      "\n",
      "Confusion Matrix:\n",
      "[[41054  5747]\n",
      " [ 8332 29635]]\n",
      "\n",
      "Average Accuracy for Train data:\t0.8347\n",
      "\n",
      "Average Accuracy for Validation data :\t0.8150\n",
      "\n",
      "\n",
      "Test results:\n",
      "\n",
      "Accuracy Score: 0.8203\n",
      "\n",
      "Confusion Matrix:\n",
      "[[17353  2734]\n",
      " [ 3794 12449]]\n",
      "\n"
     ]
    }
   ],
   "source": [
    "# Classification Trees using Information Gain approach\n",
    "if_classifier = diff_dep(scaled_X_train, y_train, 3, True)\n",
    "mean_train_acc10, mean_valid_acc10, test_acc10, res10 = print_score(if_classifier,scaled_X_train,y_train,scaled_X_test,y_test,train=True)\n",
    "mean_train_acc11, mean_valid_acc11, test_acc11, res11 = print_score(if_classifier,scaled_X_train,y_train,scaled_X_test,y_test,train=False)\n",
    "\n",
    "print(\"\\n ***************************************** \\n\")\n",
    "\n",
    "if_classifier = diff_dep(scaled_X_train, y_train, 5, True)\n",
    "mean_train_acc20, mean_valid_acc20, test_acc20, res20 = print_score(if_classifier,scaled_X_train,y_train,scaled_X_test,y_test,train=True)\n",
    "mean_train_acc21, mean_valid_acc21, test_acc21, res21 = print_score(if_classifier,scaled_X_train,y_train,scaled_X_test,y_test,train=False)\n",
    "\n",
    "print(\"\\n ***************************************** \\n\")\n",
    "\n",
    "if_classifier = diff_dep(scaled_X_train, y_train, 10, True)\n",
    "mean_train_acc30, mean_valid_acc30, test_acc30, res30 = print_score(if_classifier,scaled_X_train,y_train,scaled_X_test,y_test,train=True)\n",
    "mean_train_acc31, mean_valid_acc31, test_acc31, res31 = print_score(if_classifier,scaled_X_train,y_train,scaled_X_test,y_test,train=False)"
   ]
  },
  {
   "cell_type": "code",
   "execution_count": 44,
   "metadata": {},
   "outputs": [],
   "source": [
    "if_model_acc = test_acc21\n",
    "if_res = res20"
   ]
  },
  {
   "cell_type": "code",
   "execution_count": 45,
   "metadata": {},
   "outputs": [
    {
     "data": {
      "text/plain": [
       "<Figure size 432x288 with 0 Axes>"
      ]
     },
     "metadata": {},
     "output_type": "display_data"
    },
    {
     "data": {
      "image/png": "[encoded data removed]",
      "text/plain": [
       "<Figure size 720x504 with 1 Axes>"
      ]
     },
     "metadata": {
      "needs_background": "light"
     },
     "output_type": "display_data"
    }
   ],
   "source": [
    "## Plotting the curves of training and test across different depths \n",
    "plt.figure()\n",
    "total_train_acc = []\n",
    "total_train_acc.append(mean_train_acc10)\n",
    "total_train_acc.append(mean_train_acc20)\n",
    "total_train_acc.append(mean_train_acc30)\n",
    "\n",
    "total_valid_acc = []\n",
    "total_valid_acc.append(mean_valid_acc10)\n",
    "total_valid_acc.append(mean_valid_acc20)\n",
    "total_valid_acc.append(mean_valid_acc30)\n",
    "\n",
    "total_test_acc = []\n",
    "total_test_acc.append(test_acc11)\n",
    "total_test_acc.append(test_acc21)\n",
    "total_test_acc.append(test_acc31)\n",
    "\n",
    "c=[3,5,10]\n",
    "plt.figure(figsize=(10,7))\n",
    "plt.title(\"Train Validation & Test Accuracy for Information Gain Decision tree\")\n",
    "plt.plot(c,total_train_acc,label='train_accuracy')\n",
    "plt.plot(c,total_valid_acc,label='validation_accuracy')\n",
    "plt.plot(c,total_test_acc, label = 'testing_accuracy')\n",
    "plt.xlabel('Different depth')\n",
    "plt.ylabel('Accuracy')\n",
    "plt.legend(loc='lower right')\n",
    "plt.savefig('Dataset1_TVT_GainDTree')"
   ]
  },
  {
   "cell_type": "code",
   "execution_count": 46,
   "metadata": {},
   "outputs": [
    {
     "name": "stdout",
     "output_type": "stream",
     "text": [
      "Training results:\n",
      "\n",
      "Accuracy Score: 0.8082\n",
      "\n",
      "Confusion Matrix:\n",
      "[[41788  5013]\n",
      " [11243 26724]]\n",
      "\n",
      "Average Accuracy for Train data:\t0.8083\n",
      "\n",
      "Average Accuracy for Validation data :\t0.8078\n",
      "\n",
      "\n",
      "Test results:\n",
      "\n",
      "Accuracy Score: 0.8124\n",
      "\n",
      "Confusion Matrix:\n",
      "[[17998  2089]\n",
      " [ 4725 11518]]\n",
      "\n",
      "\n",
      " ***************************************** \n",
      "\n",
      "Training results:\n",
      "\n",
      "Accuracy Score: 0.8167\n",
      "\n",
      "Confusion Matrix:\n",
      "[[41974  4827]\n",
      " [10707 27260]]\n",
      "\n",
      "Average Accuracy for Train data:\t0.8166\n",
      "\n",
      "Average Accuracy for Validation data :\t0.8145\n",
      "\n",
      "\n",
      "Test results:\n",
      "\n",
      "Accuracy Score: 0.8193\n",
      "\n",
      "Confusion Matrix:\n",
      "[[18056  2031]\n",
      " [ 4534 11709]]\n",
      "\n",
      "\n",
      " ***************************************** \n",
      "\n",
      "Training results:\n",
      "\n",
      "Accuracy Score: 0.8382\n",
      "\n",
      "Confusion Matrix:\n",
      "[[41733  5068]\n",
      " [ 8646 29321]]\n",
      "\n",
      "Average Accuracy for Train data:\t0.8395\n",
      "\n",
      "Average Accuracy for Validation data :\t0.8168\n",
      "\n",
      "\n",
      "Test results:\n",
      "\n",
      "Accuracy Score: 0.8198\n",
      "\n",
      "Confusion Matrix:\n",
      "[[17570  2517]\n",
      " [ 4029 12214]]\n",
      "\n"
     ]
    }
   ],
   "source": [
    "# Classification Trees using GINI Index approach\n",
    "gini_classifier = diff_dep(scaled_X_train, y_train, 3, False)\n",
    "mean_train_acc10, mean_valid_acc10, test_acc10, res10 = print_score(gini_classifier,scaled_X_train,y_train,scaled_X_test,y_test,train=True)\n",
    "mean_train_acc11, mean_valid_acc11, test_acc11, res11 = print_score(gini_classifier,scaled_X_train,y_train,scaled_X_test,y_test,train=False)\n",
    "\n",
    "print(\"\\n ***************************************** \\n\")\n",
    "\n",
    "gini_classifier = diff_dep(scaled_X_train, y_train, 5, False)\n",
    "mean_train_acc20, mean_valid_acc20, test_acc20, res20 = print_score(gini_classifier,scaled_X_train,y_train,scaled_X_test,y_test,train=True)\n",
    "mean_train_acc21, mean_valid_acc21, test_acc21, res21 = print_score(gini_classifier,scaled_X_train,y_train,scaled_X_test,y_test,train=False)\n",
    "\n",
    "print(\"\\n ***************************************** \\n\")\n",
    "\n",
    "gini_classifier = diff_dep(scaled_X_train, y_train, 10, False)\n",
    "mean_train_acc30, mean_valid_acc30, test_acc30, res30 = print_score(gini_classifier,scaled_X_train,y_train,scaled_X_test,y_test,train=True)\n",
    "mean_train_acc31, mean_valid_acc31, test_acc31, res31 = print_score(gini_classifier,scaled_X_train,y_train,scaled_X_test,y_test,train=False)"
   ]
  },
  {
   "cell_type": "code",
   "execution_count": 47,
   "metadata": {},
   "outputs": [],
   "source": [
    "gini_model_acc = test_acc21\n",
    "gini_res = res20"
   ]
  },
  {
   "cell_type": "code",
   "execution_count": 48,
   "metadata": {},
   "outputs": [
    {
     "data": {
      "text/plain": [
       "<matplotlib.legend.Legend at 0x22cad4dce80>"
      ]
     },
     "execution_count": 48,
     "metadata": {},
     "output_type": "execute_result"
    },
    {
     "data": {
      "text/plain": [
       "<Figure size 432x288 with 0 Axes>"
      ]
     },
     "metadata": {},
     "output_type": "display_data"
    },
    {
     "data": {
      "image/png": "[encoded data removed]",
      "text/plain": [
       "<Figure size 720x504 with 1 Axes>"
      ]
     },
     "metadata": {
      "needs_background": "light"
     },
     "output_type": "display_data"
    }
   ],
   "source": [
    "## Plotting the curves of training and test across different depths \n",
    "plt.figure()\n",
    "total_train_acc = []\n",
    "total_train_acc.append(mean_train_acc10)\n",
    "total_train_acc.append(mean_train_acc20)\n",
    "total_train_acc.append(mean_train_acc30)\n",
    "\n",
    "total_valid_acc = []\n",
    "total_valid_acc.append(mean_valid_acc10)\n",
    "total_valid_acc.append(mean_valid_acc20)\n",
    "total_valid_acc.append(mean_valid_acc30)\n",
    "\n",
    "total_test_acc = []\n",
    "total_test_acc.append(test_acc11)\n",
    "total_test_acc.append(test_acc21)\n",
    "total_test_acc.append(test_acc31)\n",
    "\n",
    "c=[3,5,10]\n",
    "plt.figure(figsize=(10,7))\n",
    "plt.title(\"Train Validation & Test Accuracy for Gini Decision tree\")\n",
    "plt.plot(c,total_train_acc,label='train_accuracy')\n",
    "plt.plot(c,total_valid_acc,label='validation_accuracy')\n",
    "plt.plot(c,total_test_acc, label = 'testing_accuracy')\n",
    "plt.legend(loc='lower right')"
   ]
  },
  {
   "cell_type": "code",
   "execution_count": 49,
   "metadata": {},
   "outputs": [],
   "source": [
    "## Boosting algorithm Implementation\n",
    "from sklearn.ensemble import AdaBoostClassifier"
   ]
  },
  {
   "cell_type": "code",
   "execution_count": null,
   "metadata": {},
   "outputs": [],
   "source": [
    "svc=SVC(probability=True, kernel='sigmoid')\n",
    "\n",
    "# Create adaboost classifer object\n",
    "abc =AdaBoostClassifier(n_estimators=50, base_estimator=svc,learning_rate=1)\n",
    "\n",
    "# Train Adaboost Classifer\n",
    "model = abc.fit(X_train, y_train)\n",
    "\n",
    "#Predict the response for test dataset\n",
    "y_pred = model.predict(X_test)\n",
    "\n",
    "\n",
    "# Model Accuracy, how often is the classifier correct?\n",
    "print(\"Accuracy:\",metrics.accuracy_score(y_test, y_pred))"
   ]
  },
  {
   "cell_type": "code",
   "execution_count": null,
   "metadata": {},
   "outputs": [],
   "source": [
    "boost_model_acc = test_acc21\n",
    "boost_res = res20"
   ]
  },
  {
   "cell_type": "code",
   "execution_count": null,
   "metadata": {},
   "outputs": [],
   "source": [
    "#Plotting the curves of training and test across different depths \n",
    "\n",
    "plt.figure(figsize=(10,7))\n",
    "total_train_acc = []\n",
    "total_train_acc.append(mean_train_acc10)\n",
    "total_train_acc.append(mean_train_acc20)\n",
    "total_train_acc.append(mean_train_acc30)\n",
    "\n",
    "total_valid_acc = []\n",
    "total_valid_acc.append(mean_valid_acc10)\n",
    "total_valid_acc.append(mean_valid_acc20)\n",
    "total_valid_acc.append(mean_valid_acc30)\n",
    "\n",
    "total_test_acc = []\n",
    "total_test_acc.append(test_acc11)\n",
    "total_test_acc.append(test_acc21)\n",
    "total_test_acc.append(test_acc31)\n",
    "\n",
    "c=[3,5,10]\n",
    "plt.title(\"Train, Validation & Test Accuracy for AdaBoost\")\n",
    "plt.plot(c,total_train_acc,label='train_accuracy')\n",
    "plt.plot(c,total_valid_acc,label='validation_accuracy')\n",
    "plt.plot(c,total_test_acc, label = 'testing_accuracy')\n",
    "plt.xlabel('Pruning Depth')\n",
    "plt.ylabel('Accuracy')\n",
    "plt.legend(loc='lower right')\n",
    "plt.savefig('Dataset1_TVTAdaboost')"
   ]
  },
  {
   "cell_type": "code",
   "execution_count": null,
   "metadata": {},
   "outputs": [],
   "source": [
    "# accuracy=[model1_acc,0.7513074593999449,0.716597853014038,if_model_acc,boost_model_acc]\n",
    "accuracy=[model1_acc,model3_acc,model4_acc,model5_acc,model6_acc,if_model_acc,boost_model_acc]\n",
    "Functions=['Logistic_Regression','SVM_Linear','SVM_Polynomial','SVM_Sigmoid','Naive Bayes','Decision_tree','Adaboost']\n",
    "plt.figure(figsize=(10,7))\n",
    "plt.barh(Functions,accuracy,alpha=1)\n",
    "plt.xlabel(\"Accuracy\")\n",
    "plt.ylabel(\"Learning Algorithms\")\n",
    "plt.title(\"Comparison of Accuracy between all the Algorithms\")"
   ]
  },
  {
   "cell_type": "code",
   "execution_count": null,
   "metadata": {},
   "outputs": [],
   "source": []
  }
 ],
 "metadata": {
  "kernelspec": {
   "display_name": "Python 3",
   "language": "python",
   "name": "python3"
  },
  "language_info": {
   "codemirror_mode": {
    "name": "ipython",
    "version": 3
   },
   "file_extension": ".py",
   "mimetype": "text/x-python",
   "name": "python",
   "nbconvert_exporter": "python",
   "pygments_lexer": "ipython3",
   "version": "3.7.3"
  }
 },
 "nbformat": 4,
 "nbformat_minor": 2
}
