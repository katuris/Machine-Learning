{
 "cells": [
  {
   "cell_type": "code",
   "execution_count": 17,
   "metadata": {},
   "outputs": [
    {
     "name": "stdout",
     "output_type": "stream",
     "text": [
      "           City   Age    Salary Approved\n",
      "0  Apple Valley  25.0   65000.0      Yes\n",
      "1     Maplewood  30.0   81000.0       No\n",
      "2         Eagan  33.0       NaN      Yes\n",
      "3  Apple Valley  39.0  100000.0       No\n",
      "4     Maplewood  28.0   91000.0      Yes\n",
      "5         Eagan   NaN   66000.0       No\n",
      "6  Apple Valley  40.0   98000.0      Yes\n",
      "7     Maplewood  34.0   86000.0      Yes\n",
      "8         Eagan  25.0   70000.0       No\n",
      "9     Maplewood  24.0   62000.0      Yes\n",
      "\n",
      "[['Apple Valley' 25.0 65000.0]\n",
      " ['Maplewood' 30.0 81000.0]\n",
      " ['Eagan' 33.0 nan]\n",
      " ['Apple Valley' 39.0 100000.0]\n",
      " ['Maplewood' 28.0 91000.0]\n",
      " ['Eagan' nan 66000.0]\n",
      " ['Apple Valley' 40.0 98000.0]\n",
      " ['Maplewood' 34.0 86000.0]\n",
      " ['Eagan' 25.0 70000.0]\n",
      " ['Maplewood' 24.0 62000.0]]\n",
      "\n",
      "['Yes' 'No' 'Yes' 'No' 'Yes' 'No' 'Yes' 'Yes' 'No' 'Yes']\n",
      "\n",
      "[['Apple Valley' 25.0 65000.0]\n",
      " ['Maplewood' 30.0 81000.0]\n",
      " ['Eagan' 33.0 79888.88888888889]\n",
      " ['Apple Valley' 39.0 100000.0]\n",
      " ['Maplewood' 28.0 91000.0]\n",
      " ['Eagan' 30.88888888888889 66000.0]\n",
      " ['Apple Valley' 40.0 98000.0]\n",
      " ['Maplewood' 34.0 86000.0]\n",
      " ['Eagan' 25.0 70000.0]\n",
      " ['Maplewood' 24.0 62000.0]]\n",
      "\n",
      "[[0 25.0 65000.0]\n",
      " [2 30.0 81000.0]\n",
      " [1 33.0 79888.88888888889]\n",
      " [0 39.0 100000.0]\n",
      " [2 28.0 91000.0]\n",
      " [1 30.88888888888889 66000.0]\n",
      " [0 40.0 98000.0]\n",
      " [2 34.0 86000.0]\n",
      " [1 25.0 70000.0]\n",
      " [2 24.0 62000.0]]\n",
      "\n",
      "[[1.00000000e+00 0.00000000e+00 0.00000000e+00 2.50000000e+01\n",
      "  6.50000000e+04]\n",
      " [0.00000000e+00 0.00000000e+00 1.00000000e+00 3.00000000e+01\n",
      "  8.10000000e+04]\n",
      " [0.00000000e+00 1.00000000e+00 0.00000000e+00 3.30000000e+01\n",
      "  7.98888889e+04]\n",
      " [1.00000000e+00 0.00000000e+00 0.00000000e+00 3.90000000e+01\n",
      "  1.00000000e+05]\n",
      " [0.00000000e+00 0.00000000e+00 1.00000000e+00 2.80000000e+01\n",
      "  9.10000000e+04]\n",
      " [0.00000000e+00 1.00000000e+00 0.00000000e+00 3.08888889e+01\n",
      "  6.60000000e+04]\n",
      " [1.00000000e+00 0.00000000e+00 0.00000000e+00 4.00000000e+01\n",
      "  9.80000000e+04]\n",
      " [0.00000000e+00 0.00000000e+00 1.00000000e+00 3.40000000e+01\n",
      "  8.60000000e+04]\n",
      " [0.00000000e+00 1.00000000e+00 0.00000000e+00 2.50000000e+01\n",
      "  7.00000000e+04]\n",
      " [0.00000000e+00 0.00000000e+00 1.00000000e+00 2.40000000e+01\n",
      "  6.20000000e+04]]\n",
      "\n"
     ]
    },
    {
     "name": "stderr",
     "output_type": "stream",
     "text": [
      "C:\\Users\\sahithi katuri\\Anaconda3\\lib\\site-packages\\sklearn\\preprocessing\\_encoders.py:415: FutureWarning: The handling of integer data will change in version 0.22. Currently, the categories are determined based on the range [0, max(values)], while in the future they will be determined based on the unique values.\n",
      "If you want the future behaviour and silence this warning, you can specify \"categories='auto'\".\n",
      "In case you used a LabelEncoder before this OneHotEncoder to convert the categories to integers, then you can now use the OneHotEncoder directly.\n",
      "  warnings.warn(msg, FutureWarning)\n",
      "C:\\Users\\sahithi katuri\\Anaconda3\\lib\\site-packages\\sklearn\\preprocessing\\_encoders.py:451: DeprecationWarning: The 'categorical_features' keyword is deprecated in version 0.20 and will be removed in 0.22. You can use the ColumnTransformer instead.\n",
      "  \"use the ColumnTransformer instead.\", DeprecationWarning)\n"
     ]
    }
   ],
   "source": [
    "import numpy as np\n",
    "import pandas as pd\n",
    "import matplotlib.pyplot as plt \n",
    "\n",
    "dataset=pd.read_csv('loans.csv')\n",
    "print(dataset)\n",
    "dataset.head()\n",
    "dataset.tail()\n",
    "x= dataset.iloc[:,:-1].values\n",
    "y= dataset.iloc[:,3].values\n",
    "print()\n",
    "print(x)\n",
    "print()\n",
    "print(y)\n",
    "print()\n",
    "from sklearn.impute import SimpleImputer\n",
    "imputer = SimpleImputer(missing_values=np.nan, strategy='mean')\n",
    "imputer.fit(x[:,[1,2]])\n",
    "x[:,1:3]= imputer.transform(x[:,1:3])\n",
    "print(x)\n",
    "print()\n",
    "from sklearn.preprocessing import LabelEncoder\n",
    "labelencoder_x = LabelEncoder()\n",
    "x[:,0] = labelencoder_x.fit_transform(x[:,0])\n",
    "print(x)\n",
    "print()\n",
    "from sklearn.preprocessing import LabelEncoder, OneHotEncoder\n",
    "labelencoder_x = LabelEncoder()\n",
    "x[:,0] = labelencoder_x.fit_transform(x[:,0])\n",
    "onehotencoder = OneHotEncoder(categorical_features=[0])\n",
    "x= onehotencoder.fit_transform(x).toarray()\n",
    "print(x)\n",
    "print()\n",
    "#dependent variable\n",
    "labelencoder_y = LabelEncoder()\n",
    "y = labelencoder_y.fit_transform(y)\n",
    "\n",
    "\n",
    "\n",
    "\n",
    "\n"
   ]
  },
  {
   "cell_type": "code",
   "execution_count": 18,
   "metadata": {},
   "outputs": [
    {
     "name": "stdout",
     "output_type": "stream",
     "text": [
      "[1 0 1 0 1 0 1 1 0 1]\n"
     ]
    }
   ],
   "source": [
    "print(y)"
   ]
  },
  {
   "cell_type": "code",
   "execution_count": 20,
   "metadata": {},
   "outputs": [
    {
     "name": "stdout",
     "output_type": "stream",
     "text": [
      "[[0.00000000e+00 1.00000000e+00 0.00000000e+00 3.30000000e+01\n",
      "  7.98888889e+04]\n",
      " [0.00000000e+00 0.00000000e+00 1.00000000e+00 2.40000000e+01\n",
      "  6.20000000e+04]\n",
      " [1.00000000e+00 0.00000000e+00 0.00000000e+00 4.00000000e+01\n",
      "  9.80000000e+04]\n",
      " [0.00000000e+00 1.00000000e+00 0.00000000e+00 3.08888889e+01\n",
      "  6.60000000e+04]\n",
      " [1.00000000e+00 0.00000000e+00 0.00000000e+00 3.90000000e+01\n",
      "  1.00000000e+05]\n",
      " [1.00000000e+00 0.00000000e+00 0.00000000e+00 2.50000000e+01\n",
      "  6.50000000e+04]\n",
      " [0.00000000e+00 1.00000000e+00 0.00000000e+00 2.50000000e+01\n",
      "  7.00000000e+04]\n",
      " [0.00000000e+00 0.00000000e+00 1.00000000e+00 2.80000000e+01\n",
      "  9.10000000e+04]]\n",
      "\n",
      "[1 1 1 0 0 1 0 1]\n",
      "\n",
      "[[0.0e+00 0.0e+00 1.0e+00 3.4e+01 8.6e+04]\n",
      " [0.0e+00 0.0e+00 1.0e+00 3.0e+01 8.1e+04]]\n",
      "\n",
      "[1 0]\n"
     ]
    }
   ],
   "source": [
    "from sklearn.model_selection import train_test_split\n",
    "x_train, x_test, y_train,y_test = train_test_split(x,y,test_size=0.2)\n",
    "print(x_train)\n",
    "print()\n",
    "print(y_train)\n",
    "print()\n",
    "print(x_test)\n",
    "print()\n",
    "print(y_test)"
   ]
  },
  {
   "cell_type": "code",
   "execution_count": 21,
   "metadata": {},
   "outputs": [
    {
     "name": "stdout",
     "output_type": "stream",
     "text": [
      "[15.2 14.6 16.9 13.5 17.  13.1 16.4]\n",
      "[15.43531025 14.77320595 17.32703684 13.54358367 17.42162317 13.07065202\n",
      " 16.75951886]\n"
     ]
    }
   ],
   "source": [
    "dataset = pd.read_csv('gm.csv')\n",
    "X = dataset.iloc[:,:-1].values\n",
    "y = dataset.iloc[:,1].values\n",
    "#Splitting the data into Training Set and Test Set\n",
    "from sklearn.model_selection import train_test_split\n",
    "X_train, X_test, y_train, y_test = train_test_split(X,y,test_size=0.3)\n",
    "from sklearn.linear_model import LinearRegression\n",
    "lrObj = LinearRegression()\n",
    "lrObj.fit(X_train, y_train)\n",
    "y_pred = lrObj.predict(X_test)\n",
    "print(y_test)\n",
    "print(y_pred)"
   ]
  },
  {
   "cell_type": "code",
   "execution_count": 22,
   "metadata": {},
   "outputs": [
    {
     "data": {
      "image/png": "[encoded data removed]",
      "text/plain": [
       "<Figure size 432x288 with 1 Axes>"
      ]
     },
     "metadata": {
      "needs_background": "light"
     },
     "output_type": "display_data"
    }
   ],
   "source": [
    "plt.scatter(X_train,y_train,color='red')\n",
    "plt.plot(X_train, lrObj.predict(X_train), color='blue')\n",
    "plt.title('List Price vs Best Price on Training Set')\n",
    "plt.xlabel('List Price')\n",
    "plt.ylabel('Best Price')\n",
    "plt.show()"
   ]
  },
  {
   "cell_type": "code",
   "execution_count": 23,
   "metadata": {},
   "outputs": [
    {
     "data": {
      "image/png": "[encoded data removed]",
      "text/plain": [
       "<Figure size 432x288 with 1 Axes>"
      ]
     },
     "metadata": {
      "needs_background": "light"
     },
     "output_type": "display_data"
    }
   ],
   "source": [
    "plt.scatter(X_test,y_test,color='red')\n",
    "plt.plot(X_train, lrObj.predict(X_train), color='blue')\n",
    "plt.title('List Price vs Best Price on Testing Set')\n",
    "plt.xlabel('List Price')\n",
    "plt.ylabel('Best Price')\n",
    "plt.show()"
   ]
  },
  {
   "cell_type": "code",
   "execution_count": null,
   "metadata": {},
   "outputs": [],
   "source": []
  }
 ],
 "metadata": {
  "kernelspec": {
   "display_name": "Python 3",
   "language": "python",
   "name": "python3"
  },
  "language_info": {
   "codemirror_mode": {
    "name": "ipython",
    "version": 3
   },
   "file_extension": ".py",
   "mimetype": "text/x-python",
   "name": "python",
   "nbconvert_exporter": "python",
   "pygments_lexer": "ipython3",
   "version": "3.7.3"
  }
 },
 "nbformat": 4,
 "nbformat_minor": 2
}
